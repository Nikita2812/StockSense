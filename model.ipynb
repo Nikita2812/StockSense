{
 "cells": [
  {
   "cell_type": "code",
   "execution_count": 1,
   "id": "71b7d6a8-d691-4bb8-973f-f9c688ca6fd9",
   "metadata": {
    "tags": []
   },
   "outputs": [],
   "source": [
    "import numpy as np\n",
    "import pandas as pd\n",
    "import yfinance as yf\n",
    "import datetime"
   ]
  },
  {
   "cell_type": "code",
   "execution_count": 2,
   "id": "3b5de86d-79cb-44ac-9c46-ce6408007bf4",
   "metadata": {
    "tags": []
   },
   "outputs": [],
   "source": [
    "company= 'ADANIENT.NS'\n",
    "endDate= '2023-01-26'"
   ]
  },
  {
   "cell_type": "code",
   "execution_count": 3,
   "id": "ab3ac44a-8cb7-49a5-a910-e0391aa726e7",
   "metadata": {
    "tags": []
   },
   "outputs": [
    {
     "name": "stdout",
     "output_type": "stream",
     "text": [
      "[*********************100%***********************]  1 of 1 completed\n"
     ]
    },
    {
     "data": {
      "text/html": [
       "<div>\n",
       "<style scoped>\n",
       "    .dataframe tbody tr th:only-of-type {\n",
       "        vertical-align: middle;\n",
       "    }\n",
       "\n",
       "    .dataframe tbody tr th {\n",
       "        vertical-align: top;\n",
       "    }\n",
       "\n",
       "    .dataframe thead th {\n",
       "        text-align: right;\n",
       "    }\n",
       "</style>\n",
       "<table border=\"1\" class=\"dataframe\">\n",
       "  <thead>\n",
       "    <tr style=\"text-align: right;\">\n",
       "      <th></th>\n",
       "      <th>Open</th>\n",
       "      <th>High</th>\n",
       "      <th>Low</th>\n",
       "      <th>Close</th>\n",
       "      <th>Adj Close</th>\n",
       "      <th>Volume</th>\n",
       "    </tr>\n",
       "    <tr>\n",
       "      <th>Date</th>\n",
       "      <th></th>\n",
       "      <th></th>\n",
       "      <th></th>\n",
       "      <th></th>\n",
       "      <th></th>\n",
       "      <th></th>\n",
       "    </tr>\n",
       "  </thead>\n",
       "  <tbody>\n",
       "    <tr>\n",
       "      <th>2002-07-01</th>\n",
       "      <td>1.364148</td>\n",
       "      <td>1.401700</td>\n",
       "      <td>1.334259</td>\n",
       "      <td>1.362615</td>\n",
       "      <td>-0.010447</td>\n",
       "      <td>1080397</td>\n",
       "    </tr>\n",
       "    <tr>\n",
       "      <th>2002-07-02</th>\n",
       "      <td>1.386372</td>\n",
       "      <td>1.390971</td>\n",
       "      <td>1.356484</td>\n",
       "      <td>1.373344</td>\n",
       "      <td>-0.010529</td>\n",
       "      <td>1016147</td>\n",
       "    </tr>\n",
       "    <tr>\n",
       "      <th>2002-07-03</th>\n",
       "      <td>1.371811</td>\n",
       "      <td>1.387139</td>\n",
       "      <td>1.364914</td>\n",
       "      <td>1.373344</td>\n",
       "      <td>-0.010529</td>\n",
       "      <td>980394</td>\n",
       "    </tr>\n",
       "    <tr>\n",
       "      <th>2002-07-04</th>\n",
       "      <td>1.379475</td>\n",
       "      <td>1.401700</td>\n",
       "      <td>1.379475</td>\n",
       "      <td>1.381008</td>\n",
       "      <td>-0.010588</td>\n",
       "      <td>972747</td>\n",
       "    </tr>\n",
       "    <tr>\n",
       "      <th>2002-07-05</th>\n",
       "      <td>1.388672</td>\n",
       "      <td>1.388672</td>\n",
       "      <td>1.372578</td>\n",
       "      <td>1.377942</td>\n",
       "      <td>-0.010565</td>\n",
       "      <td>974496</td>\n",
       "    </tr>\n",
       "    <tr>\n",
       "      <th>...</th>\n",
       "      <td>...</td>\n",
       "      <td>...</td>\n",
       "      <td>...</td>\n",
       "      <td>...</td>\n",
       "      <td>...</td>\n",
       "      <td>...</td>\n",
       "    </tr>\n",
       "    <tr>\n",
       "      <th>2023-01-19</th>\n",
       "      <td>3470.000000</td>\n",
       "      <td>3537.699951</td>\n",
       "      <td>3426.699951</td>\n",
       "      <td>3463.550049</td>\n",
       "      <td>3460.088867</td>\n",
       "      <td>3696319</td>\n",
       "    </tr>\n",
       "    <tr>\n",
       "      <th>2023-01-20</th>\n",
       "      <td>3450.000000</td>\n",
       "      <td>3477.350098</td>\n",
       "      <td>3440.949951</td>\n",
       "      <td>3456.149902</td>\n",
       "      <td>3452.696045</td>\n",
       "      <td>1510258</td>\n",
       "    </tr>\n",
       "    <tr>\n",
       "      <th>2023-01-23</th>\n",
       "      <td>3443.050049</td>\n",
       "      <td>3460.000000</td>\n",
       "      <td>3412.550049</td>\n",
       "      <td>3436.350098</td>\n",
       "      <td>3432.916260</td>\n",
       "      <td>974857</td>\n",
       "    </tr>\n",
       "    <tr>\n",
       "      <th>2023-01-24</th>\n",
       "      <td>3447.449951</td>\n",
       "      <td>3508.000000</td>\n",
       "      <td>3430.000000</td>\n",
       "      <td>3442.000000</td>\n",
       "      <td>3438.560303</td>\n",
       "      <td>1518123</td>\n",
       "    </tr>\n",
       "    <tr>\n",
       "      <th>2023-01-25</th>\n",
       "      <td>3422.000000</td>\n",
       "      <td>3428.000000</td>\n",
       "      <td>3315.000000</td>\n",
       "      <td>3388.949951</td>\n",
       "      <td>3385.563477</td>\n",
       "      <td>3686439</td>\n",
       "    </tr>\n",
       "  </tbody>\n",
       "</table>\n",
       "<p>5115 rows × 6 columns</p>\n",
       "</div>"
      ],
      "text/plain": [
       "                   Open         High          Low        Close    Adj Close   \n",
       "Date                                                                          \n",
       "2002-07-01     1.364148     1.401700     1.334259     1.362615    -0.010447  \\\n",
       "2002-07-02     1.386372     1.390971     1.356484     1.373344    -0.010529   \n",
       "2002-07-03     1.371811     1.387139     1.364914     1.373344    -0.010529   \n",
       "2002-07-04     1.379475     1.401700     1.379475     1.381008    -0.010588   \n",
       "2002-07-05     1.388672     1.388672     1.372578     1.377942    -0.010565   \n",
       "...                 ...          ...          ...          ...          ...   \n",
       "2023-01-19  3470.000000  3537.699951  3426.699951  3463.550049  3460.088867   \n",
       "2023-01-20  3450.000000  3477.350098  3440.949951  3456.149902  3452.696045   \n",
       "2023-01-23  3443.050049  3460.000000  3412.550049  3436.350098  3432.916260   \n",
       "2023-01-24  3447.449951  3508.000000  3430.000000  3442.000000  3438.560303   \n",
       "2023-01-25  3422.000000  3428.000000  3315.000000  3388.949951  3385.563477   \n",
       "\n",
       "             Volume  \n",
       "Date                 \n",
       "2002-07-01  1080397  \n",
       "2002-07-02  1016147  \n",
       "2002-07-03   980394  \n",
       "2002-07-04   972747  \n",
       "2002-07-05   974496  \n",
       "...             ...  \n",
       "2023-01-19  3696319  \n",
       "2023-01-20  1510258  \n",
       "2023-01-23   974857  \n",
       "2023-01-24  1518123  \n",
       "2023-01-25  3686439  \n",
       "\n",
       "[5115 rows x 6 columns]"
      ]
     },
     "execution_count": 3,
     "metadata": {},
     "output_type": "execute_result"
    }
   ],
   "source": [
    "df= yf.download(company, period='max', end= endDate)\n",
    "df"
   ]
  },
  {
   "cell_type": "code",
   "execution_count": 4,
   "id": "befab8ef-6962-4fd4-868d-981004658ce4",
   "metadata": {
    "tags": []
   },
   "outputs": [],
   "source": [
    "trainSet= df.iloc[:, 1:2].values"
   ]
  },
  {
   "cell_type": "code",
   "execution_count": 5,
   "id": "4290e156-96af-4c1f-a302-15f2466d37e0",
   "metadata": {
    "tags": []
   },
   "outputs": [
    {
     "data": {
      "text/plain": [
       "(5115, 6)"
      ]
     },
     "execution_count": 5,
     "metadata": {},
     "output_type": "execute_result"
    }
   ],
   "source": [
    "df.shape"
   ]
  },
  {
   "cell_type": "code",
   "execution_count": 6,
   "id": "79b9ef41-ffae-4acb-9681-1da999bbff45",
   "metadata": {
    "tags": []
   },
   "outputs": [],
   "source": [
    "from sklearn.preprocessing import MinMaxScaler\n",
    "\n",
    "scaler= MinMaxScaler(feature_range=(0,1))"
   ]
  },
  {
   "cell_type": "code",
   "execution_count": 7,
   "id": "fb00b60f-d14f-42ad-b9fc-9271b12a8ff5",
   "metadata": {
    "tags": []
   },
   "outputs": [],
   "source": [
    "trainingSetScaled= scaler.fit_transform(df['Close'].values.reshape(-1,1))"
   ]
  },
  {
   "cell_type": "code",
   "execution_count": 8,
   "id": "8fab11b9-c797-41da-92ef-5290ae68928f",
   "metadata": {
    "tags": []
   },
   "outputs": [],
   "source": [
    "xTRAIN = []\n",
    "yTRAIN = []\n",
    "\n",
    "for i in range(100, len(trainingSetScaled)):\n",
    "    xTRAIN.append(trainingSetScaled[i-60:i, 0])\n",
    "    yTRAIN.append(trainingSetScaled[i, 0])\n",
    "    \n",
    "xTRAIN, yTRAIN= np.array(xTRAIN), np.array(yTRAIN)"
   ]
  },
  {
   "cell_type": "code",
   "execution_count": 9,
   "id": "cbd8001b-4a0a-4fd2-9065-b29386bc062b",
   "metadata": {
    "tags": []
   },
   "outputs": [],
   "source": [
    "xTRAIN= np.reshape(xTRAIN, newshape=(xTRAIN.shape[0], xTRAIN.shape[1], 1))"
   ]
  },
  {
   "cell_type": "code",
   "execution_count": 10,
   "id": "94428c54-0d8b-4ac5-8d29-95fbe0eb9256",
   "metadata": {
    "tags": []
   },
   "outputs": [
    {
     "data": {
      "text/plain": [
       "(5115, 1)"
      ]
     },
     "execution_count": 10,
     "metadata": {},
     "output_type": "execute_result"
    }
   ],
   "source": [
    "trainingSetScaled.shape"
   ]
  },
  {
   "cell_type": "code",
   "execution_count": 11,
   "id": "aa2e976f-2662-4a65-9906-2bcfa27011f8",
   "metadata": {
    "tags": []
   },
   "outputs": [
    {
     "data": {
      "text/plain": [
       "(5015, 60, 1)"
      ]
     },
     "execution_count": 11,
     "metadata": {},
     "output_type": "execute_result"
    }
   ],
   "source": [
    "xTRAIN.shape"
   ]
  },
  {
   "cell_type": "code",
   "execution_count": 12,
   "id": "2348c85d-8b88-4cce-bd14-1c54a71bef66",
   "metadata": {
    "tags": []
   },
   "outputs": [
    {
     "data": {
      "text/plain": [
       "(5015,)"
      ]
     },
     "execution_count": 12,
     "metadata": {},
     "output_type": "execute_result"
    }
   ],
   "source": [
    "yTRAIN.shape"
   ]
  },
  {
   "cell_type": "code",
   "execution_count": 13,
   "id": "5e6b1462-26e3-4444-bdb6-b8a67b2853e6",
   "metadata": {
    "tags": []
   },
   "outputs": [],
   "source": [
    "import tensorflow as tf\n",
    "from tensorflow import keras"
   ]
  },
  {
   "cell_type": "markdown",
   "id": "459ad3d5-8db0-4b49-aa99-8985e640c560",
   "metadata": {
    "tags": []
   },
   "source": [
    "\n",
    "if tf.test.gpu_device_name(): \n",
    "\n",
    "    print('Default GPU Device:{}'.format(tf.test.gpu_device_name()))\n",
    "\n",
    "else:\n",
    "\n",
    "   print(\"Please install GPU version of TF\")"
   ]
  },
  {
   "cell_type": "code",
   "execution_count": 14,
   "id": "d182ec53-6429-4327-a724-f1bf5c1d2ec8",
   "metadata": {
    "tags": []
   },
   "outputs": [],
   "source": [
    "regressor= keras.models.Sequential([\n",
    "    keras.layers.LSTM(units=84, return_sequences= True, input_shape= (xTRAIN.shape[1], 1)),\n",
    "    keras.layers.Dropout(rate= 0.2),\n",
    "    keras.layers.LSTM(units=64, return_sequences= True), \n",
    "    keras.layers.Dropout(rate= 0.2),\n",
    "    keras.layers.LSTM(units=50), \n",
    "    keras.layers.Dropout(rate= 0.2),\n",
    "    keras.layers.Dense(units= 1)\n",
    "])"
   ]
  },
  {
   "cell_type": "code",
   "execution_count": 15,
   "id": "0a41add4-812a-4cf4-8eb4-74f70717b4e2",
   "metadata": {
    "tags": []
   },
   "outputs": [
    {
     "name": "stdout",
     "output_type": "stream",
     "text": [
      "Model: \"sequential\"\n",
      "_________________________________________________________________\n",
      " Layer (type)                Output Shape              Param #   \n",
      "=================================================================\n",
      " lstm (LSTM)                 (None, 60, 84)            28896     \n",
      "                                                                 \n",
      " dropout (Dropout)           (None, 60, 84)            0         \n",
      "                                                                 \n",
      " lstm_1 (LSTM)               (None, 60, 64)            38144     \n",
      "                                                                 \n",
      " dropout_1 (Dropout)         (None, 60, 64)            0         \n",
      "                                                                 \n",
      " lstm_2 (LSTM)               (None, 50)                23000     \n",
      "                                                                 \n",
      " dropout_2 (Dropout)         (None, 50)                0         \n",
      "                                                                 \n",
      " dense (Dense)               (None, 1)                 51        \n",
      "                                                                 \n",
      "=================================================================\n",
      "Total params: 90,091\n",
      "Trainable params: 90,091\n",
      "Non-trainable params: 0\n",
      "_________________________________________________________________\n"
     ]
    }
   ],
   "source": [
    "regressor.summary()"
   ]
  },
  {
   "cell_type": "code",
   "execution_count": 16,
   "id": "fefcacef-bb27-46b4-9c0a-ba9dc874ff36",
   "metadata": {
    "tags": []
   },
   "outputs": [],
   "source": [
    "regressor.compile(optimizer= 'adam', loss= keras.losses.mean_squared_error, metrics=['accuracy'])"
   ]
  },
  {
   "cell_type": "code",
   "execution_count": 41,
   "id": "941f7d2e-5cd5-4a22-8c08-17d610181f14",
   "metadata": {
    "tags": []
   },
   "outputs": [
    {
     "name": "stdout",
     "output_type": "stream",
     "text": [
      "Epoch 1/150\n",
      "157/157 [==============================] - 3s 21ms/step - loss: 2.2120e-04 - accuracy: 3.9880e-04\n",
      "Epoch 2/150\n",
      "157/157 [==============================] - 5s 31ms/step - loss: 2.1763e-04 - accuracy: 3.9880e-04\n",
      "Epoch 3/150\n",
      "157/157 [==============================] - 7s 42ms/step - loss: 2.5907e-04 - accuracy: 3.9880e-04\n",
      "Epoch 4/150\n",
      "157/157 [==============================] - 5s 29ms/step - loss: 2.1708e-04 - accuracy: 3.9880e-04\n",
      "Epoch 5/150\n",
      "157/157 [==============================] - 5s 29ms/step - loss: 1.9715e-04 - accuracy: 3.9880e-04\n",
      "Epoch 6/150\n",
      "157/157 [==============================] - 5s 29ms/step - loss: 2.4411e-04 - accuracy: 3.9880e-04\n",
      "Epoch 7/150\n",
      "157/157 [==============================] - 4s 25ms/step - loss: 2.1965e-04 - accuracy: 3.9880e-04\n",
      "Epoch 8/150\n",
      "157/157 [==============================] - 3s 22ms/step - loss: 2.2819e-04 - accuracy: 3.9880e-04\n",
      "Epoch 9/150\n",
      "157/157 [==============================] - 3s 20ms/step - loss: 2.2553e-04 - accuracy: 3.9880e-04\n",
      "Epoch 10/150\n",
      "157/157 [==============================] - 3s 20ms/step - loss: 2.2974e-04 - accuracy: 3.9880e-04\n",
      "Epoch 11/150\n",
      "157/157 [==============================] - 4s 23ms/step - loss: 2.4010e-04 - accuracy: 3.9880e-04\n",
      "Epoch 12/150\n",
      "157/157 [==============================] - 4s 27ms/step - loss: 2.2817e-04 - accuracy: 3.9880e-04\n",
      "Epoch 13/150\n",
      "157/157 [==============================] - 4s 25ms/step - loss: 2.1394e-04 - accuracy: 3.9880e-04\n",
      "Epoch 14/150\n",
      "157/157 [==============================] - 4s 24ms/step - loss: 2.5603e-04 - accuracy: 3.9880e-04\n",
      "Epoch 15/150\n",
      "157/157 [==============================] - 3s 20ms/step - loss: 2.5751e-04 - accuracy: 3.9880e-04\n",
      "Epoch 16/150\n",
      "157/157 [==============================] - 3s 20ms/step - loss: 2.2862e-04 - accuracy: 3.9880e-04\n",
      "Epoch 17/150\n",
      "157/157 [==============================] - 3s 20ms/step - loss: 2.3010e-04 - accuracy: 3.9880e-04\n",
      "Epoch 18/150\n",
      "157/157 [==============================] - 3s 20ms/step - loss: 2.1184e-04 - accuracy: 3.9880e-04\n",
      "Epoch 19/150\n",
      "157/157 [==============================] - 3s 21ms/step - loss: 2.7277e-04 - accuracy: 3.9880e-04\n",
      "Epoch 20/150\n",
      "157/157 [==============================] - 3s 20ms/step - loss: 2.4768e-04 - accuracy: 3.9880e-04\n",
      "Epoch 21/150\n",
      "157/157 [==============================] - 3s 20ms/step - loss: 2.2942e-04 - accuracy: 3.9880e-04\n",
      "Epoch 22/150\n",
      "157/157 [==============================] - 3s 20ms/step - loss: 2.1376e-04 - accuracy: 3.9880e-04\n",
      "Epoch 23/150\n",
      "157/157 [==============================] - 3s 20ms/step - loss: 2.1879e-04 - accuracy: 3.9880e-04\n",
      "Epoch 24/150\n",
      "157/157 [==============================] - 3s 20ms/step - loss: 2.3455e-04 - accuracy: 3.9880e-04\n",
      "Epoch 25/150\n",
      "157/157 [==============================] - 3s 20ms/step - loss: 2.2439e-04 - accuracy: 3.9880e-04\n",
      "Epoch 26/150\n",
      "157/157 [==============================] - 3s 20ms/step - loss: 2.4225e-04 - accuracy: 3.9880e-04\n",
      "Epoch 27/150\n",
      "157/157 [==============================] - 3s 20ms/step - loss: 2.3889e-04 - accuracy: 3.9880e-04\n",
      "Epoch 28/150\n",
      "157/157 [==============================] - 3s 21ms/step - loss: 2.3572e-04 - accuracy: 3.9880e-04\n",
      "Epoch 29/150\n",
      "157/157 [==============================] - 3s 20ms/step - loss: 2.4807e-04 - accuracy: 3.9880e-04\n",
      "Epoch 30/150\n",
      "157/157 [==============================] - 3s 20ms/step - loss: 2.5211e-04 - accuracy: 3.9880e-04\n",
      "Epoch 31/150\n",
      "157/157 [==============================] - 3s 21ms/step - loss: 2.4750e-04 - accuracy: 3.9880e-04\n",
      "Epoch 32/150\n",
      "157/157 [==============================] - 3s 21ms/step - loss: 2.4382e-04 - accuracy: 3.9880e-04\n",
      "Epoch 33/150\n",
      "157/157 [==============================] - 3s 20ms/step - loss: 2.5505e-04 - accuracy: 3.9880e-04\n",
      "Epoch 34/150\n",
      "157/157 [==============================] - 3s 20ms/step - loss: 2.2245e-04 - accuracy: 3.9880e-04\n",
      "Epoch 35/150\n",
      "157/157 [==============================] - 3s 20ms/step - loss: 2.1949e-04 - accuracy: 3.9880e-04\n",
      "Epoch 36/150\n",
      "157/157 [==============================] - 3s 21ms/step - loss: 2.4334e-04 - accuracy: 3.9880e-04\n",
      "Epoch 37/150\n",
      "157/157 [==============================] - 3s 20ms/step - loss: 1.8667e-04 - accuracy: 3.9880e-04\n",
      "Epoch 38/150\n",
      "157/157 [==============================] - 3s 20ms/step - loss: 2.3779e-04 - accuracy: 3.9880e-04\n",
      "Epoch 39/150\n",
      "157/157 [==============================] - 3s 20ms/step - loss: 2.1655e-04 - accuracy: 3.9880e-04\n",
      "Epoch 40/150\n",
      "157/157 [==============================] - 3s 20ms/step - loss: 1.9807e-04 - accuracy: 3.9880e-04\n",
      "Epoch 41/150\n",
      "157/157 [==============================] - 3s 20ms/step - loss: 2.3664e-04 - accuracy: 3.9880e-04\n",
      "Epoch 42/150\n",
      "157/157 [==============================] - 3s 20ms/step - loss: 2.1520e-04 - accuracy: 3.9880e-04\n",
      "Epoch 43/150\n",
      "157/157 [==============================] - 3s 20ms/step - loss: 2.1834e-04 - accuracy: 3.9880e-04\n",
      "Epoch 44/150\n",
      "157/157 [==============================] - 3s 21ms/step - loss: 2.4728e-04 - accuracy: 3.9880e-04\n",
      "Epoch 45/150\n",
      "157/157 [==============================] - 3s 21ms/step - loss: 2.1995e-04 - accuracy: 3.9880e-04\n",
      "Epoch 46/150\n",
      "157/157 [==============================] - 3s 20ms/step - loss: 2.4386e-04 - accuracy: 3.9880e-04\n",
      "Epoch 47/150\n",
      "157/157 [==============================] - 3s 20ms/step - loss: 2.3720e-04 - accuracy: 3.9880e-04\n",
      "Epoch 48/150\n",
      "157/157 [==============================] - 3s 20ms/step - loss: 2.1955e-04 - accuracy: 3.9880e-04\n",
      "Epoch 49/150\n",
      "157/157 [==============================] - 3s 20ms/step - loss: 1.9932e-04 - accuracy: 3.9880e-04\n",
      "Epoch 50/150\n",
      "157/157 [==============================] - 3s 21ms/step - loss: 2.1065e-04 - accuracy: 3.9880e-04\n",
      "Epoch 51/150\n",
      "157/157 [==============================] - 3s 20ms/step - loss: 2.3211e-04 - accuracy: 3.9880e-04\n",
      "Epoch 52/150\n",
      "157/157 [==============================] - 3s 20ms/step - loss: 1.8340e-04 - accuracy: 3.9880e-04\n",
      "Epoch 53/150\n",
      "157/157 [==============================] - 3s 20ms/step - loss: 2.2957e-04 - accuracy: 3.9880e-04\n",
      "Epoch 54/150\n",
      "157/157 [==============================] - 3s 20ms/step - loss: 2.1837e-04 - accuracy: 3.9880e-04\n",
      "Epoch 55/150\n",
      "157/157 [==============================] - 3s 21ms/step - loss: 2.2519e-04 - accuracy: 3.9880e-04\n",
      "Epoch 56/150\n",
      "157/157 [==============================] - 3s 21ms/step - loss: 2.1755e-04 - accuracy: 3.9880e-04\n",
      "Epoch 57/150\n",
      "157/157 [==============================] - 3s 20ms/step - loss: 2.2597e-04 - accuracy: 3.9880e-04\n",
      "Epoch 58/150\n",
      "157/157 [==============================] - 3s 20ms/step - loss: 2.2025e-04 - accuracy: 3.9880e-04\n",
      "Epoch 59/150\n",
      "157/157 [==============================] - 3s 20ms/step - loss: 2.2091e-04 - accuracy: 3.9880e-04\n",
      "Epoch 60/150\n",
      "157/157 [==============================] - 3s 20ms/step - loss: 1.9393e-04 - accuracy: 3.9880e-04\n",
      "Epoch 61/150\n",
      "157/157 [==============================] - 3s 20ms/step - loss: 2.1868e-04 - accuracy: 3.9880e-04\n",
      "Epoch 62/150\n",
      "157/157 [==============================] - 3s 20ms/step - loss: 2.2455e-04 - accuracy: 3.9880e-04\n",
      "Epoch 63/150\n",
      "157/157 [==============================] - 3s 22ms/step - loss: 2.2387e-04 - accuracy: 3.9880e-04\n",
      "Epoch 64/150\n",
      "157/157 [==============================] - 3s 21ms/step - loss: 2.5785e-04 - accuracy: 3.9880e-04\n",
      "Epoch 65/150\n",
      "157/157 [==============================] - 3s 20ms/step - loss: 2.2901e-04 - accuracy: 3.9880e-04\n",
      "Epoch 66/150\n",
      "157/157 [==============================] - 4s 25ms/step - loss: 2.1654e-04 - accuracy: 3.9880e-04\n",
      "Epoch 67/150\n",
      "157/157 [==============================] - 5s 34ms/step - loss: 2.2651e-04 - accuracy: 3.9880e-04\n",
      "Epoch 68/150\n",
      "157/157 [==============================] - 4s 23ms/step - loss: 2.5875e-04 - accuracy: 3.9880e-04\n",
      "Epoch 69/150\n",
      "157/157 [==============================] - 3s 22ms/step - loss: 2.2395e-04 - accuracy: 3.9880e-04\n",
      "Epoch 70/150\n",
      "157/157 [==============================] - 3s 22ms/step - loss: 2.2153e-04 - accuracy: 3.9880e-04\n",
      "Epoch 71/150\n",
      "157/157 [==============================] - 3s 22ms/step - loss: 2.3184e-04 - accuracy: 3.9880e-04\n",
      "Epoch 72/150\n",
      "157/157 [==============================] - 3s 21ms/step - loss: 2.4049e-04 - accuracy: 3.9880e-04\n",
      "Epoch 73/150\n",
      "157/157 [==============================] - 3s 22ms/step - loss: 2.4507e-04 - accuracy: 3.9880e-04\n",
      "Epoch 74/150\n",
      "157/157 [==============================] - 3s 22ms/step - loss: 2.4129e-04 - accuracy: 3.9880e-04\n",
      "Epoch 75/150\n",
      "157/157 [==============================] - 3s 21ms/step - loss: 2.1494e-04 - accuracy: 3.9880e-04\n",
      "Epoch 76/150\n",
      "157/157 [==============================] - 3s 22ms/step - loss: 2.1601e-04 - accuracy: 3.9880e-04\n",
      "Epoch 77/150\n",
      "157/157 [==============================] - 3s 22ms/step - loss: 2.3308e-04 - accuracy: 3.9880e-04\n",
      "Epoch 78/150\n",
      "157/157 [==============================] - 3s 21ms/step - loss: 2.1906e-04 - accuracy: 3.9880e-04\n",
      "Epoch 79/150\n",
      "157/157 [==============================] - 3s 22ms/step - loss: 2.1959e-04 - accuracy: 3.9880e-04\n",
      "Epoch 80/150\n",
      "157/157 [==============================] - 3s 21ms/step - loss: 2.1336e-04 - accuracy: 3.9880e-04\n",
      "Epoch 81/150\n",
      "157/157 [==============================] - 3s 22ms/step - loss: 2.0620e-04 - accuracy: 3.9880e-04\n",
      "Epoch 82/150\n",
      "157/157 [==============================] - 3s 21ms/step - loss: 2.0816e-04 - accuracy: 3.9880e-04\n",
      "Epoch 83/150\n",
      "157/157 [==============================] - 3s 21ms/step - loss: 2.3081e-04 - accuracy: 3.9880e-04\n",
      "Epoch 84/150\n",
      "157/157 [==============================] - 3s 22ms/step - loss: 2.2116e-04 - accuracy: 3.9880e-04\n",
      "Epoch 85/150\n",
      "157/157 [==============================] - 3s 21ms/step - loss: 2.1245e-04 - accuracy: 3.9880e-04\n",
      "Epoch 86/150\n",
      "157/157 [==============================] - 3s 21ms/step - loss: 1.8189e-04 - accuracy: 3.9880e-04\n",
      "Epoch 87/150\n",
      "157/157 [==============================] - 3s 22ms/step - loss: 2.0004e-04 - accuracy: 3.9880e-04\n",
      "Epoch 88/150\n",
      "157/157 [==============================] - 3s 21ms/step - loss: 2.2416e-04 - accuracy: 3.9880e-04\n",
      "Epoch 89/150\n",
      "157/157 [==============================] - 3s 21ms/step - loss: 2.0264e-04 - accuracy: 3.9880e-04\n",
      "Epoch 90/150\n",
      "157/157 [==============================] - 3s 22ms/step - loss: 2.2253e-04 - accuracy: 3.9880e-04\n",
      "Epoch 91/150\n",
      "157/157 [==============================] - 4s 27ms/step - loss: 2.1592e-04 - accuracy: 3.9880e-04\n",
      "Epoch 92/150\n",
      "157/157 [==============================] - 3s 21ms/step - loss: 2.3511e-04 - accuracy: 3.9880e-04\n",
      "Epoch 93/150\n",
      "157/157 [==============================] - 3s 21ms/step - loss: 2.1620e-04 - accuracy: 3.9880e-04\n",
      "Epoch 94/150\n",
      "157/157 [==============================] - 3s 20ms/step - loss: 2.5021e-04 - accuracy: 3.9880e-04\n",
      "Epoch 95/150\n",
      "157/157 [==============================] - 4s 27ms/step - loss: 2.1126e-04 - accuracy: 3.9880e-04\n",
      "Epoch 96/150\n",
      "157/157 [==============================] - 4s 24ms/step - loss: 2.3262e-04 - accuracy: 3.9880e-04\n",
      "Epoch 97/150\n",
      "157/157 [==============================] - 3s 22ms/step - loss: 2.0762e-04 - accuracy: 3.9880e-04\n",
      "Epoch 98/150\n",
      "157/157 [==============================] - 3s 22ms/step - loss: 2.3910e-04 - accuracy: 3.9880e-04\n",
      "Epoch 99/150\n",
      "157/157 [==============================] - 4s 23ms/step - loss: 2.1876e-04 - accuracy: 3.9880e-04\n",
      "Epoch 100/150\n",
      "157/157 [==============================] - 3s 22ms/step - loss: 2.2265e-04 - accuracy: 3.9880e-04\n",
      "Epoch 101/150\n",
      "157/157 [==============================] - 3s 21ms/step - loss: 1.8982e-04 - accuracy: 3.9880e-04\n",
      "Epoch 102/150\n",
      "157/157 [==============================] - 3s 22ms/step - loss: 2.6459e-04 - accuracy: 3.9880e-04\n",
      "Epoch 103/150\n",
      "157/157 [==============================] - 5s 30ms/step - loss: 2.1590e-04 - accuracy: 3.9880e-04\n",
      "Epoch 104/150\n",
      "157/157 [==============================] - 4s 26ms/step - loss: 2.0662e-04 - accuracy: 3.9880e-04\n",
      "Epoch 105/150\n",
      "157/157 [==============================] - 3s 22ms/step - loss: 2.6316e-04 - accuracy: 3.9880e-04\n",
      "Epoch 106/150\n",
      "157/157 [==============================] - 3s 21ms/step - loss: 2.2797e-04 - accuracy: 3.9880e-04\n",
      "Epoch 107/150\n",
      "157/157 [==============================] - 3s 21ms/step - loss: 1.9126e-04 - accuracy: 3.9880e-04\n",
      "Epoch 108/150\n",
      "157/157 [==============================] - 3s 21ms/step - loss: 2.1828e-04 - accuracy: 3.9880e-04\n",
      "Epoch 109/150\n",
      "157/157 [==============================] - 4s 24ms/step - loss: 1.7396e-04 - accuracy: 3.9880e-04\n",
      "Epoch 110/150\n",
      "157/157 [==============================] - 4s 23ms/step - loss: 2.4837e-04 - accuracy: 3.9880e-04\n",
      "Epoch 111/150\n",
      "157/157 [==============================] - 3s 21ms/step - loss: 2.3506e-04 - accuracy: 3.9880e-04\n",
      "Epoch 112/150\n",
      "157/157 [==============================] - 3s 21ms/step - loss: 2.0625e-04 - accuracy: 3.9880e-04\n",
      "Epoch 113/150\n",
      "157/157 [==============================] - 3s 21ms/step - loss: 2.2249e-04 - accuracy: 3.9880e-04\n",
      "Epoch 114/150\n",
      "157/157 [==============================] - 4s 23ms/step - loss: 1.9282e-04 - accuracy: 3.9880e-04\n",
      "Epoch 115/150\n",
      "157/157 [==============================] - 4s 24ms/step - loss: 1.9889e-04 - accuracy: 3.9880e-04\n",
      "Epoch 116/150\n",
      "157/157 [==============================] - 3s 20ms/step - loss: 2.2629e-04 - accuracy: 3.9880e-04\n",
      "Epoch 117/150\n",
      "157/157 [==============================] - 3s 21ms/step - loss: 2.3798e-04 - accuracy: 3.9880e-04\n",
      "Epoch 118/150\n",
      "157/157 [==============================] - 4s 23ms/step - loss: 2.0802e-04 - accuracy: 3.9880e-04\n",
      "Epoch 119/150\n",
      "157/157 [==============================] - 3s 21ms/step - loss: 2.0341e-04 - accuracy: 3.9880e-04\n",
      "Epoch 120/150\n",
      "157/157 [==============================] - 3s 20ms/step - loss: 2.3848e-04 - accuracy: 3.9880e-04\n",
      "Epoch 121/150\n",
      "157/157 [==============================] - 3s 20ms/step - loss: 2.2739e-04 - accuracy: 3.9880e-04\n",
      "Epoch 122/150\n",
      "157/157 [==============================] - 3s 21ms/step - loss: 2.5227e-04 - accuracy: 3.9880e-04\n",
      "Epoch 123/150\n",
      "157/157 [==============================] - 3s 22ms/step - loss: 2.2257e-04 - accuracy: 3.9880e-04\n",
      "Epoch 124/150\n",
      "157/157 [==============================] - 4s 27ms/step - loss: 2.2018e-04 - accuracy: 3.9880e-04\n",
      "Epoch 125/150\n",
      "157/157 [==============================] - 4s 26ms/step - loss: 2.1092e-04 - accuracy: 3.9880e-04\n",
      "Epoch 126/150\n",
      "157/157 [==============================] - 3s 21ms/step - loss: 2.0169e-04 - accuracy: 3.9880e-04\n",
      "Epoch 127/150\n",
      "157/157 [==============================] - 4s 24ms/step - loss: 2.4164e-04 - accuracy: 3.9880e-04\n",
      "Epoch 128/150\n",
      "157/157 [==============================] - 4s 24ms/step - loss: 2.1437e-04 - accuracy: 3.9880e-04\n",
      "Epoch 129/150\n",
      "157/157 [==============================] - 5s 33ms/step - loss: 1.7827e-04 - accuracy: 3.9880e-04\n",
      "Epoch 130/150\n",
      "157/157 [==============================] - 4s 26ms/step - loss: 2.2972e-04 - accuracy: 3.9880e-04\n",
      "Epoch 131/150\n",
      "157/157 [==============================] - 4s 25ms/step - loss: 2.2382e-04 - accuracy: 3.9880e-04\n",
      "Epoch 132/150\n",
      "157/157 [==============================] - 4s 23ms/step - loss: 2.3552e-04 - accuracy: 3.9880e-04\n",
      "Epoch 133/150\n",
      "157/157 [==============================] - 4s 24ms/step - loss: 1.9929e-04 - accuracy: 3.9880e-04\n",
      "Epoch 134/150\n",
      "157/157 [==============================] - 4s 24ms/step - loss: 2.3343e-04 - accuracy: 3.9880e-04\n",
      "Epoch 135/150\n",
      "157/157 [==============================] - 3s 20ms/step - loss: 2.1729e-04 - accuracy: 3.9880e-04\n",
      "Epoch 136/150\n",
      "157/157 [==============================] - 3s 20ms/step - loss: 1.9955e-04 - accuracy: 3.9880e-04\n",
      "Epoch 137/150\n",
      "157/157 [==============================] - 3s 20ms/step - loss: 2.7851e-04 - accuracy: 3.9880e-04\n",
      "Epoch 138/150\n",
      "157/157 [==============================] - 3s 20ms/step - loss: 2.1078e-04 - accuracy: 3.9880e-04\n",
      "Epoch 139/150\n",
      "157/157 [==============================] - 3s 20ms/step - loss: 2.0307e-04 - accuracy: 3.9880e-04\n",
      "Epoch 140/150\n",
      "157/157 [==============================] - 3s 22ms/step - loss: 1.9072e-04 - accuracy: 3.9880e-04\n",
      "Epoch 141/150\n",
      "157/157 [==============================] - 4s 24ms/step - loss: 2.2587e-04 - accuracy: 3.9880e-04\n",
      "Epoch 142/150\n",
      "157/157 [==============================] - 4s 23ms/step - loss: 2.2172e-04 - accuracy: 3.9880e-04\n",
      "Epoch 143/150\n",
      "157/157 [==============================] - 4s 23ms/step - loss: 2.6294e-04 - accuracy: 3.9880e-04\n",
      "Epoch 144/150\n",
      "157/157 [==============================] - 3s 21ms/step - loss: 2.1240e-04 - accuracy: 3.9880e-04\n",
      "Epoch 145/150\n",
      "157/157 [==============================] - 4s 26ms/step - loss: 2.0851e-04 - accuracy: 3.9880e-04\n",
      "Epoch 146/150\n",
      "157/157 [==============================] - 4s 26ms/step - loss: 1.9897e-04 - accuracy: 3.9880e-04\n",
      "Epoch 147/150\n",
      "157/157 [==============================] - 3s 22ms/step - loss: 2.2268e-04 - accuracy: 3.9880e-04\n",
      "Epoch 148/150\n",
      "157/157 [==============================] - 3s 21ms/step - loss: 2.1281e-04 - accuracy: 3.9880e-04\n",
      "Epoch 149/150\n",
      "157/157 [==============================] - 4s 25ms/step - loss: 2.1159e-04 - accuracy: 3.9880e-04\n",
      "Epoch 150/150\n",
      "157/157 [==============================] - 4s 28ms/step - loss: 2.2870e-04 - accuracy: 3.9880e-04\n"
     ]
    },
    {
     "data": {
      "text/plain": [
       "<keras.callbacks.History at 0x26939363c40>"
      ]
     },
     "execution_count": 41,
     "metadata": {},
     "output_type": "execute_result"
    }
   ],
   "source": [
    "regressor.fit(x= xTRAIN, y=yTRAIN, batch_size= 32, epochs= 150)"
   ]
  },
  {
   "cell_type": "code",
   "execution_count": 18,
   "id": "82a1215b-90c1-49fa-8bd6-e5c7c678bb2c",
   "metadata": {
    "tags": []
   },
   "outputs": [
    {
     "name": "stdout",
     "output_type": "stream",
     "text": [
      "157/157 [==============================] - 2s 8ms/step\n"
     ]
    }
   ],
   "source": [
    "prdctn= regressor.predict(xTRAIN)"
   ]
  },
  {
   "cell_type": "markdown",
   "id": "02c5a51c-6b13-41a0-b80d-854541b6322d",
   "metadata": {
    "tags": []
   },
   "source": [
    "regressor.save(f\"../model/exports/{company}/\")"
   ]
  },
  {
   "cell_type": "code",
   "execution_count": 19,
   "id": "e1cf83bd-e094-4ff0-8055-d7dd5b781a1b",
   "metadata": {
    "tags": []
   },
   "outputs": [
    {
     "name": "stdout",
     "output_type": "stream",
     "text": [
      "[*********************100%***********************]  1 of 1 completed\n"
     ]
    },
    {
     "data": {
      "text/html": [
       "<div>\n",
       "<style scoped>\n",
       "    .dataframe tbody tr th:only-of-type {\n",
       "        vertical-align: middle;\n",
       "    }\n",
       "\n",
       "    .dataframe tbody tr th {\n",
       "        vertical-align: top;\n",
       "    }\n",
       "\n",
       "    .dataframe thead th {\n",
       "        text-align: right;\n",
       "    }\n",
       "</style>\n",
       "<table border=\"1\" class=\"dataframe\">\n",
       "  <thead>\n",
       "    <tr style=\"text-align: right;\">\n",
       "      <th></th>\n",
       "      <th>Open</th>\n",
       "      <th>High</th>\n",
       "      <th>Low</th>\n",
       "      <th>Close</th>\n",
       "      <th>Adj Close</th>\n",
       "      <th>Volume</th>\n",
       "    </tr>\n",
       "    <tr>\n",
       "      <th>Date</th>\n",
       "      <th></th>\n",
       "      <th></th>\n",
       "      <th></th>\n",
       "      <th></th>\n",
       "      <th></th>\n",
       "      <th></th>\n",
       "    </tr>\n",
       "  </thead>\n",
       "  <tbody>\n",
       "    <tr>\n",
       "      <th>2023-01-27</th>\n",
       "      <td>3335.000000</td>\n",
       "      <td>3346.500000</td>\n",
       "      <td>2712.000000</td>\n",
       "      <td>2761.449951</td>\n",
       "      <td>2758.690430</td>\n",
       "      <td>14764368</td>\n",
       "    </tr>\n",
       "    <tr>\n",
       "      <th>2023-01-30</th>\n",
       "      <td>2850.000000</td>\n",
       "      <td>3037.550049</td>\n",
       "      <td>2665.000000</td>\n",
       "      <td>2892.850098</td>\n",
       "      <td>2889.959229</td>\n",
       "      <td>20947906</td>\n",
       "    </tr>\n",
       "    <tr>\n",
       "      <th>2023-01-31</th>\n",
       "      <td>2980.000000</td>\n",
       "      <td>3073.600098</td>\n",
       "      <td>2906.000000</td>\n",
       "      <td>2973.899902</td>\n",
       "      <td>2970.927979</td>\n",
       "      <td>11568020</td>\n",
       "    </tr>\n",
       "    <tr>\n",
       "      <th>2023-02-01</th>\n",
       "      <td>2995.000000</td>\n",
       "      <td>3010.750000</td>\n",
       "      <td>1941.199951</td>\n",
       "      <td>2135.350098</td>\n",
       "      <td>2133.216064</td>\n",
       "      <td>13525314</td>\n",
       "    </tr>\n",
       "    <tr>\n",
       "      <th>2023-02-02</th>\n",
       "      <td>2348.850098</td>\n",
       "      <td>2348.850098</td>\n",
       "      <td>1494.750000</td>\n",
       "      <td>1565.250000</td>\n",
       "      <td>1563.685791</td>\n",
       "      <td>34474080</td>\n",
       "    </tr>\n",
       "    <tr>\n",
       "      <th>...</th>\n",
       "      <td>...</td>\n",
       "      <td>...</td>\n",
       "      <td>...</td>\n",
       "      <td>...</td>\n",
       "      <td>...</td>\n",
       "      <td>...</td>\n",
       "    </tr>\n",
       "    <tr>\n",
       "      <th>2023-07-17</th>\n",
       "      <td>2399.899902</td>\n",
       "      <td>2459.500000</td>\n",
       "      <td>2391.300049</td>\n",
       "      <td>2408.550049</td>\n",
       "      <td>2408.550049</td>\n",
       "      <td>3090373</td>\n",
       "    </tr>\n",
       "    <tr>\n",
       "      <th>2023-07-18</th>\n",
       "      <td>2415.000000</td>\n",
       "      <td>2510.000000</td>\n",
       "      <td>2405.199951</td>\n",
       "      <td>2416.899902</td>\n",
       "      <td>2416.899902</td>\n",
       "      <td>5978272</td>\n",
       "    </tr>\n",
       "    <tr>\n",
       "      <th>2023-07-19</th>\n",
       "      <td>2428.649902</td>\n",
       "      <td>2443.000000</td>\n",
       "      <td>2416.899902</td>\n",
       "      <td>2423.750000</td>\n",
       "      <td>2423.750000</td>\n",
       "      <td>1637260</td>\n",
       "    </tr>\n",
       "    <tr>\n",
       "      <th>2023-07-20</th>\n",
       "      <td>2428.949951</td>\n",
       "      <td>2433.899902</td>\n",
       "      <td>2400.000000</td>\n",
       "      <td>2419.750000</td>\n",
       "      <td>2419.750000</td>\n",
       "      <td>1564275</td>\n",
       "    </tr>\n",
       "    <tr>\n",
       "      <th>2023-07-21</th>\n",
       "      <td>2410.000000</td>\n",
       "      <td>2457.850098</td>\n",
       "      <td>2395.300049</td>\n",
       "      <td>2416.300049</td>\n",
       "      <td>2416.300049</td>\n",
       "      <td>2280563</td>\n",
       "    </tr>\n",
       "  </tbody>\n",
       "</table>\n",
       "<p>119 rows × 6 columns</p>\n",
       "</div>"
      ],
      "text/plain": [
       "                   Open         High          Low        Close    Adj Close   \n",
       "Date                                                                          \n",
       "2023-01-27  3335.000000  3346.500000  2712.000000  2761.449951  2758.690430  \\\n",
       "2023-01-30  2850.000000  3037.550049  2665.000000  2892.850098  2889.959229   \n",
       "2023-01-31  2980.000000  3073.600098  2906.000000  2973.899902  2970.927979   \n",
       "2023-02-01  2995.000000  3010.750000  1941.199951  2135.350098  2133.216064   \n",
       "2023-02-02  2348.850098  2348.850098  1494.750000  1565.250000  1563.685791   \n",
       "...                 ...          ...          ...          ...          ...   \n",
       "2023-07-17  2399.899902  2459.500000  2391.300049  2408.550049  2408.550049   \n",
       "2023-07-18  2415.000000  2510.000000  2405.199951  2416.899902  2416.899902   \n",
       "2023-07-19  2428.649902  2443.000000  2416.899902  2423.750000  2423.750000   \n",
       "2023-07-20  2428.949951  2433.899902  2400.000000  2419.750000  2419.750000   \n",
       "2023-07-21  2410.000000  2457.850098  2395.300049  2416.300049  2416.300049   \n",
       "\n",
       "              Volume  \n",
       "Date                  \n",
       "2023-01-27  14764368  \n",
       "2023-01-30  20947906  \n",
       "2023-01-31  11568020  \n",
       "2023-02-01  13525314  \n",
       "2023-02-02  34474080  \n",
       "...              ...  \n",
       "2023-07-17   3090373  \n",
       "2023-07-18   5978272  \n",
       "2023-07-19   1637260  \n",
       "2023-07-20   1564275  \n",
       "2023-07-21   2280563  \n",
       "\n",
       "[119 rows x 6 columns]"
      ]
     },
     "execution_count": 19,
     "metadata": {},
     "output_type": "execute_result"
    }
   ],
   "source": [
    "testDF= yf.download(company, period='1d', start=endDate, end=datetime.datetime.now())\n",
    "testDF"
   ]
  },
  {
   "cell_type": "code",
   "execution_count": 20,
   "id": "389e55a0-69eb-47cf-911a-c25a144e7f54",
   "metadata": {
    "tags": []
   },
   "outputs": [],
   "source": [
    "realCP= testDF['Close'].values"
   ]
  },
  {
   "cell_type": "code",
   "execution_count": 21,
   "id": "b0b39f2a-b963-42e2-ac19-b094e7a600eb",
   "metadata": {
    "tags": []
   },
   "outputs": [],
   "source": [
    "dfTotal= pd.concat((df['Close'], testDF['Close']), axis=0)"
   ]
  },
  {
   "cell_type": "code",
   "execution_count": 22,
   "id": "1d38eef2-00f4-48ae-9995-45097a8e46d8",
   "metadata": {
    "tags": []
   },
   "outputs": [],
   "source": [
    "modelInp= dfTotal[len(dfTotal)-len(testDF)-60:].values"
   ]
  },
  {
   "cell_type": "code",
   "execution_count": 23,
   "id": "efadd80d-1716-4048-bbb8-9a25d60d02e4",
   "metadata": {
    "tags": []
   },
   "outputs": [],
   "source": [
    "modelInp= modelInp.reshape(-1,1)"
   ]
  },
  {
   "cell_type": "code",
   "execution_count": 24,
   "id": "129d98f2-7644-4d32-ab0a-b6f178ae339a",
   "metadata": {
    "tags": []
   },
   "outputs": [],
   "source": [
    "modelInp= scaler.transform(modelInp)"
   ]
  },
  {
   "cell_type": "code",
   "execution_count": 25,
   "id": "215cec3c-4799-4d2a-b96b-659e853a792a",
   "metadata": {
    "tags": []
   },
   "outputs": [],
   "source": [
    "xTEST= []\n",
    "\n",
    "for i in range(60, len(modelInp)):\n",
    "    xTEST.append(modelInp[i-60:i, 0])\n",
    "\n",
    "xTEST= np.array(xTEST)"
   ]
  },
  {
   "cell_type": "code",
   "execution_count": 26,
   "id": "46abbba4-f265-46e6-b2e2-82faf84b9fbc",
   "metadata": {
    "tags": []
   },
   "outputs": [
    {
     "data": {
      "text/plain": [
       "(119, 60)"
      ]
     },
     "execution_count": 26,
     "metadata": {},
     "output_type": "execute_result"
    }
   ],
   "source": [
    "xTEST.shape"
   ]
  },
  {
   "cell_type": "code",
   "execution_count": 27,
   "id": "7508bf79-7a2a-404b-bc04-78fca7301d88",
   "metadata": {
    "tags": []
   },
   "outputs": [],
   "source": [
    "xTEST= np.reshape(xTEST, newshape= (xTEST.shape[0], xTEST.shape[1], 1))"
   ]
  },
  {
   "cell_type": "code",
   "execution_count": 28,
   "id": "90fabbdf-9e5b-485e-b60b-864bcf66bf38",
   "metadata": {
    "tags": []
   },
   "outputs": [],
   "source": [
    "#pred = pred[..., 0]"
   ]
  },
  {
   "cell_type": "code",
   "execution_count": 29,
   "id": "55905254-03e5-422e-91a2-ae829100169c",
   "metadata": {
    "tags": []
   },
   "outputs": [
    {
     "name": "stdout",
     "output_type": "stream",
     "text": [
      "4/4 [==============================] - 0s 11ms/step\n"
     ]
    }
   ],
   "source": [
    "pred= regressor.predict(xTEST)"
   ]
  },
  {
   "cell_type": "code",
   "execution_count": 30,
   "id": "d632f691-866a-4672-8f85-c9fe50db3e7e",
   "metadata": {
    "tags": []
   },
   "outputs": [],
   "source": [
    "pred= scaler.inverse_transform(pred)"
   ]
  },
  {
   "cell_type": "code",
   "execution_count": 31,
   "id": "18057536-819d-4b2a-88cc-a47ffad1db0f",
   "metadata": {
    "tags": []
   },
   "outputs": [
    {
     "data": {
      "text/plain": [
       "(119, 1)"
      ]
     },
     "execution_count": 31,
     "metadata": {},
     "output_type": "execute_result"
    }
   ],
   "source": [
    "pred.shape"
   ]
  },
  {
   "cell_type": "code",
   "execution_count": 32,
   "id": "bab731b6-96d6-4757-a779-f7bdf9932dd1",
   "metadata": {
    "tags": []
   },
   "outputs": [],
   "source": [
    "import matplotlib.pyplot as plt"
   ]
  },
  {
   "cell_type": "code",
   "execution_count": 33,
   "id": "74299f9a-93c1-4c0f-849b-b7a01dd2657a",
   "metadata": {},
   "outputs": [
    {
     "data": {
      "image/png": "[encoded data removed]",
      "text/plain": [
       "<Figure size 640x480 with 1 Axes>"
      ]
     },
     "metadata": {},
     "output_type": "display_data"
    }
   ],
   "source": [
    "plt.plot(realCP, color= 'r', label= 'real close price')\n",
    "plt.plot(pred, color= 'b', label= 'predicted close price')\n",
    "plt.title(company)\n",
    "plt.legend()\n",
    "plt.show()"
   ]
  },
  {
   "cell_type": "code",
   "execution_count": 34,
   "id": "143aaaeb-a2cd-4213-afb2-b7f96e2bd61b",
   "metadata": {},
   "outputs": [],
   "source": [
    "realData= [modelInp[len(modelInp)+1-60:len(modelInp+1), 0]]"
   ]
  },
  {
   "cell_type": "code",
   "execution_count": 35,
   "id": "b7790752-9217-44a3-972f-9d0dd52fc21a",
   "metadata": {
    "tags": []
   },
   "outputs": [],
   "source": [
    "realData= np.array(realData)"
   ]
  },
  {
   "cell_type": "code",
   "execution_count": 36,
   "id": "d0d14766-e093-4c4f-96d3-7aba1a23a870",
   "metadata": {
    "tags": []
   },
   "outputs": [],
   "source": [
    "realData= np.reshape(realData, newshape=(realData.shape[0], realData.shape[1], 1))"
   ]
  },
  {
   "cell_type": "code",
   "execution_count": 37,
   "id": "d77a0da8-bf64-48a8-a4d5-35661339b47e",
   "metadata": {
    "tags": []
   },
   "outputs": [
    {
     "name": "stdout",
     "output_type": "stream",
     "text": [
      "1/1 [==============================] - 1s 872ms/step\n"
     ]
    }
   ],
   "source": [
    "prediction= regressor.predict(realData)"
   ]
  },
  {
   "cell_type": "code",
   "execution_count": 38,
   "id": "02347ad7-ffae-48ad-a9b2-4ec5c20b1c2a",
   "metadata": {
    "tags": []
   },
   "outputs": [],
   "source": [
    "prediction= scaler.inverse_transform(prediction)"
   ]
  },
  {
   "cell_type": "code",
   "execution_count": 39,
   "id": "09566a1f-f9cc-4889-85b2-338b02787ee1",
   "metadata": {
    "tags": []
   },
   "outputs": [
    {
     "data": {
      "text/plain": [
       "array([[2555.9048]], dtype=float32)"
      ]
     },
     "execution_count": 39,
     "metadata": {},
     "output_type": "execute_result"
    }
   ],
   "source": [
    "prediction"
   ]
  },
  {
   "cell_type": "code",
   "execution_count": 40,
   "id": "39742b81-2f89-4430-892d-538f5f2581eb",
   "metadata": {
    "tags": []
   },
   "outputs": [
    {
     "name": "stderr",
     "output_type": "stream",
     "text": [
      "WARNING:absl:Found untraced functions such as lstm_cell_layer_call_fn, lstm_cell_layer_call_and_return_conditional_losses, lstm_cell_1_layer_call_fn, lstm_cell_1_layer_call_and_return_conditional_losses, lstm_cell_2_layer_call_fn while saving (showing 5 of 6). These functions will not be directly callable after loading.\n"
     ]
    },
    {
     "name": "stdout",
     "output_type": "stream",
     "text": [
      "INFO:tensorflow:Assets written to: C:\\Users\\Rohan\\AppData\\Local\\Temp\\tmpc5s7ivy1\\assets\n"
     ]
    },
    {
     "name": "stderr",
     "output_type": "stream",
     "text": [
      "INFO:tensorflow:Assets written to: C:\\Users\\Rohan\\AppData\\Local\\Temp\\tmpc5s7ivy1\\assets\n"
     ]
    },
    {
     "ename": "NameError",
     "evalue": "name 'tflite_model_path' is not defined",
     "output_type": "error",
     "traceback": [
      "\u001b[1;31m---------------------------------------------------------------------------\u001b[0m",
      "\u001b[1;31mNameError\u001b[0m                                 Traceback (most recent call last)",
      "Cell \u001b[1;32mIn[40], line 12\u001b[0m\n\u001b[0;32m      8\u001b[0m tflite_model \u001b[38;5;241m=\u001b[39m converter\u001b[38;5;241m.\u001b[39mconvert()\n\u001b[0;32m     10\u001b[0m \u001b[38;5;66;03m# Save the converted TensorFlow Lite model\u001b[39;00m\n\u001b[0;32m     11\u001b[0m \u001b[38;5;66;03m#tflite_model_path = f\"D:\\Code\\Projects\\stockSenseAPIv2\\exports\\{company}.tflite\"\u001b[39;00m\n\u001b[1;32m---> 12\u001b[0m \u001b[38;5;28;01mwith\u001b[39;00m \u001b[38;5;28mopen\u001b[39m(\u001b[43mtflite_model_path\u001b[49m, \u001b[38;5;124m'\u001b[39m\u001b[38;5;124mwb\u001b[39m\u001b[38;5;124m'\u001b[39m) \u001b[38;5;28;01mas\u001b[39;00m f:\n\u001b[0;32m     13\u001b[0m     f\u001b[38;5;241m.\u001b[39mwrite(tflite_model)\n",
      "\u001b[1;31mNameError\u001b[0m: name 'tflite_model_path' is not defined"
     ]
    }
   ],
   "source": [
    "# Load your Keras model\n",
    "#model = tf.keras.models.load_model('../model/exports/ITC.NS/')\n",
    "\n",
    "# Convert the model to TensorFlow Lite\n",
    "converter = tf.lite.TFLiteConverter.from_keras_model(regressor)\n",
    "converter.target_spec.supported_ops = [tf.lite.OpsSet.TFLITE_BUILTINS, tf.lite.OpsSet.SELECT_TF_OPS]\n",
    "converter.experimental_lower_tensor_list_ops = False  # Disable lowering of tensor list ops\n",
    "tflite_model = converter.convert()\n",
    "\n",
    "# Save the converted TensorFlow Lite model\n",
    "#tflite_model_path = f\"D:\\Code\\Projects\\stockSenseAPIv2\\exports\\{company}.tflite\"\n",
    "with open(tflite_model_path, 'wb') as f:\n",
    "    f.write(tflite_model)"
   ]
  },
  {
   "cell_type": "code",
   "execution_count": null,
   "id": "fc4cf9fa-e4b1-48ae-a15f-301ea369c9bc",
   "metadata": {},
   "outputs": [],
   "source": []
  }
 ],
 "metadata": {
  "kernelspec": {
   "display_name": "Python 3 (ipykernel)",
   "language": "python",
   "name": "python3"
  },
  "language_info": {
   "codemirror_mode": {
    "name": "ipython",
    "version": 3
   },
   "file_extension": ".py",
   "mimetype": "text/x-python",
   "name": "python",
   "nbconvert_exporter": "python",
   "pygments_lexer": "ipython3",
   "version": "3.10.9"
  }
 },
 "nbformat": 4,
 "nbformat_minor": 5
}
