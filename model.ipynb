{
 "cells": [
  {
   "cell_type": "code",
   "execution_count": 1,
   "id": "71b7d6a8-d691-4bb8-973f-f9c688ca6fd9",
   "metadata": {
    "tags": []
   },
   "outputs": [],
   "source": [
    "import numpy as np\n",
    "import pandas as pd\n",
    "import yfinance as yf\n",
    "import datetime"
   ]
  },
  {
   "cell_type": "code",
   "execution_count": 2,
   "id": "3b5de86d-79cb-44ac-9c46-ce6408007bf4",
   "metadata": {
    "tags": []
   },
   "outputs": [],
   "source": [
    "company= 'BAJFINANCE.NS'\n",
    "endDate= '2023-01-26'"
   ]
  },
  {
   "cell_type": "code",
   "execution_count": 3,
   "id": "ab3ac44a-8cb7-49a5-a910-e0391aa726e7",
   "metadata": {
    "tags": []
   },
   "outputs": [
    {
     "name": "stdout",
     "output_type": "stream",
     "text": [
      "[*********************100%***********************]  1 of 1 completed\n"
     ]
    },
    {
     "data": {
      "text/html": [
       "<div>\n",
       "<style scoped>\n",
       "    .dataframe tbody tr th:only-of-type {\n",
       "        vertical-align: middle;\n",
       "    }\n",
       "\n",
       "    .dataframe tbody tr th {\n",
       "        vertical-align: top;\n",
       "    }\n",
       "\n",
       "    .dataframe thead th {\n",
       "        text-align: right;\n",
       "    }\n",
       "</style>\n",
       "<table border=\"1\" class=\"dataframe\">\n",
       "  <thead>\n",
       "    <tr style=\"text-align: right;\">\n",
       "      <th></th>\n",
       "      <th>Open</th>\n",
       "      <th>High</th>\n",
       "      <th>Low</th>\n",
       "      <th>Close</th>\n",
       "      <th>Adj Close</th>\n",
       "      <th>Volume</th>\n",
       "    </tr>\n",
       "    <tr>\n",
       "      <th>Date</th>\n",
       "      <th></th>\n",
       "      <th></th>\n",
       "      <th></th>\n",
       "      <th></th>\n",
       "      <th></th>\n",
       "      <th></th>\n",
       "    </tr>\n",
       "  </thead>\n",
       "  <tbody>\n",
       "    <tr>\n",
       "      <th>2002-07-01</th>\n",
       "      <td>5.239737</td>\n",
       "      <td>5.540927</td>\n",
       "      <td>5.239737</td>\n",
       "      <td>5.412679</td>\n",
       "      <td>3.952735</td>\n",
       "      <td>21923</td>\n",
       "    </tr>\n",
       "    <tr>\n",
       "      <th>2002-07-02</th>\n",
       "      <td>5.523439</td>\n",
       "      <td>5.537041</td>\n",
       "      <td>5.421423</td>\n",
       "      <td>5.443769</td>\n",
       "      <td>3.975439</td>\n",
       "      <td>61044</td>\n",
       "    </tr>\n",
       "    <tr>\n",
       "      <th>2002-07-03</th>\n",
       "      <td>5.505950</td>\n",
       "      <td>5.545785</td>\n",
       "      <td>5.328151</td>\n",
       "      <td>5.466116</td>\n",
       "      <td>3.991760</td>\n",
       "      <td>34160</td>\n",
       "    </tr>\n",
       "    <tr>\n",
       "      <th>2002-07-04</th>\n",
       "      <td>5.501093</td>\n",
       "      <td>5.572018</td>\n",
       "      <td>5.417537</td>\n",
       "      <td>5.528297</td>\n",
       "      <td>4.037168</td>\n",
       "      <td>27892</td>\n",
       "    </tr>\n",
       "    <tr>\n",
       "      <th>2002-07-05</th>\n",
       "      <td>5.563274</td>\n",
       "      <td>5.656546</td>\n",
       "      <td>5.474860</td>\n",
       "      <td>5.590478</td>\n",
       "      <td>4.082577</td>\n",
       "      <td>58976</td>\n",
       "    </tr>\n",
       "    <tr>\n",
       "      <th>...</th>\n",
       "      <td>...</td>\n",
       "      <td>...</td>\n",
       "      <td>...</td>\n",
       "      <td>...</td>\n",
       "      <td>...</td>\n",
       "      <td>...</td>\n",
       "    </tr>\n",
       "    <tr>\n",
       "      <th>2023-01-19</th>\n",
       "      <td>5983.000000</td>\n",
       "      <td>6029.649902</td>\n",
       "      <td>5960.649902</td>\n",
       "      <td>6012.450195</td>\n",
       "      <td>5961.166504</td>\n",
       "      <td>548142</td>\n",
       "    </tr>\n",
       "    <tr>\n",
       "      <th>2023-01-20</th>\n",
       "      <td>6012.500000</td>\n",
       "      <td>6019.750000</td>\n",
       "      <td>5837.200195</td>\n",
       "      <td>5860.399902</td>\n",
       "      <td>5810.413086</td>\n",
       "      <td>833090</td>\n",
       "    </tr>\n",
       "    <tr>\n",
       "      <th>2023-01-23</th>\n",
       "      <td>5881.000000</td>\n",
       "      <td>5935.000000</td>\n",
       "      <td>5841.000000</td>\n",
       "      <td>5863.000000</td>\n",
       "      <td>5812.990723</td>\n",
       "      <td>856064</td>\n",
       "    </tr>\n",
       "    <tr>\n",
       "      <th>2023-01-24</th>\n",
       "      <td>5892.350098</td>\n",
       "      <td>5921.000000</td>\n",
       "      <td>5842.649902</td>\n",
       "      <td>5855.049805</td>\n",
       "      <td>5805.107910</td>\n",
       "      <td>608145</td>\n",
       "    </tr>\n",
       "    <tr>\n",
       "      <th>2023-01-25</th>\n",
       "      <td>5850.049805</td>\n",
       "      <td>5855.049805</td>\n",
       "      <td>5777.000000</td>\n",
       "      <td>5795.899902</td>\n",
       "      <td>5746.462891</td>\n",
       "      <td>827837</td>\n",
       "    </tr>\n",
       "  </tbody>\n",
       "</table>\n",
       "<p>5113 rows × 6 columns</p>\n",
       "</div>"
      ],
      "text/plain": [
       "                   Open         High          Low        Close    Adj Close   \n",
       "Date                                                                          \n",
       "2002-07-01     5.239737     5.540927     5.239737     5.412679     3.952735  \\\n",
       "2002-07-02     5.523439     5.537041     5.421423     5.443769     3.975439   \n",
       "2002-07-03     5.505950     5.545785     5.328151     5.466116     3.991760   \n",
       "2002-07-04     5.501093     5.572018     5.417537     5.528297     4.037168   \n",
       "2002-07-05     5.563274     5.656546     5.474860     5.590478     4.082577   \n",
       "...                 ...          ...          ...          ...          ...   \n",
       "2023-01-19  5983.000000  6029.649902  5960.649902  6012.450195  5961.166504   \n",
       "2023-01-20  6012.500000  6019.750000  5837.200195  5860.399902  5810.413086   \n",
       "2023-01-23  5881.000000  5935.000000  5841.000000  5863.000000  5812.990723   \n",
       "2023-01-24  5892.350098  5921.000000  5842.649902  5855.049805  5805.107910   \n",
       "2023-01-25  5850.049805  5855.049805  5777.000000  5795.899902  5746.462891   \n",
       "\n",
       "            Volume  \n",
       "Date                \n",
       "2002-07-01   21923  \n",
       "2002-07-02   61044  \n",
       "2002-07-03   34160  \n",
       "2002-07-04   27892  \n",
       "2002-07-05   58976  \n",
       "...            ...  \n",
       "2023-01-19  548142  \n",
       "2023-01-20  833090  \n",
       "2023-01-23  856064  \n",
       "2023-01-24  608145  \n",
       "2023-01-25  827837  \n",
       "\n",
       "[5113 rows x 6 columns]"
      ]
     },
     "execution_count": 3,
     "metadata": {},
     "output_type": "execute_result"
    }
   ],
   "source": [
    "df= yf.download(company, period='max', end= endDate)\n",
    "df"
   ]
  },
  {
   "cell_type": "code",
   "execution_count": 4,
   "id": "befab8ef-6962-4fd4-868d-981004658ce4",
   "metadata": {
    "tags": []
   },
   "outputs": [],
   "source": [
    "trainSet= df.iloc[:, 1:2].values"
   ]
  },
  {
   "cell_type": "code",
   "execution_count": 5,
   "id": "4290e156-96af-4c1f-a302-15f2466d37e0",
   "metadata": {
    "tags": []
   },
   "outputs": [
    {
     "data": {
      "text/plain": [
       "(5113, 6)"
      ]
     },
     "execution_count": 5,
     "metadata": {},
     "output_type": "execute_result"
    }
   ],
   "source": [
    "df.shape"
   ]
  },
  {
   "cell_type": "code",
   "execution_count": 6,
   "id": "79b9ef41-ffae-4acb-9681-1da999bbff45",
   "metadata": {
    "tags": []
   },
   "outputs": [],
   "source": [
    "from sklearn.preprocessing import MinMaxScaler\n",
    "\n",
    "scaler= MinMaxScaler(feature_range=(0,1))"
   ]
  },
  {
   "cell_type": "code",
   "execution_count": 7,
   "id": "fb00b60f-d14f-42ad-b9fc-9271b12a8ff5",
   "metadata": {
    "tags": []
   },
   "outputs": [],
   "source": [
    "trainingSetScaled= scaler.fit_transform(df['Close'].values.reshape(-1,1))"
   ]
  },
  {
   "cell_type": "code",
   "execution_count": 46,
   "id": "8fab11b9-c797-41da-92ef-5290ae68928f",
   "metadata": {
    "tags": []
   },
   "outputs": [],
   "source": [
    "xTRAIN = []\n",
    "yTRAIN = []\n",
    "\n",
    "for i in range(100, len(trainingSetScaled)):\n",
    "    xTRAIN.append(trainingSetScaled[i-14:i, 0])\n",
    "    yTRAIN.append(trainingSetScaled[i, 0])\n",
    "    \n",
    "xTRAIN, yTRAIN= np.array(xTRAIN), np.array(yTRAIN)"
   ]
  },
  {
   "cell_type": "code",
   "execution_count": 47,
   "id": "cbd8001b-4a0a-4fd2-9065-b29386bc062b",
   "metadata": {
    "tags": []
   },
   "outputs": [],
   "source": [
    "xTRAIN= np.reshape(xTRAIN, newshape=(xTRAIN.shape[0], xTRAIN.shape[1], 1))"
   ]
  },
  {
   "cell_type": "code",
   "execution_count": 48,
   "id": "94428c54-0d8b-4ac5-8d29-95fbe0eb9256",
   "metadata": {
    "tags": []
   },
   "outputs": [
    {
     "data": {
      "text/plain": [
       "(5113, 1)"
      ]
     },
     "execution_count": 48,
     "metadata": {},
     "output_type": "execute_result"
    }
   ],
   "source": [
    "trainingSetScaled.shape"
   ]
  },
  {
   "cell_type": "code",
   "execution_count": 49,
   "id": "aa2e976f-2662-4a65-9906-2bcfa27011f8",
   "metadata": {
    "tags": []
   },
   "outputs": [
    {
     "data": {
      "text/plain": [
       "(5013, 14, 1)"
      ]
     },
     "execution_count": 49,
     "metadata": {},
     "output_type": "execute_result"
    }
   ],
   "source": [
    "xTRAIN.shape"
   ]
  },
  {
   "cell_type": "code",
   "execution_count": 50,
   "id": "2348c85d-8b88-4cce-bd14-1c54a71bef66",
   "metadata": {
    "tags": []
   },
   "outputs": [
    {
     "data": {
      "text/plain": [
       "(5013,)"
      ]
     },
     "execution_count": 50,
     "metadata": {},
     "output_type": "execute_result"
    }
   ],
   "source": [
    "yTRAIN.shape"
   ]
  },
  {
   "cell_type": "code",
   "execution_count": 51,
   "id": "5e6b1462-26e3-4444-bdb6-b8a67b2853e6",
   "metadata": {
    "tags": []
   },
   "outputs": [],
   "source": [
    "import tensorflow as tf\n",
    "from tensorflow import keras"
   ]
  },
  {
   "cell_type": "markdown",
   "id": "459ad3d5-8db0-4b49-aa99-8985e640c560",
   "metadata": {
    "tags": []
   },
   "source": [
    "\n",
    "if tf.test.gpu_device_name(): \n",
    "\n",
    "    print('Default GPU Device:{}'.format(tf.test.gpu_device_name()))\n",
    "\n",
    "else:\n",
    "\n",
    "   print(\"Please install GPU version of TF\")"
   ]
  },
  {
   "cell_type": "code",
   "execution_count": 52,
   "id": "d182ec53-6429-4327-a724-f1bf5c1d2ec8",
   "metadata": {
    "tags": []
   },
   "outputs": [],
   "source": [
    "regressor= keras.models.Sequential([\n",
    "    keras.layers.LSTM(units=84, return_sequences= True, input_shape= (xTRAIN.shape[1], 1)),\n",
    "    keras.layers.Dropout(rate= 0.2),\n",
    "    keras.layers.LSTM(units=64, return_sequences= True), \n",
    "    keras.layers.Dropout(rate= 0.2),\n",
    "    keras.layers.LSTM(units=50), \n",
    "    keras.layers.Dropout(rate= 0.2),\n",
    "    keras.layers.Dense(units= 1)\n",
    "])"
   ]
  },
  {
   "cell_type": "code",
   "execution_count": 53,
   "id": "0a41add4-812a-4cf4-8eb4-74f70717b4e2",
   "metadata": {
    "tags": []
   },
   "outputs": [
    {
     "name": "stdout",
     "output_type": "stream",
     "text": [
      "Model: \"sequential_1\"\n",
      "_________________________________________________________________\n",
      " Layer (type)                Output Shape              Param #   \n",
      "=================================================================\n",
      " lstm_3 (LSTM)               (None, 14, 84)            28896     \n",
      "                                                                 \n",
      " dropout_3 (Dropout)         (None, 14, 84)            0         \n",
      "                                                                 \n",
      " lstm_4 (LSTM)               (None, 14, 64)            38144     \n",
      "                                                                 \n",
      " dropout_4 (Dropout)         (None, 14, 64)            0         \n",
      "                                                                 \n",
      " lstm_5 (LSTM)               (None, 50)                23000     \n",
      "                                                                 \n",
      " dropout_5 (Dropout)         (None, 50)                0         \n",
      "                                                                 \n",
      " dense_1 (Dense)             (None, 1)                 51        \n",
      "                                                                 \n",
      "=================================================================\n",
      "Total params: 90,091\n",
      "Trainable params: 90,091\n",
      "Non-trainable params: 0\n",
      "_________________________________________________________________\n"
     ]
    }
   ],
   "source": [
    "regressor.summary()"
   ]
  },
  {
   "cell_type": "code",
   "execution_count": 54,
   "id": "fefcacef-bb27-46b4-9c0a-ba9dc874ff36",
   "metadata": {
    "tags": []
   },
   "outputs": [],
   "source": [
    "regressor.compile(optimizer= 'adam', loss= keras.losses.mean_squared_error, metrics=['accuracy'])"
   ]
  },
  {
   "cell_type": "code",
   "execution_count": null,
   "id": "941f7d2e-5cd5-4a22-8c08-17d610181f14",
   "metadata": {
    "tags": []
   },
   "outputs": [
    {
     "name": "stdout",
     "output_type": "stream",
     "text": [
      "Epoch 1/120\n",
      "157/157 [==============================] - 5s 11ms/step - loss: 0.0050 - accuracy: 1.9948e-04\n",
      "Epoch 2/120\n",
      "157/157 [==============================] - 2s 11ms/step - loss: 0.0016 - accuracy: 1.9948e-04\n",
      "Epoch 3/120\n",
      "157/157 [==============================] - 2s 11ms/step - loss: 0.0013 - accuracy: 1.9948e-04\n",
      "Epoch 4/120\n",
      "157/157 [==============================] - 2s 14ms/step - loss: 0.0011 - accuracy: 1.9948e-04\n",
      "Epoch 5/120\n",
      "157/157 [==============================] - 2s 11ms/step - loss: 0.0011 - accuracy: 1.9948e-04\n",
      "Epoch 6/120\n",
      "157/157 [==============================] - 2s 10ms/step - loss: 0.0011 - accuracy: 1.9948e-04\n",
      "Epoch 7/120\n",
      "157/157 [==============================] - 2s 10ms/step - loss: 0.0012 - accuracy: 1.9948e-04\n",
      "Epoch 8/120\n",
      "157/157 [==============================] - 2s 10ms/step - loss: 0.0011 - accuracy: 1.9948e-04\n",
      "Epoch 9/120\n",
      "157/157 [==============================] - 2s 10ms/step - loss: 0.0010 - accuracy: 1.9948e-04\n",
      "Epoch 10/120\n",
      "157/157 [==============================] - 2s 10ms/step - loss: 8.8784e-04 - accuracy: 1.9948e-04\n",
      "Epoch 11/120\n",
      "157/157 [==============================] - 2s 10ms/step - loss: 9.7591e-04 - accuracy: 1.9948e-04\n",
      "Epoch 12/120\n",
      "157/157 [==============================] - 2s 10ms/step - loss: 8.7151e-04 - accuracy: 1.9948e-04\n",
      "Epoch 13/120\n",
      "157/157 [==============================] - 2s 10ms/step - loss: 9.8239e-04 - accuracy: 1.9948e-04\n",
      "Epoch 14/120\n",
      "157/157 [==============================] - 2s 10ms/step - loss: 8.0112e-04 - accuracy: 1.9948e-04\n",
      "Epoch 15/120\n",
      "157/157 [==============================] - 2s 10ms/step - loss: 7.7697e-04 - accuracy: 1.9948e-04\n",
      "Epoch 16/120\n",
      "157/157 [==============================] - 2s 10ms/step - loss: 8.0934e-04 - accuracy: 1.9948e-04\n",
      "Epoch 17/120\n",
      "157/157 [==============================] - 2s 10ms/step - loss: 8.3442e-04 - accuracy: 1.9948e-04\n",
      "Epoch 18/120\n",
      "157/157 [==============================] - 2s 11ms/step - loss: 7.9743e-04 - accuracy: 1.9948e-04\n",
      "Epoch 19/120\n",
      "157/157 [==============================] - 2s 10ms/step - loss: 7.3306e-04 - accuracy: 1.9948e-04\n",
      "Epoch 20/120\n",
      "157/157 [==============================] - 2s 10ms/step - loss: 7.2661e-04 - accuracy: 1.9948e-04\n",
      "Epoch 21/120\n",
      "157/157 [==============================] - 2s 10ms/step - loss: 7.6610e-04 - accuracy: 1.9948e-04\n",
      "Epoch 22/120\n",
      "157/157 [==============================] - 2s 10ms/step - loss: 6.9324e-04 - accuracy: 1.9948e-04\n",
      "Epoch 23/120\n",
      "157/157 [==============================] - 2s 10ms/step - loss: 8.0992e-04 - accuracy: 1.9948e-04\n",
      "Epoch 24/120\n",
      "157/157 [==============================] - 2s 10ms/step - loss: 7.3477e-04 - accuracy: 1.9948e-04\n",
      "Epoch 25/120\n",
      "157/157 [==============================] - 2s 10ms/step - loss: 7.0616e-04 - accuracy: 1.9948e-04\n",
      "Epoch 26/120\n",
      "157/157 [==============================] - 2s 10ms/step - loss: 8.1274e-04 - accuracy: 1.9948e-04\n",
      "Epoch 27/120\n",
      "157/157 [==============================] - 2s 10ms/step - loss: 7.4674e-04 - accuracy: 1.9948e-04\n",
      "Epoch 28/120\n",
      "157/157 [==============================] - 2s 10ms/step - loss: 7.1692e-04 - accuracy: 1.9948e-04\n",
      "Epoch 29/120\n",
      "157/157 [==============================] - 2s 10ms/step - loss: 6.6994e-04 - accuracy: 1.9948e-04\n",
      "Epoch 30/120\n",
      "157/157 [==============================] - 2s 11ms/step - loss: 7.7175e-04 - accuracy: 1.9948e-04\n",
      "Epoch 31/120\n",
      "157/157 [==============================] - 3s 17ms/step - loss: 6.9344e-04 - accuracy: 1.9948e-04\n",
      "Epoch 32/120\n",
      "157/157 [==============================] - 2s 12ms/step - loss: 6.8759e-04 - accuracy: 1.9948e-04\n",
      "Epoch 33/120\n",
      "157/157 [==============================] - 2s 11ms/step - loss: 6.4563e-04 - accuracy: 1.9948e-04\n",
      "Epoch 34/120\n",
      "157/157 [==============================] - 2s 11ms/step - loss: 6.9400e-04 - accuracy: 1.9948e-04\n",
      "Epoch 35/120\n",
      "157/157 [==============================] - 2s 11ms/step - loss: 6.9711e-04 - accuracy: 1.9948e-04\n",
      "Epoch 36/120\n",
      "157/157 [==============================] - 2s 11ms/step - loss: 7.4489e-04 - accuracy: 1.9948e-04\n",
      "Epoch 37/120\n",
      "157/157 [==============================] - 2s 11ms/step - loss: 7.0685e-04 - accuracy: 1.9948e-04\n",
      "Epoch 38/120\n",
      "157/157 [==============================] - 2s 11ms/step - loss: 6.8017e-04 - accuracy: 1.9948e-04\n",
      "Epoch 39/120\n",
      "157/157 [==============================] - 2s 11ms/step - loss: 6.6123e-04 - accuracy: 1.9948e-04\n",
      "Epoch 40/120\n",
      "157/157 [==============================] - 2s 11ms/step - loss: 6.8382e-04 - accuracy: 1.9948e-04\n",
      "Epoch 41/120\n",
      "157/157 [==============================] - 2s 11ms/step - loss: 6.7801e-04 - accuracy: 1.9948e-04\n",
      "Epoch 42/120\n",
      "157/157 [==============================] - 2s 12ms/step - loss: 7.7137e-04 - accuracy: 1.9948e-04\n",
      "Epoch 43/120\n",
      "157/157 [==============================] - 2s 11ms/step - loss: 6.8019e-04 - accuracy: 1.9948e-04\n",
      "Epoch 44/120\n",
      "157/157 [==============================] - 2s 11ms/step - loss: 7.5531e-04 - accuracy: 1.9948e-04\n",
      "Epoch 45/120\n",
      "157/157 [==============================] - 2s 11ms/step - loss: 6.9441e-04 - accuracy: 1.9948e-04\n",
      "Epoch 46/120\n",
      "157/157 [==============================] - 2s 11ms/step - loss: 6.7025e-04 - accuracy: 1.9948e-04\n",
      "Epoch 47/120\n",
      "157/157 [==============================] - 2s 11ms/step - loss: 7.0868e-04 - accuracy: 1.9948e-04\n",
      "Epoch 48/120\n",
      "157/157 [==============================] - 2s 12ms/step - loss: 7.1752e-04 - accuracy: 1.9948e-04\n",
      "Epoch 49/120\n",
      "157/157 [==============================] - 2s 11ms/step - loss: 6.8035e-04 - accuracy: 1.9948e-04\n",
      "Epoch 50/120\n",
      "157/157 [==============================] - 2s 11ms/step - loss: 6.0302e-04 - accuracy: 1.9948e-04\n",
      "Epoch 51/120\n",
      "157/157 [==============================] - 2s 11ms/step - loss: 6.7787e-04 - accuracy: 1.9948e-04\n",
      "Epoch 52/120\n",
      "157/157 [==============================] - 2s 11ms/step - loss: 6.5056e-04 - accuracy: 1.9948e-04\n",
      "Epoch 53/120\n",
      "157/157 [==============================] - 2s 11ms/step - loss: 6.5819e-04 - accuracy: 1.9948e-04\n",
      "Epoch 54/120\n",
      "157/157 [==============================] - 2s 11ms/step - loss: 6.5574e-04 - accuracy: 1.9948e-04\n",
      "Epoch 55/120\n",
      "157/157 [==============================] - 2s 11ms/step - loss: 6.3539e-04 - accuracy: 1.9948e-04\n",
      "Epoch 56/120\n",
      "157/157 [==============================] - 2s 12ms/step - loss: 6.4029e-04 - accuracy: 1.9948e-04\n",
      "Epoch 57/120\n",
      "157/157 [==============================] - 2s 11ms/step - loss: 6.9601e-04 - accuracy: 1.9948e-04\n",
      "Epoch 58/120\n",
      "157/157 [==============================] - 2s 12ms/step - loss: 6.5493e-04 - accuracy: 1.9948e-04\n",
      "Epoch 59/120\n",
      "157/157 [==============================] - 2s 11ms/step - loss: 5.8994e-04 - accuracy: 1.9948e-04\n",
      "Epoch 60/120\n",
      "157/157 [==============================] - 2s 11ms/step - loss: 6.5237e-04 - accuracy: 1.9948e-04\n",
      "Epoch 61/120\n",
      "157/157 [==============================] - 2s 14ms/step - loss: 6.7661e-04 - accuracy: 1.9948e-04\n",
      "Epoch 62/120\n",
      "157/157 [==============================] - 2s 15ms/step - loss: 6.3802e-04 - accuracy: 1.9948e-04\n",
      "Epoch 63/120\n",
      "157/157 [==============================] - 2s 14ms/step - loss: 6.9195e-04 - accuracy: 1.9948e-04\n",
      "Epoch 64/120\n",
      "157/157 [==============================] - 2s 13ms/step - loss: 6.7244e-04 - accuracy: 1.9948e-04\n",
      "Epoch 65/120\n",
      "157/157 [==============================] - 3s 17ms/step - loss: 6.2931e-04 - accuracy: 1.9948e-04\n",
      "Epoch 66/120\n",
      "157/157 [==============================] - 3s 18ms/step - loss: 6.0798e-04 - accuracy: 1.9948e-04\n",
      "Epoch 67/120\n",
      "104/157 [==================>...........] - ETA: 0s - loss: 6.3469e-04 - accuracy: 3.0048e-04"
     ]
    }
   ],
   "source": [
    "regressor.fit(x= xTRAIN, y=yTRAIN, batch_size= 32, epochs= 120)"
   ]
  },
  {
   "cell_type": "code",
   "execution_count": 18,
   "id": "82a1215b-90c1-49fa-8bd6-e5c7c678bb2c",
   "metadata": {
    "tags": []
   },
   "outputs": [
    {
     "name": "stdout",
     "output_type": "stream",
     "text": [
      "157/157 [==============================] - 2s 8ms/step\n"
     ]
    }
   ],
   "source": [
    "prdctn= regressor.predict(xTRAIN)"
   ]
  },
  {
   "cell_type": "markdown",
   "id": "02c5a51c-6b13-41a0-b80d-854541b6322d",
   "metadata": {
    "tags": []
   },
   "source": [
    "regressor.save(f\"../model/exports/{company}/\")"
   ]
  },
  {
   "cell_type": "code",
   "execution_count": 19,
   "id": "e1cf83bd-e094-4ff0-8055-d7dd5b781a1b",
   "metadata": {
    "tags": []
   },
   "outputs": [
    {
     "name": "stdout",
     "output_type": "stream",
     "text": [
      "[*********************100%***********************]  1 of 1 completed\n"
     ]
    },
    {
     "data": {
      "text/html": [
       "<div>\n",
       "<style scoped>\n",
       "    .dataframe tbody tr th:only-of-type {\n",
       "        vertical-align: middle;\n",
       "    }\n",
       "\n",
       "    .dataframe tbody tr th {\n",
       "        vertical-align: top;\n",
       "    }\n",
       "\n",
       "    .dataframe thead th {\n",
       "        text-align: right;\n",
       "    }\n",
       "</style>\n",
       "<table border=\"1\" class=\"dataframe\">\n",
       "  <thead>\n",
       "    <tr style=\"text-align: right;\">\n",
       "      <th></th>\n",
       "      <th>Open</th>\n",
       "      <th>High</th>\n",
       "      <th>Low</th>\n",
       "      <th>Close</th>\n",
       "      <th>Adj Close</th>\n",
       "      <th>Volume</th>\n",
       "    </tr>\n",
       "    <tr>\n",
       "      <th>Date</th>\n",
       "      <th></th>\n",
       "      <th></th>\n",
       "      <th></th>\n",
       "      <th></th>\n",
       "      <th></th>\n",
       "      <th></th>\n",
       "    </tr>\n",
       "  </thead>\n",
       "  <tbody>\n",
       "    <tr>\n",
       "      <th>2023-01-27</th>\n",
       "      <td>5815.000000</td>\n",
       "      <td>5861.549805</td>\n",
       "      <td>5680.000000</td>\n",
       "      <td>5760.700195</td>\n",
       "      <td>5711.563477</td>\n",
       "      <td>1621352</td>\n",
       "    </tr>\n",
       "    <tr>\n",
       "      <th>2023-01-30</th>\n",
       "      <td>5770.049805</td>\n",
       "      <td>6066.200195</td>\n",
       "      <td>5770.049805</td>\n",
       "      <td>6021.799805</td>\n",
       "      <td>5970.436035</td>\n",
       "      <td>2448160</td>\n",
       "    </tr>\n",
       "    <tr>\n",
       "      <th>2023-01-31</th>\n",
       "      <td>6050.000000</td>\n",
       "      <td>6050.000000</td>\n",
       "      <td>5874.000000</td>\n",
       "      <td>5886.399902</td>\n",
       "      <td>5836.190918</td>\n",
       "      <td>1996788</td>\n",
       "    </tr>\n",
       "    <tr>\n",
       "      <th>2023-02-01</th>\n",
       "      <td>5944.000000</td>\n",
       "      <td>5980.399902</td>\n",
       "      <td>5708.899902</td>\n",
       "      <td>5817.200195</td>\n",
       "      <td>5767.581543</td>\n",
       "      <td>2634866</td>\n",
       "    </tr>\n",
       "    <tr>\n",
       "      <th>2023-02-02</th>\n",
       "      <td>5819.000000</td>\n",
       "      <td>5819.000000</td>\n",
       "      <td>5645.000000</td>\n",
       "      <td>5717.649902</td>\n",
       "      <td>5668.880371</td>\n",
       "      <td>2025044</td>\n",
       "    </tr>\n",
       "    <tr>\n",
       "      <th>...</th>\n",
       "      <td>...</td>\n",
       "      <td>...</td>\n",
       "      <td>...</td>\n",
       "      <td>...</td>\n",
       "      <td>...</td>\n",
       "      <td>...</td>\n",
       "    </tr>\n",
       "    <tr>\n",
       "      <th>2023-09-08</th>\n",
       "      <td>7390.000000</td>\n",
       "      <td>7449.950195</td>\n",
       "      <td>7370.000000</td>\n",
       "      <td>7410.649902</td>\n",
       "      <td>7410.649902</td>\n",
       "      <td>624642</td>\n",
       "    </tr>\n",
       "    <tr>\n",
       "      <th>2023-09-11</th>\n",
       "      <td>7425.000000</td>\n",
       "      <td>7444.000000</td>\n",
       "      <td>7362.000000</td>\n",
       "      <td>7391.649902</td>\n",
       "      <td>7391.649902</td>\n",
       "      <td>406849</td>\n",
       "    </tr>\n",
       "    <tr>\n",
       "      <th>2023-09-12</th>\n",
       "      <td>7421.000000</td>\n",
       "      <td>7459.000000</td>\n",
       "      <td>7305.500000</td>\n",
       "      <td>7431.299805</td>\n",
       "      <td>7431.299805</td>\n",
       "      <td>963517</td>\n",
       "    </tr>\n",
       "    <tr>\n",
       "      <th>2023-09-13</th>\n",
       "      <td>7429.299805</td>\n",
       "      <td>7508.250000</td>\n",
       "      <td>7380.649902</td>\n",
       "      <td>7475.899902</td>\n",
       "      <td>7475.899902</td>\n",
       "      <td>579846</td>\n",
       "    </tr>\n",
       "    <tr>\n",
       "      <th>2023-09-14</th>\n",
       "      <td>7475.899902</td>\n",
       "      <td>7511.700195</td>\n",
       "      <td>7442.649902</td>\n",
       "      <td>7455.700195</td>\n",
       "      <td>7455.700195</td>\n",
       "      <td>117711</td>\n",
       "    </tr>\n",
       "  </tbody>\n",
       "</table>\n",
       "<p>157 rows × 6 columns</p>\n",
       "</div>"
      ],
      "text/plain": [
       "                   Open         High          Low        Close    Adj Close   \n",
       "Date                                                                          \n",
       "2023-01-27  5815.000000  5861.549805  5680.000000  5760.700195  5711.563477  \\\n",
       "2023-01-30  5770.049805  6066.200195  5770.049805  6021.799805  5970.436035   \n",
       "2023-01-31  6050.000000  6050.000000  5874.000000  5886.399902  5836.190918   \n",
       "2023-02-01  5944.000000  5980.399902  5708.899902  5817.200195  5767.581543   \n",
       "2023-02-02  5819.000000  5819.000000  5645.000000  5717.649902  5668.880371   \n",
       "...                 ...          ...          ...          ...          ...   \n",
       "2023-09-08  7390.000000  7449.950195  7370.000000  7410.649902  7410.649902   \n",
       "2023-09-11  7425.000000  7444.000000  7362.000000  7391.649902  7391.649902   \n",
       "2023-09-12  7421.000000  7459.000000  7305.500000  7431.299805  7431.299805   \n",
       "2023-09-13  7429.299805  7508.250000  7380.649902  7475.899902  7475.899902   \n",
       "2023-09-14  7475.899902  7511.700195  7442.649902  7455.700195  7455.700195   \n",
       "\n",
       "             Volume  \n",
       "Date                 \n",
       "2023-01-27  1621352  \n",
       "2023-01-30  2448160  \n",
       "2023-01-31  1996788  \n",
       "2023-02-01  2634866  \n",
       "2023-02-02  2025044  \n",
       "...             ...  \n",
       "2023-09-08   624642  \n",
       "2023-09-11   406849  \n",
       "2023-09-12   963517  \n",
       "2023-09-13   579846  \n",
       "2023-09-14   117711  \n",
       "\n",
       "[157 rows x 6 columns]"
      ]
     },
     "execution_count": 19,
     "metadata": {},
     "output_type": "execute_result"
    }
   ],
   "source": [
    "testDF= yf.download(company, period='1d', start=endDate, end=datetime.datetime.now())\n",
    "testDF"
   ]
  },
  {
   "cell_type": "code",
   "execution_count": 20,
   "id": "389e55a0-69eb-47cf-911a-c25a144e7f54",
   "metadata": {
    "tags": []
   },
   "outputs": [],
   "source": [
    "realCP= testDF['Close'].values"
   ]
  },
  {
   "cell_type": "code",
   "execution_count": 21,
   "id": "b0b39f2a-b963-42e2-ac19-b094e7a600eb",
   "metadata": {
    "tags": []
   },
   "outputs": [],
   "source": [
    "dfTotal= pd.concat((df['Close'], testDF['Close']), axis=0)"
   ]
  },
  {
   "cell_type": "code",
   "execution_count": 22,
   "id": "1d38eef2-00f4-48ae-9995-45097a8e46d8",
   "metadata": {
    "tags": []
   },
   "outputs": [],
   "source": [
    "modelInp= dfTotal[len(dfTotal)-len(testDF)-60:].values"
   ]
  },
  {
   "cell_type": "code",
   "execution_count": 23,
   "id": "efadd80d-1716-4048-bbb8-9a25d60d02e4",
   "metadata": {
    "tags": []
   },
   "outputs": [],
   "source": [
    "modelInp= modelInp.reshape(-1,1)"
   ]
  },
  {
   "cell_type": "code",
   "execution_count": 24,
   "id": "129d98f2-7644-4d32-ab0a-b6f178ae339a",
   "metadata": {
    "tags": []
   },
   "outputs": [],
   "source": [
    "modelInp= scaler.transform(modelInp)"
   ]
  },
  {
   "cell_type": "code",
   "execution_count": 44,
   "id": "215cec3c-4799-4d2a-b96b-659e853a792a",
   "metadata": {
    "tags": []
   },
   "outputs": [],
   "source": [
    "xTEST= []\n",
    "\n",
    "for i in range(60, len(modelInp)):\n",
    "    xTEST.append(modelInp[i-60:i, 0])\n",
    "\n",
    "xTEST= np.array(xTEST)"
   ]
  },
  {
   "cell_type": "code",
   "execution_count": 45,
   "id": "46abbba4-f265-46e6-b2e2-82faf84b9fbc",
   "metadata": {
    "tags": []
   },
   "outputs": [
    {
     "data": {
      "text/plain": [
       "(157, 60)"
      ]
     },
     "execution_count": 45,
     "metadata": {},
     "output_type": "execute_result"
    }
   ],
   "source": [
    "xTEST.shape"
   ]
  },
  {
   "cell_type": "code",
   "execution_count": 27,
   "id": "7508bf79-7a2a-404b-bc04-78fca7301d88",
   "metadata": {
    "tags": []
   },
   "outputs": [],
   "source": [
    "xTEST= np.reshape(xTEST, newshape= (xTEST.shape[0], xTEST.shape[1], 1))"
   ]
  },
  {
   "cell_type": "code",
   "execution_count": 28,
   "id": "90fabbdf-9e5b-485e-b60b-864bcf66bf38",
   "metadata": {
    "tags": []
   },
   "outputs": [],
   "source": [
    "#pred = pred[..., 0]"
   ]
  },
  {
   "cell_type": "code",
   "execution_count": 29,
   "id": "55905254-03e5-422e-91a2-ae829100169c",
   "metadata": {
    "tags": []
   },
   "outputs": [
    {
     "name": "stdout",
     "output_type": "stream",
     "text": [
      "5/5 [==============================] - 0s 10ms/step\n"
     ]
    }
   ],
   "source": [
    "pred= regressor.predict(xTEST)"
   ]
  },
  {
   "cell_type": "code",
   "execution_count": 30,
   "id": "d632f691-866a-4672-8f85-c9fe50db3e7e",
   "metadata": {
    "tags": []
   },
   "outputs": [],
   "source": [
    "pred= scaler.inverse_transform(pred)"
   ]
  },
  {
   "cell_type": "code",
   "execution_count": 31,
   "id": "18057536-819d-4b2a-88cc-a47ffad1db0f",
   "metadata": {
    "tags": []
   },
   "outputs": [
    {
     "data": {
      "text/plain": [
       "(157, 1)"
      ]
     },
     "execution_count": 31,
     "metadata": {},
     "output_type": "execute_result"
    }
   ],
   "source": [
    "pred.shape"
   ]
  },
  {
   "cell_type": "code",
   "execution_count": 32,
   "id": "bab731b6-96d6-4757-a779-f7bdf9932dd1",
   "metadata": {
    "tags": []
   },
   "outputs": [],
   "source": [
    "import matplotlib.pyplot as plt"
   ]
  },
  {
   "cell_type": "code",
   "execution_count": 33,
   "id": "74299f9a-93c1-4c0f-849b-b7a01dd2657a",
   "metadata": {},
   "outputs": [
    {
     "data": {
      "image/png": "[encoded data removed]",
      "text/plain": [
       "<Figure size 640x480 with 1 Axes>"
      ]
     },
     "metadata": {},
     "output_type": "display_data"
    }
   ],
   "source": [
    "plt.plot(realCP, color= 'r', label= 'real close price')\n",
    "plt.plot(pred, color= 'b', label= 'predicted close price')\n",
    "plt.title(company)\n",
    "plt.legend()\n",
    "plt.show()"
   ]
  },
  {
   "cell_type": "code",
   "execution_count": 34,
   "id": "143aaaeb-a2cd-4213-afb2-b7f96e2bd61b",
   "metadata": {},
   "outputs": [],
   "source": [
    "realData= [modelInp[len(modelInp)+1-60:len(modelInp+1), 0]]"
   ]
  },
  {
   "cell_type": "code",
   "execution_count": 35,
   "id": "b7790752-9217-44a3-972f-9d0dd52fc21a",
   "metadata": {
    "tags": []
   },
   "outputs": [],
   "source": [
    "realData= np.array(realData)"
   ]
  },
  {
   "cell_type": "code",
   "execution_count": 36,
   "id": "d0d14766-e093-4c4f-96d3-7aba1a23a870",
   "metadata": {
    "tags": []
   },
   "outputs": [],
   "source": [
    "realData= np.reshape(realData, newshape=(realData.shape[0], realData.shape[1], 1))"
   ]
  },
  {
   "cell_type": "code",
   "execution_count": 37,
   "id": "d77a0da8-bf64-48a8-a4d5-35661339b47e",
   "metadata": {
    "tags": []
   },
   "outputs": [
    {
     "name": "stdout",
     "output_type": "stream",
     "text": [
      "1/1 [==============================] - 1s 1s/step\n"
     ]
    }
   ],
   "source": [
    "prediction= regressor.predict(realData)"
   ]
  },
  {
   "cell_type": "code",
   "execution_count": 38,
   "id": "02347ad7-ffae-48ad-a9b2-4ec5c20b1c2a",
   "metadata": {
    "tags": []
   },
   "outputs": [],
   "source": [
    "prediction= scaler.inverse_transform(prediction)"
   ]
  },
  {
   "cell_type": "code",
   "execution_count": 39,
   "id": "09566a1f-f9cc-4889-85b2-338b02787ee1",
   "metadata": {
    "tags": []
   },
   "outputs": [
    {
     "data": {
      "text/plain": [
       "array([[7734.0947]], dtype=float32)"
      ]
     },
     "execution_count": 39,
     "metadata": {},
     "output_type": "execute_result"
    }
   ],
   "source": [
    "prediction"
   ]
  },
  {
   "cell_type": "markdown",
   "id": "aedc32b6-77a3-43d8-af4f-8ecb6d5ac459",
   "metadata": {
    "tags": []
   },
   "source": [
    "# Load your Keras model\n",
    "#model = tf.keras.models.load_model('../model/exports/ITC.NS/')\n",
    "\n",
    "# Convert the model to TensorFlow Lite\n",
    "converter = tf.lite.TFLiteConverter.from_keras_model(regressor)\n",
    "converter.target_spec.supported_ops = [tf.lite.OpsSet.TFLITE_BUILTINS, tf.lite.OpsSet.SELECT_TF_OPS]\n",
    "converter.experimental_lower_tensor_list_ops = False  # Disable lowering of tensor list ops\n",
    "tflite_model = converter.convert()\n",
    "\n",
    "# Save the converted TensorFlow Lite model\n",
    "#tflite_model_path = f\"D:\\Code\\Projects\\stockSenseAPIv2\\exports\\{company}.tflite\"\n",
    "with open(tflite_model_path, 'wb') as f:\n",
    "    f.write(tflite_model)"
   ]
  },
  {
   "cell_type": "code",
   "execution_count": null,
   "id": "fc4cf9fa-e4b1-48ae-a15f-301ea369c9bc",
   "metadata": {},
   "outputs": [],
   "source": []
  }
 ],
 "metadata": {
  "kernelspec": {
   "display_name": "Python 3 (ipykernel)",
   "language": "python",
   "name": "python3"
  },
  "language_info": {
   "codemirror_mode": {
    "name": "ipython",
    "version": 3
   },
   "file_extension": ".py",
   "mimetype": "text/x-python",
   "name": "python",
   "nbconvert_exporter": "python",
   "pygments_lexer": "ipython3",
   "version": "3.10.9"
  }
 },
 "nbformat": 4,
 "nbformat_minor": 5
}
