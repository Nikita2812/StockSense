{
 "cells": [
  {
   "cell_type": "code",
   "execution_count": 1,
   "id": "71b7d6a8-d691-4bb8-973f-f9c688ca6fd9",
   "metadata": {
    "tags": []
   },
   "outputs": [],
   "source": [
    "import numpy as np\n",
    "import pandas as pd\n",
    "import yfinance as yf\n",
    "import datetime"
   ]
  },
  {
   "cell_type": "code",
   "execution_count": 2,
   "id": "3b5de86d-79cb-44ac-9c46-ce6408007bf4",
   "metadata": {
    "tags": []
   },
   "outputs": [],
   "source": [
    "company= 'AXISBANK.NS'\n",
    "startDate= '2021-08-25'\n",
    "endDate= '2023-08-10'"
   ]
  },
  {
   "cell_type": "code",
   "execution_count": 3,
   "id": "ab3ac44a-8cb7-49a5-a910-e0391aa726e7",
   "metadata": {
    "tags": []
   },
   "outputs": [
    {
     "name": "stdout",
     "output_type": "stream",
     "text": [
      "[*********************100%***********************]  1 of 1 completed\n"
     ]
    },
    {
     "data": {
      "text/html": [
       "<div>\n",
       "<style scoped>\n",
       "    .dataframe tbody tr th:only-of-type {\n",
       "        vertical-align: middle;\n",
       "    }\n",
       "\n",
       "    .dataframe tbody tr th {\n",
       "        vertical-align: top;\n",
       "    }\n",
       "\n",
       "    .dataframe thead th {\n",
       "        text-align: right;\n",
       "    }\n",
       "</style>\n",
       "<table border=\"1\" class=\"dataframe\">\n",
       "  <thead>\n",
       "    <tr style=\"text-align: right;\">\n",
       "      <th></th>\n",
       "      <th>Open</th>\n",
       "      <th>High</th>\n",
       "      <th>Low</th>\n",
       "      <th>Close</th>\n",
       "      <th>Adj Close</th>\n",
       "      <th>Volume</th>\n",
       "    </tr>\n",
       "    <tr>\n",
       "      <th>Datetime</th>\n",
       "      <th></th>\n",
       "      <th></th>\n",
       "      <th></th>\n",
       "      <th></th>\n",
       "      <th></th>\n",
       "      <th></th>\n",
       "    </tr>\n",
       "  </thead>\n",
       "  <tbody>\n",
       "    <tr>\n",
       "      <th>2021-08-25 09:15:00+05:30</th>\n",
       "      <td>748.950012</td>\n",
       "      <td>751.400024</td>\n",
       "      <td>745.349976</td>\n",
       "      <td>747.400024</td>\n",
       "      <td>747.400024</td>\n",
       "      <td>0</td>\n",
       "    </tr>\n",
       "    <tr>\n",
       "      <th>2021-08-25 10:15:00+05:30</th>\n",
       "      <td>747.400024</td>\n",
       "      <td>747.799988</td>\n",
       "      <td>742.750000</td>\n",
       "      <td>742.849976</td>\n",
       "      <td>742.849976</td>\n",
       "      <td>927194</td>\n",
       "    </tr>\n",
       "    <tr>\n",
       "      <th>2021-08-25 11:15:00+05:30</th>\n",
       "      <td>742.950012</td>\n",
       "      <td>747.900024</td>\n",
       "      <td>740.000000</td>\n",
       "      <td>740.500000</td>\n",
       "      <td>740.500000</td>\n",
       "      <td>925161</td>\n",
       "    </tr>\n",
       "    <tr>\n",
       "      <th>2021-08-25 12:15:00+05:30</th>\n",
       "      <td>740.549988</td>\n",
       "      <td>741.799988</td>\n",
       "      <td>737.400024</td>\n",
       "      <td>738.000000</td>\n",
       "      <td>738.000000</td>\n",
       "      <td>1461995</td>\n",
       "    </tr>\n",
       "    <tr>\n",
       "      <th>2021-08-25 13:15:00+05:30</th>\n",
       "      <td>738.150024</td>\n",
       "      <td>740.299988</td>\n",
       "      <td>737.400024</td>\n",
       "      <td>738.049988</td>\n",
       "      <td>738.049988</td>\n",
       "      <td>665886</td>\n",
       "    </tr>\n",
       "    <tr>\n",
       "      <th>...</th>\n",
       "      <td>...</td>\n",
       "      <td>...</td>\n",
       "      <td>...</td>\n",
       "      <td>...</td>\n",
       "      <td>...</td>\n",
       "      <td>...</td>\n",
       "    </tr>\n",
       "    <tr>\n",
       "      <th>2023-08-09 11:15:00+05:30</th>\n",
       "      <td>945.500000</td>\n",
       "      <td>946.549988</td>\n",
       "      <td>944.299988</td>\n",
       "      <td>945.000000</td>\n",
       "      <td>945.000000</td>\n",
       "      <td>997003</td>\n",
       "    </tr>\n",
       "    <tr>\n",
       "      <th>2023-08-09 12:15:00+05:30</th>\n",
       "      <td>944.950012</td>\n",
       "      <td>952.000000</td>\n",
       "      <td>944.500000</td>\n",
       "      <td>947.650024</td>\n",
       "      <td>947.650024</td>\n",
       "      <td>1694621</td>\n",
       "    </tr>\n",
       "    <tr>\n",
       "      <th>2023-08-09 13:15:00+05:30</th>\n",
       "      <td>947.599976</td>\n",
       "      <td>949.849976</td>\n",
       "      <td>946.049988</td>\n",
       "      <td>947.799988</td>\n",
       "      <td>947.799988</td>\n",
       "      <td>910731</td>\n",
       "    </tr>\n",
       "    <tr>\n",
       "      <th>2023-08-09 14:15:00+05:30</th>\n",
       "      <td>947.799988</td>\n",
       "      <td>953.099976</td>\n",
       "      <td>946.599976</td>\n",
       "      <td>950.900024</td>\n",
       "      <td>950.900024</td>\n",
       "      <td>1691168</td>\n",
       "    </tr>\n",
       "    <tr>\n",
       "      <th>2023-08-09 15:15:00+05:30</th>\n",
       "      <td>950.900024</td>\n",
       "      <td>951.450012</td>\n",
       "      <td>948.549988</td>\n",
       "      <td>950.000000</td>\n",
       "      <td>950.000000</td>\n",
       "      <td>480324</td>\n",
       "    </tr>\n",
       "  </tbody>\n",
       "</table>\n",
       "<p>3388 rows × 6 columns</p>\n",
       "</div>"
      ],
      "text/plain": [
       "                                 Open        High         Low       Close   \n",
       "Datetime                                                                    \n",
       "2021-08-25 09:15:00+05:30  748.950012  751.400024  745.349976  747.400024  \\\n",
       "2021-08-25 10:15:00+05:30  747.400024  747.799988  742.750000  742.849976   \n",
       "2021-08-25 11:15:00+05:30  742.950012  747.900024  740.000000  740.500000   \n",
       "2021-08-25 12:15:00+05:30  740.549988  741.799988  737.400024  738.000000   \n",
       "2021-08-25 13:15:00+05:30  738.150024  740.299988  737.400024  738.049988   \n",
       "...                               ...         ...         ...         ...   \n",
       "2023-08-09 11:15:00+05:30  945.500000  946.549988  944.299988  945.000000   \n",
       "2023-08-09 12:15:00+05:30  944.950012  952.000000  944.500000  947.650024   \n",
       "2023-08-09 13:15:00+05:30  947.599976  949.849976  946.049988  947.799988   \n",
       "2023-08-09 14:15:00+05:30  947.799988  953.099976  946.599976  950.900024   \n",
       "2023-08-09 15:15:00+05:30  950.900024  951.450012  948.549988  950.000000   \n",
       "\n",
       "                            Adj Close   Volume  \n",
       "Datetime                                        \n",
       "2021-08-25 09:15:00+05:30  747.400024        0  \n",
       "2021-08-25 10:15:00+05:30  742.849976   927194  \n",
       "2021-08-25 11:15:00+05:30  740.500000   925161  \n",
       "2021-08-25 12:15:00+05:30  738.000000  1461995  \n",
       "2021-08-25 13:15:00+05:30  738.049988   665886  \n",
       "...                               ...      ...  \n",
       "2023-08-09 11:15:00+05:30  945.000000   997003  \n",
       "2023-08-09 12:15:00+05:30  947.650024  1694621  \n",
       "2023-08-09 13:15:00+05:30  947.799988   910731  \n",
       "2023-08-09 14:15:00+05:30  950.900024  1691168  \n",
       "2023-08-09 15:15:00+05:30  950.000000   480324  \n",
       "\n",
       "[3388 rows x 6 columns]"
      ]
     },
     "execution_count": 3,
     "metadata": {},
     "output_type": "execute_result"
    }
   ],
   "source": [
    "df= yf.download(company, interval='1h', start=startDate, end= endDate)\n",
    "df"
   ]
  },
  {
   "cell_type": "code",
   "execution_count": 4,
   "id": "befab8ef-6962-4fd4-868d-981004658ce4",
   "metadata": {
    "tags": []
   },
   "outputs": [],
   "source": [
    "trainSet= df.iloc[:, 1:2].values"
   ]
  },
  {
   "cell_type": "code",
   "execution_count": 5,
   "id": "4290e156-96af-4c1f-a302-15f2466d37e0",
   "metadata": {
    "tags": []
   },
   "outputs": [
    {
     "data": {
      "text/plain": [
       "(3388, 6)"
      ]
     },
     "execution_count": 5,
     "metadata": {},
     "output_type": "execute_result"
    }
   ],
   "source": [
    "df.shape"
   ]
  },
  {
   "cell_type": "code",
   "execution_count": 6,
   "id": "79b9ef41-ffae-4acb-9681-1da999bbff45",
   "metadata": {
    "tags": []
   },
   "outputs": [],
   "source": [
    "from sklearn.preprocessing import MinMaxScaler\n",
    "\n",
    "scaler= MinMaxScaler(feature_range=(0,1))"
   ]
  },
  {
   "cell_type": "code",
   "execution_count": 7,
   "id": "fb00b60f-d14f-42ad-b9fc-9271b12a8ff5",
   "metadata": {
    "tags": []
   },
   "outputs": [],
   "source": [
    "trainingSetScaled= scaler.fit_transform(df['Close'].values.reshape(-1,1))"
   ]
  },
  {
   "cell_type": "code",
   "execution_count": 8,
   "id": "8fab11b9-c797-41da-92ef-5290ae68928f",
   "metadata": {
    "tags": []
   },
   "outputs": [],
   "source": [
    "xTRAIN = []\n",
    "yTRAIN = []\n",
    "\n",
    "for i in range(100, len(trainingSetScaled)):\n",
    "    xTRAIN.append(trainingSetScaled[i-60:i, 0])\n",
    "    yTRAIN.append(trainingSetScaled[i, 0])\n",
    "    \n",
    "xTRAIN, yTRAIN= np.array(xTRAIN), np.array(yTRAIN)"
   ]
  },
  {
   "cell_type": "code",
   "execution_count": 9,
   "id": "cbd8001b-4a0a-4fd2-9065-b29386bc062b",
   "metadata": {
    "tags": []
   },
   "outputs": [],
   "source": [
    "xTRAIN= np.reshape(xTRAIN, newshape=(xTRAIN.shape[0], xTRAIN.shape[1], 1))"
   ]
  },
  {
   "cell_type": "code",
   "execution_count": 10,
   "id": "94428c54-0d8b-4ac5-8d29-95fbe0eb9256",
   "metadata": {
    "tags": []
   },
   "outputs": [
    {
     "data": {
      "text/plain": [
       "(3388, 1)"
      ]
     },
     "execution_count": 10,
     "metadata": {},
     "output_type": "execute_result"
    }
   ],
   "source": [
    "trainingSetScaled.shape"
   ]
  },
  {
   "cell_type": "code",
   "execution_count": 11,
   "id": "aa2e976f-2662-4a65-9906-2bcfa27011f8",
   "metadata": {
    "tags": []
   },
   "outputs": [
    {
     "data": {
      "text/plain": [
       "(3288, 60, 1)"
      ]
     },
     "execution_count": 11,
     "metadata": {},
     "output_type": "execute_result"
    }
   ],
   "source": [
    "xTRAIN.shape"
   ]
  },
  {
   "cell_type": "code",
   "execution_count": 12,
   "id": "2348c85d-8b88-4cce-bd14-1c54a71bef66",
   "metadata": {
    "tags": []
   },
   "outputs": [
    {
     "data": {
      "text/plain": [
       "(3288,)"
      ]
     },
     "execution_count": 12,
     "metadata": {},
     "output_type": "execute_result"
    }
   ],
   "source": [
    "yTRAIN.shape"
   ]
  },
  {
   "cell_type": "code",
   "execution_count": 13,
   "id": "5e6b1462-26e3-4444-bdb6-b8a67b2853e6",
   "metadata": {
    "tags": []
   },
   "outputs": [],
   "source": [
    "import tensorflow as tf\n",
    "from tensorflow import keras"
   ]
  },
  {
   "cell_type": "markdown",
   "id": "459ad3d5-8db0-4b49-aa99-8985e640c560",
   "metadata": {
    "tags": []
   },
   "source": [
    "\n",
    "if tf.test.gpu_device_name(): \n",
    "\n",
    "    print('Default GPU Device:{}'.format(tf.test.gpu_device_name()))\n",
    "\n",
    "else:\n",
    "\n",
    "   print(\"Please install GPU version of TF\")"
   ]
  },
  {
   "cell_type": "code",
   "execution_count": 14,
   "id": "d182ec53-6429-4327-a724-f1bf5c1d2ec8",
   "metadata": {
    "tags": []
   },
   "outputs": [],
   "source": [
    "regressor= keras.models.Sequential([\n",
    "    keras.layers.LSTM(units=64, return_sequences= True, input_shape= (xTRAIN.shape[1], 1)),\n",
    "    keras.layers.Dropout(rate= 0.2),\n",
    "    keras.layers.LSTM(units=50, return_sequences= True), \n",
    "    keras.layers.Dropout(rate= 0.2),\n",
    "    keras.layers.LSTM(units=50), \n",
    "    keras.layers.Dropout(rate= 0.2),\n",
    "    keras.layers.Dense(units= 1)\n",
    "])"
   ]
  },
  {
   "cell_type": "code",
   "execution_count": 15,
   "id": "0a41add4-812a-4cf4-8eb4-74f70717b4e2",
   "metadata": {
    "tags": []
   },
   "outputs": [
    {
     "name": "stdout",
     "output_type": "stream",
     "text": [
      "Model: \"sequential\"\n",
      "_________________________________________________________________\n",
      " Layer (type)                Output Shape              Param #   \n",
      "=================================================================\n",
      " lstm (LSTM)                 (None, 60, 64)            16896     \n",
      "                                                                 \n",
      " dropout (Dropout)           (None, 60, 64)            0         \n",
      "                                                                 \n",
      " lstm_1 (LSTM)               (None, 60, 50)            23000     \n",
      "                                                                 \n",
      " dropout_1 (Dropout)         (None, 60, 50)            0         \n",
      "                                                                 \n",
      " lstm_2 (LSTM)               (None, 50)                20200     \n",
      "                                                                 \n",
      " dropout_2 (Dropout)         (None, 50)                0         \n",
      "                                                                 \n",
      " dense (Dense)               (None, 1)                 51        \n",
      "                                                                 \n",
      "=================================================================\n",
      "Total params: 60,147\n",
      "Trainable params: 60,147\n",
      "Non-trainable params: 0\n",
      "_________________________________________________________________\n"
     ]
    }
   ],
   "source": [
    "regressor.summary()"
   ]
  },
  {
   "cell_type": "code",
   "execution_count": 16,
   "id": "fefcacef-bb27-46b4-9c0a-ba9dc874ff36",
   "metadata": {
    "tags": []
   },
   "outputs": [],
   "source": [
    "regressor.compile(optimizer= 'adam', loss= keras.losses.mean_squared_error, metrics=['accuracy'])"
   ]
  },
  {
   "cell_type": "code",
   "execution_count": 17,
   "id": "941f7d2e-5cd5-4a22-8c08-17d610181f14",
   "metadata": {
    "tags": []
   },
   "outputs": [
    {
     "name": "stdout",
     "output_type": "stream",
     "text": [
      "Epoch 1/120\n",
      "93/93 [==============================] - 11s 31ms/step - loss: 0.0176 - accuracy: 6.7431e-04\n",
      "Epoch 2/120\n",
      "93/93 [==============================] - 3s 34ms/step - loss: 0.0044 - accuracy: 6.7431e-04\n",
      "Epoch 3/120\n",
      "93/93 [==============================] - 3s 34ms/step - loss: 0.0039 - accuracy: 6.7431e-04\n",
      "Epoch 4/120\n",
      "93/93 [==============================] - 3s 34ms/step - loss: 0.0039 - accuracy: 6.7431e-04\n",
      "Epoch 5/120\n",
      "93/93 [==============================] - 3s 36ms/step - loss: 0.0034 - accuracy: 6.7431e-04\n",
      "Epoch 6/120\n",
      "93/93 [==============================] - 3s 35ms/step - loss: 0.0030 - accuracy: 6.7431e-04\n",
      "Epoch 7/120\n",
      "93/93 [==============================] - 2s 25ms/step - loss: 0.0028 - accuracy: 6.7431e-04\n",
      "Epoch 8/120\n",
      "93/93 [==============================] - 2s 25ms/step - loss: 0.0029 - accuracy: 6.7431e-04\n",
      "Epoch 9/120\n",
      "93/93 [==============================] - 2s 25ms/step - loss: 0.0028 - accuracy: 6.7431e-04\n",
      "Epoch 10/120\n",
      "93/93 [==============================] - 2s 25ms/step - loss: 0.0027 - accuracy: 6.7431e-04\n",
      "Epoch 11/120\n",
      "93/93 [==============================] - 2s 25ms/step - loss: 0.0028 - accuracy: 6.7431e-04\n",
      "Epoch 12/120\n",
      "93/93 [==============================] - 3s 31ms/step - loss: 0.0024 - accuracy: 6.7431e-04\n",
      "Epoch 13/120\n",
      "93/93 [==============================] - 3s 32ms/step - loss: 0.0024 - accuracy: 6.7431e-04\n",
      "Epoch 14/120\n",
      "93/93 [==============================] - 3s 33ms/step - loss: 0.0022 - accuracy: 6.7431e-04\n",
      "Epoch 15/120\n",
      "93/93 [==============================] - 4s 39ms/step - loss: 0.0024 - accuracy: 6.7431e-04\n",
      "Epoch 16/120\n",
      "93/93 [==============================] - 5s 57ms/step - loss: 0.0020 - accuracy: 6.7431e-04\n",
      "Epoch 17/120\n",
      "93/93 [==============================] - 5s 56ms/step - loss: 0.0021 - accuracy: 6.7431e-04\n",
      "Epoch 18/120\n",
      "93/93 [==============================] - 5s 53ms/step - loss: 0.0019 - accuracy: 6.7431e-04\n",
      "Epoch 19/120\n",
      "93/93 [==============================] - 5s 48ms/step - loss: 0.0019 - accuracy: 6.7431e-04\n",
      "Epoch 20/120\n",
      "93/93 [==============================] - 6s 64ms/step - loss: 0.0018 - accuracy: 6.7431e-04\n",
      "Epoch 21/120\n",
      "93/93 [==============================] - 5s 58ms/step - loss: 0.0019 - accuracy: 6.7431e-04\n",
      "Epoch 22/120\n",
      "93/93 [==============================] - 5s 56ms/step - loss: 0.0018 - accuracy: 6.7431e-04\n",
      "Epoch 23/120\n",
      "93/93 [==============================] - 5s 49ms/step - loss: 0.0018 - accuracy: 6.7431e-04\n",
      "Epoch 24/120\n",
      "93/93 [==============================] - 5s 56ms/step - loss: 0.0018 - accuracy: 6.7431e-04\n",
      "Epoch 25/120\n",
      "93/93 [==============================] - 5s 58ms/step - loss: 0.0016 - accuracy: 6.7431e-04\n",
      "Epoch 26/120\n",
      "93/93 [==============================] - 5s 55ms/step - loss: 0.0016 - accuracy: 6.7431e-04\n",
      "Epoch 27/120\n",
      "93/93 [==============================] - 5s 58ms/step - loss: 0.0015 - accuracy: 6.7431e-04\n",
      "Epoch 28/120\n",
      "93/93 [==============================] - 5s 57ms/step - loss: 0.0015 - accuracy: 6.7431e-04\n",
      "Epoch 29/120\n",
      "93/93 [==============================] - 5s 56ms/step - loss: 0.0014 - accuracy: 6.7431e-04\n",
      "Epoch 30/120\n",
      "93/93 [==============================] - 5s 52ms/step - loss: 0.0015 - accuracy: 6.7431e-04\n",
      "Epoch 31/120\n",
      "93/93 [==============================] - 5s 55ms/step - loss: 0.0014 - accuracy: 6.7431e-04\n",
      "Epoch 32/120\n",
      "93/93 [==============================] - 5s 56ms/step - loss: 0.0014 - accuracy: 6.7431e-04\n",
      "Epoch 33/120\n",
      "93/93 [==============================] - 5s 56ms/step - loss: 0.0014 - accuracy: 6.7431e-04\n",
      "Epoch 34/120\n",
      "93/93 [==============================] - 5s 56ms/step - loss: 0.0012 - accuracy: 6.7431e-04\n",
      "Epoch 35/120\n",
      "93/93 [==============================] - 5s 56ms/step - loss: 0.0012 - accuracy: 6.7431e-04\n",
      "Epoch 36/120\n",
      "93/93 [==============================] - 5s 58ms/step - loss: 0.0012 - accuracy: 6.7431e-04\n",
      "Epoch 37/120\n",
      "93/93 [==============================] - 5s 57ms/step - loss: 0.0011 - accuracy: 6.7431e-04\n",
      "Epoch 38/120\n",
      "93/93 [==============================] - 5s 58ms/step - loss: 0.0012 - accuracy: 6.7431e-04\n",
      "Epoch 39/120\n",
      "93/93 [==============================] - 6s 60ms/step - loss: 0.0011 - accuracy: 6.7431e-04\n",
      "Epoch 40/120\n",
      "93/93 [==============================] - 6s 61ms/step - loss: 0.0012 - accuracy: 6.7431e-04\n",
      "Epoch 41/120\n",
      "93/93 [==============================] - 6s 63ms/step - loss: 0.0011 - accuracy: 6.7431e-04\n",
      "Epoch 42/120\n",
      "93/93 [==============================] - 6s 60ms/step - loss: 0.0011 - accuracy: 6.7431e-04\n",
      "Epoch 43/120\n",
      "93/93 [==============================] - 6s 60ms/step - loss: 0.0011 - accuracy: 6.7431e-04\n",
      "Epoch 44/120\n",
      "93/93 [==============================] - 6s 63ms/step - loss: 0.0011 - accuracy: 6.7431e-04\n",
      "Epoch 45/120\n",
      "93/93 [==============================] - 6s 65ms/step - loss: 0.0011 - accuracy: 6.7431e-04\n",
      "Epoch 46/120\n",
      "93/93 [==============================] - 6s 60ms/step - loss: 9.5658e-04 - accuracy: 6.7431e-04\n",
      "Epoch 47/120\n",
      "93/93 [==============================] - 5s 59ms/step - loss: 0.0011 - accuracy: 6.7431e-04\n",
      "Epoch 48/120\n",
      "93/93 [==============================] - 5s 55ms/step - loss: 0.0010 - accuracy: 6.7431e-04\n",
      "Epoch 49/120\n",
      "93/93 [==============================] - 6s 61ms/step - loss: 9.5489e-04 - accuracy: 6.7431e-04\n",
      "Epoch 50/120\n",
      "93/93 [==============================] - 6s 60ms/step - loss: 9.7133e-04 - accuracy: 6.7431e-04\n",
      "Epoch 51/120\n",
      "93/93 [==============================] - 6s 67ms/step - loss: 0.0010 - accuracy: 6.7431e-04\n",
      "Epoch 52/120\n",
      "93/93 [==============================] - 6s 65ms/step - loss: 9.7875e-04 - accuracy: 6.7431e-04\n",
      "Epoch 53/120\n",
      "93/93 [==============================] - 6s 65ms/step - loss: 9.3066e-04 - accuracy: 6.7431e-04\n",
      "Epoch 54/120\n",
      "93/93 [==============================] - 5s 55ms/step - loss: 8.5065e-04 - accuracy: 6.7431e-04\n",
      "Epoch 55/120\n",
      "93/93 [==============================] - 5s 58ms/step - loss: 9.4161e-04 - accuracy: 6.7431e-04\n",
      "Epoch 56/120\n",
      "93/93 [==============================] - 6s 64ms/step - loss: 9.1076e-04 - accuracy: 6.7431e-04\n",
      "Epoch 57/120\n",
      "93/93 [==============================] - 6s 60ms/step - loss: 9.0760e-04 - accuracy: 6.7431e-04\n",
      "Epoch 58/120\n",
      "93/93 [==============================] - 5s 58ms/step - loss: 7.8607e-04 - accuracy: 6.7431e-04\n",
      "Epoch 59/120\n",
      "93/93 [==============================] - 5s 58ms/step - loss: 8.5728e-04 - accuracy: 6.7431e-04\n",
      "Epoch 60/120\n",
      "93/93 [==============================] - 5s 57ms/step - loss: 8.5652e-04 - accuracy: 6.7431e-04\n",
      "Epoch 61/120\n",
      "93/93 [==============================] - 5s 57ms/step - loss: 8.3838e-04 - accuracy: 6.7431e-04\n",
      "Epoch 62/120\n",
      "93/93 [==============================] - 5s 55ms/step - loss: 8.7743e-04 - accuracy: 6.7431e-04\n",
      "Epoch 63/120\n",
      "93/93 [==============================] - 3s 33ms/step - loss: 9.1442e-04 - accuracy: 6.7431e-04\n",
      "Epoch 64/120\n",
      "93/93 [==============================] - 5s 56ms/step - loss: 8.9371e-04 - accuracy: 6.7431e-04\n",
      "Epoch 65/120\n",
      "93/93 [==============================] - 6s 62ms/step - loss: 8.3068e-04 - accuracy: 6.7431e-04\n",
      "Epoch 66/120\n",
      "93/93 [==============================] - 5s 57ms/step - loss: 8.4711e-04 - accuracy: 6.7431e-04\n",
      "Epoch 67/120\n",
      "93/93 [==============================] - 5s 56ms/step - loss: 8.7701e-04 - accuracy: 6.7431e-04\n",
      "Epoch 68/120\n",
      "93/93 [==============================] - 6s 61ms/step - loss: 8.4040e-04 - accuracy: 6.7431e-04\n",
      "Epoch 69/120\n",
      "93/93 [==============================] - 6s 65ms/step - loss: 8.2207e-04 - accuracy: 6.7431e-04\n",
      "Epoch 70/120\n",
      "93/93 [==============================] - 6s 66ms/step - loss: 7.9505e-04 - accuracy: 6.7431e-04\n",
      "Epoch 71/120\n",
      "93/93 [==============================] - 5s 59ms/step - loss: 7.9985e-04 - accuracy: 6.7431e-04\n",
      "Epoch 72/120\n",
      "93/93 [==============================] - 6s 63ms/step - loss: 7.8613e-04 - accuracy: 6.7431e-04\n",
      "Epoch 73/120\n",
      "93/93 [==============================] - 6s 68ms/step - loss: 8.1614e-04 - accuracy: 6.7431e-04\n",
      "Epoch 74/120\n",
      "93/93 [==============================] - 6s 64ms/step - loss: 7.8034e-04 - accuracy: 6.7431e-04\n",
      "Epoch 75/120\n",
      "93/93 [==============================] - 6s 63ms/step - loss: 8.0710e-04 - accuracy: 6.7431e-04\n",
      "Epoch 76/120\n",
      "93/93 [==============================] - 6s 63ms/step - loss: 8.2824e-04 - accuracy: 6.7431e-04\n",
      "Epoch 77/120\n",
      "93/93 [==============================] - 6s 63ms/step - loss: 8.6835e-04 - accuracy: 6.7431e-04\n",
      "Epoch 78/120\n",
      "93/93 [==============================] - 6s 61ms/step - loss: 8.3830e-04 - accuracy: 6.7431e-04\n",
      "Epoch 79/120\n",
      "93/93 [==============================] - 5s 54ms/step - loss: 7.9763e-04 - accuracy: 6.7431e-04\n",
      "Epoch 80/120\n",
      "93/93 [==============================] - 5s 55ms/step - loss: 7.9511e-04 - accuracy: 6.7431e-04\n",
      "Epoch 81/120\n",
      "93/93 [==============================] - 5s 55ms/step - loss: 8.3098e-04 - accuracy: 6.7431e-04\n",
      "Epoch 82/120\n",
      "93/93 [==============================] - 5s 59ms/step - loss: 8.3562e-04 - accuracy: 6.7431e-04\n",
      "Epoch 83/120\n",
      "93/93 [==============================] - 5s 52ms/step - loss: 8.0417e-04 - accuracy: 6.7431e-04\n",
      "Epoch 84/120\n",
      "93/93 [==============================] - 3s 34ms/step - loss: 8.1561e-04 - accuracy: 6.7431e-04\n",
      "Epoch 85/120\n",
      "93/93 [==============================] - 5s 54ms/step - loss: 7.8698e-04 - accuracy: 6.7431e-04\n",
      "Epoch 86/120\n",
      "93/93 [==============================] - 6s 61ms/step - loss: 7.2856e-04 - accuracy: 6.7431e-04\n",
      "Epoch 87/120\n",
      "93/93 [==============================] - 5s 58ms/step - loss: 8.5423e-04 - accuracy: 6.7431e-04\n",
      "Epoch 88/120\n",
      "93/93 [==============================] - 5s 56ms/step - loss: 7.8660e-04 - accuracy: 6.7431e-04\n",
      "Epoch 89/120\n",
      "93/93 [==============================] - 6s 60ms/step - loss: 7.4769e-04 - accuracy: 6.7431e-04\n",
      "Epoch 90/120\n",
      "93/93 [==============================] - 6s 61ms/step - loss: 7.8252e-04 - accuracy: 6.7431e-04\n",
      "Epoch 91/120\n",
      "93/93 [==============================] - 5s 56ms/step - loss: 8.0149e-04 - accuracy: 6.7431e-04\n",
      "Epoch 92/120\n",
      "93/93 [==============================] - 6s 59ms/step - loss: 7.7732e-04 - accuracy: 6.7431e-04\n",
      "Epoch 93/120\n",
      "93/93 [==============================] - 6s 60ms/step - loss: 7.4210e-04 - accuracy: 6.7431e-04\n",
      "Epoch 94/120\n",
      "93/93 [==============================] - 5s 53ms/step - loss: 7.5745e-04 - accuracy: 6.7431e-04\n",
      "Epoch 95/120\n",
      "93/93 [==============================] - 6s 64ms/step - loss: 7.1871e-04 - accuracy: 6.7431e-04\n",
      "Epoch 96/120\n",
      "93/93 [==============================] - 6s 63ms/step - loss: 7.9312e-04 - accuracy: 6.7431e-04\n",
      "Epoch 97/120\n",
      "93/93 [==============================] - 5s 57ms/step - loss: 8.1330e-04 - accuracy: 6.7431e-04\n",
      "Epoch 98/120\n",
      "93/93 [==============================] - 5s 59ms/step - loss: 7.7131e-04 - accuracy: 6.7431e-04\n",
      "Epoch 99/120\n",
      "93/93 [==============================] - 5s 57ms/step - loss: 7.5184e-04 - accuracy: 6.7431e-04\n",
      "Epoch 100/120\n",
      "93/93 [==============================] - 5s 59ms/step - loss: 7.1341e-04 - accuracy: 6.7431e-04\n",
      "Epoch 101/120\n",
      "93/93 [==============================] - 5s 56ms/step - loss: 8.2367e-04 - accuracy: 6.7431e-04\n",
      "Epoch 102/120\n",
      "93/93 [==============================] - 5s 54ms/step - loss: 7.6141e-04 - accuracy: 6.7431e-04\n",
      "Epoch 103/120\n",
      "93/93 [==============================] - 5s 56ms/step - loss: 7.3644e-04 - accuracy: 6.7431e-04\n",
      "Epoch 104/120\n",
      "93/93 [==============================] - 6s 60ms/step - loss: 7.8610e-04 - accuracy: 6.7431e-04\n",
      "Epoch 105/120\n",
      "93/93 [==============================] - 5s 59ms/step - loss: 8.1710e-04 - accuracy: 6.7431e-04\n",
      "Epoch 106/120\n",
      "93/93 [==============================] - 5s 57ms/step - loss: 7.4530e-04 - accuracy: 6.7431e-04\n",
      "Epoch 107/120\n",
      "93/93 [==============================] - 5s 58ms/step - loss: 8.1156e-04 - accuracy: 6.7431e-04\n",
      "Epoch 108/120\n",
      "93/93 [==============================] - 5s 57ms/step - loss: 7.9538e-04 - accuracy: 6.7431e-04\n",
      "Epoch 109/120\n",
      "93/93 [==============================] - 6s 60ms/step - loss: 7.2517e-04 - accuracy: 6.7431e-04\n",
      "Epoch 110/120\n",
      "93/93 [==============================] - 5s 59ms/step - loss: 7.3049e-04 - accuracy: 6.7431e-04\n",
      "Epoch 111/120\n",
      "93/93 [==============================] - 5s 55ms/step - loss: 7.9236e-04 - accuracy: 6.7431e-04\n",
      "Epoch 112/120\n",
      "93/93 [==============================] - 5s 57ms/step - loss: 7.4996e-04 - accuracy: 6.7431e-04\n",
      "Epoch 113/120\n",
      "93/93 [==============================] - 5s 56ms/step - loss: 7.0798e-04 - accuracy: 6.7431e-04\n",
      "Epoch 114/120\n",
      "93/93 [==============================] - 5s 56ms/step - loss: 7.2507e-04 - accuracy: 6.7431e-04\n",
      "Epoch 115/120\n",
      "93/93 [==============================] - 5s 56ms/step - loss: 8.0708e-04 - accuracy: 6.7431e-04\n",
      "Epoch 116/120\n",
      "93/93 [==============================] - 6s 60ms/step - loss: 7.7250e-04 - accuracy: 6.7431e-04\n",
      "Epoch 117/120\n",
      "93/93 [==============================] - 6s 63ms/step - loss: 7.5850e-04 - accuracy: 6.7431e-04\n",
      "Epoch 118/120\n",
      "93/93 [==============================] - 6s 64ms/step - loss: 7.4823e-04 - accuracy: 6.7431e-04\n",
      "Epoch 119/120\n",
      "93/93 [==============================] - 6s 62ms/step - loss: 8.1279e-04 - accuracy: 6.7431e-04\n",
      "Epoch 120/120\n",
      "93/93 [==============================] - 6s 65ms/step - loss: 7.6104e-04 - accuracy: 6.7431e-04\n"
     ]
    },
    {
     "data": {
      "text/plain": [
       "<keras.callbacks.History at 0x2b354d2a890>"
      ]
     },
     "execution_count": 17,
     "metadata": {},
     "output_type": "execute_result"
    }
   ],
   "source": [
    "regressor.fit(x= xTRAIN, y=yTRAIN, batch_size= 32, epochs= 120)"
   ]
  },
  {
   "cell_type": "code",
   "execution_count": 18,
   "id": "82a1215b-90c1-49fa-8bd6-e5c7c678bb2c",
   "metadata": {
    "tags": []
   },
   "outputs": [
    {
     "name": "stdout",
     "output_type": "stream",
     "text": [
      "93/93 [==============================] - 6s 24ms/step\n"
     ]
    }
   ],
   "source": [
    "prdctn= regressor.predict(xTRAIN)"
   ]
  },
  {
   "cell_type": "markdown",
   "id": "02c5a51c-6b13-41a0-b80d-854541b6322d",
   "metadata": {
    "tags": []
   },
   "source": [
    "regressor.save(f\"../model/exports/{company}/\")"
   ]
  },
  {
   "cell_type": "code",
   "execution_count": 19,
   "id": "e1cf83bd-e094-4ff0-8055-d7dd5b781a1b",
   "metadata": {
    "tags": []
   },
   "outputs": [
    {
     "name": "stdout",
     "output_type": "stream",
     "text": [
      "[*********************100%***********************]  1 of 1 completed\n"
     ]
    },
    {
     "data": {
      "text/html": [
       "<div>\n",
       "<style scoped>\n",
       "    .dataframe tbody tr th:only-of-type {\n",
       "        vertical-align: middle;\n",
       "    }\n",
       "\n",
       "    .dataframe tbody tr th {\n",
       "        vertical-align: top;\n",
       "    }\n",
       "\n",
       "    .dataframe thead th {\n",
       "        text-align: right;\n",
       "    }\n",
       "</style>\n",
       "<table border=\"1\" class=\"dataframe\">\n",
       "  <thead>\n",
       "    <tr style=\"text-align: right;\">\n",
       "      <th></th>\n",
       "      <th>Open</th>\n",
       "      <th>High</th>\n",
       "      <th>Low</th>\n",
       "      <th>Close</th>\n",
       "      <th>Adj Close</th>\n",
       "      <th>Volume</th>\n",
       "    </tr>\n",
       "    <tr>\n",
       "      <th>Date</th>\n",
       "      <th></th>\n",
       "      <th></th>\n",
       "      <th></th>\n",
       "      <th></th>\n",
       "      <th></th>\n",
       "      <th></th>\n",
       "    </tr>\n",
       "  </thead>\n",
       "  <tbody>\n",
       "    <tr>\n",
       "      <th>2023-06-01</th>\n",
       "      <td>922.000000</td>\n",
       "      <td>930.950012</td>\n",
       "      <td>916.049988</td>\n",
       "      <td>919.700012</td>\n",
       "      <td>917.811829</td>\n",
       "      <td>11817533</td>\n",
       "    </tr>\n",
       "    <tr>\n",
       "      <th>2023-06-02</th>\n",
       "      <td>922.650024</td>\n",
       "      <td>930.500000</td>\n",
       "      <td>920.250000</td>\n",
       "      <td>926.099976</td>\n",
       "      <td>924.198669</td>\n",
       "      <td>11616991</td>\n",
       "    </tr>\n",
       "    <tr>\n",
       "      <th>2023-06-05</th>\n",
       "      <td>927.599976</td>\n",
       "      <td>953.900024</td>\n",
       "      <td>927.599976</td>\n",
       "      <td>950.849976</td>\n",
       "      <td>948.897827</td>\n",
       "      <td>14520005</td>\n",
       "    </tr>\n",
       "    <tr>\n",
       "      <th>2023-06-06</th>\n",
       "      <td>951.099976</td>\n",
       "      <td>970.750000</td>\n",
       "      <td>951.099976</td>\n",
       "      <td>968.200012</td>\n",
       "      <td>966.212280</td>\n",
       "      <td>14457988</td>\n",
       "    </tr>\n",
       "    <tr>\n",
       "      <th>2023-06-07</th>\n",
       "      <td>972.950012</td>\n",
       "      <td>981.250000</td>\n",
       "      <td>968.099976</td>\n",
       "      <td>976.750000</td>\n",
       "      <td>974.744690</td>\n",
       "      <td>15795824</td>\n",
       "    </tr>\n",
       "    <tr>\n",
       "      <th>2023-06-08</th>\n",
       "      <td>973.049988</td>\n",
       "      <td>974.849976</td>\n",
       "      <td>959.900024</td>\n",
       "      <td>962.099976</td>\n",
       "      <td>960.124756</td>\n",
       "      <td>10209982</td>\n",
       "    </tr>\n",
       "    <tr>\n",
       "      <th>2023-06-09</th>\n",
       "      <td>967.000000</td>\n",
       "      <td>981.700012</td>\n",
       "      <td>963.299988</td>\n",
       "      <td>974.750000</td>\n",
       "      <td>972.748840</td>\n",
       "      <td>12947464</td>\n",
       "    </tr>\n",
       "    <tr>\n",
       "      <th>2023-06-12</th>\n",
       "      <td>973.000000</td>\n",
       "      <td>977.900024</td>\n",
       "      <td>968.599976</td>\n",
       "      <td>974.200012</td>\n",
       "      <td>972.199951</td>\n",
       "      <td>7465375</td>\n",
       "    </tr>\n",
       "    <tr>\n",
       "      <th>2023-06-13</th>\n",
       "      <td>974.299988</td>\n",
       "      <td>989.700012</td>\n",
       "      <td>974.299988</td>\n",
       "      <td>985.849976</td>\n",
       "      <td>983.825989</td>\n",
       "      <td>15233785</td>\n",
       "    </tr>\n",
       "    <tr>\n",
       "      <th>2023-06-14</th>\n",
       "      <td>986.000000</td>\n",
       "      <td>988.200012</td>\n",
       "      <td>976.000000</td>\n",
       "      <td>977.700012</td>\n",
       "      <td>975.692749</td>\n",
       "      <td>8644423</td>\n",
       "    </tr>\n",
       "    <tr>\n",
       "      <th>2023-06-15</th>\n",
       "      <td>988.349976</td>\n",
       "      <td>989.000000</td>\n",
       "      <td>972.200012</td>\n",
       "      <td>977.150024</td>\n",
       "      <td>975.143860</td>\n",
       "      <td>15978311</td>\n",
       "    </tr>\n",
       "    <tr>\n",
       "      <th>2023-06-16</th>\n",
       "      <td>982.799988</td>\n",
       "      <td>985.450012</td>\n",
       "      <td>977.200012</td>\n",
       "      <td>981.549988</td>\n",
       "      <td>979.534851</td>\n",
       "      <td>8860900</td>\n",
       "    </tr>\n",
       "    <tr>\n",
       "      <th>2023-06-19</th>\n",
       "      <td>983.849976</td>\n",
       "      <td>986.000000</td>\n",
       "      <td>961.000000</td>\n",
       "      <td>965.650024</td>\n",
       "      <td>963.667542</td>\n",
       "      <td>11025846</td>\n",
       "    </tr>\n",
       "    <tr>\n",
       "      <th>2023-06-20</th>\n",
       "      <td>965.950012</td>\n",
       "      <td>977.000000</td>\n",
       "      <td>958.549988</td>\n",
       "      <td>974.849976</td>\n",
       "      <td>972.848572</td>\n",
       "      <td>7596593</td>\n",
       "    </tr>\n",
       "    <tr>\n",
       "      <th>2023-06-21</th>\n",
       "      <td>978.299988</td>\n",
       "      <td>978.299988</td>\n",
       "      <td>963.150024</td>\n",
       "      <td>966.000000</td>\n",
       "      <td>964.016785</td>\n",
       "      <td>7805855</td>\n",
       "    </tr>\n",
       "    <tr>\n",
       "      <th>2023-06-22</th>\n",
       "      <td>962.200012</td>\n",
       "      <td>973.450012</td>\n",
       "      <td>958.700012</td>\n",
       "      <td>966.599976</td>\n",
       "      <td>964.615540</td>\n",
       "      <td>10135883</td>\n",
       "    </tr>\n",
       "    <tr>\n",
       "      <th>2023-06-23</th>\n",
       "      <td>960.000000</td>\n",
       "      <td>965.500000</td>\n",
       "      <td>954.549988</td>\n",
       "      <td>958.400024</td>\n",
       "      <td>956.432434</td>\n",
       "      <td>6188008</td>\n",
       "    </tr>\n",
       "    <tr>\n",
       "      <th>2023-06-26</th>\n",
       "      <td>959.500000</td>\n",
       "      <td>963.500000</td>\n",
       "      <td>953.099976</td>\n",
       "      <td>960.549988</td>\n",
       "      <td>958.577942</td>\n",
       "      <td>5799528</td>\n",
       "    </tr>\n",
       "    <tr>\n",
       "      <th>2023-06-27</th>\n",
       "      <td>967.000000</td>\n",
       "      <td>976.000000</td>\n",
       "      <td>960.799988</td>\n",
       "      <td>973.250000</td>\n",
       "      <td>971.251892</td>\n",
       "      <td>6921886</td>\n",
       "    </tr>\n",
       "    <tr>\n",
       "      <th>2023-06-28</th>\n",
       "      <td>973.250000</td>\n",
       "      <td>973.250000</td>\n",
       "      <td>973.250000</td>\n",
       "      <td>973.250000</td>\n",
       "      <td>971.251892</td>\n",
       "      <td>0</td>\n",
       "    </tr>\n",
       "    <tr>\n",
       "      <th>2023-06-30</th>\n",
       "      <td>977.099976</td>\n",
       "      <td>989.849976</td>\n",
       "      <td>976.000000</td>\n",
       "      <td>987.450012</td>\n",
       "      <td>985.422729</td>\n",
       "      <td>7096350</td>\n",
       "    </tr>\n",
       "    <tr>\n",
       "      <th>2023-07-03</th>\n",
       "      <td>990.000000</td>\n",
       "      <td>990.000000</td>\n",
       "      <td>978.000000</td>\n",
       "      <td>982.099976</td>\n",
       "      <td>980.083679</td>\n",
       "      <td>5562743</td>\n",
       "    </tr>\n",
       "    <tr>\n",
       "      <th>2023-07-04</th>\n",
       "      <td>982.099976</td>\n",
       "      <td>984.849976</td>\n",
       "      <td>969.000000</td>\n",
       "      <td>970.700012</td>\n",
       "      <td>968.707092</td>\n",
       "      <td>7396806</td>\n",
       "    </tr>\n",
       "    <tr>\n",
       "      <th>2023-07-05</th>\n",
       "      <td>969.000000</td>\n",
       "      <td>975.500000</td>\n",
       "      <td>962.099976</td>\n",
       "      <td>966.500000</td>\n",
       "      <td>964.515686</td>\n",
       "      <td>8200047</td>\n",
       "    </tr>\n",
       "    <tr>\n",
       "      <th>2023-07-06</th>\n",
       "      <td>961.000000</td>\n",
       "      <td>986.099976</td>\n",
       "      <td>961.000000</td>\n",
       "      <td>980.950012</td>\n",
       "      <td>979.950012</td>\n",
       "      <td>10221727</td>\n",
       "    </tr>\n",
       "    <tr>\n",
       "      <th>2023-07-07</th>\n",
       "      <td>976.250000</td>\n",
       "      <td>989.450012</td>\n",
       "      <td>971.799988</td>\n",
       "      <td>976.700012</td>\n",
       "      <td>976.700012</td>\n",
       "      <td>6236524</td>\n",
       "    </tr>\n",
       "    <tr>\n",
       "      <th>2023-07-10</th>\n",
       "      <td>976.700012</td>\n",
       "      <td>986.000000</td>\n",
       "      <td>960.400024</td>\n",
       "      <td>964.049988</td>\n",
       "      <td>964.049988</td>\n",
       "      <td>7138850</td>\n",
       "    </tr>\n",
       "    <tr>\n",
       "      <th>2023-07-11</th>\n",
       "      <td>967.900024</td>\n",
       "      <td>971.750000</td>\n",
       "      <td>950.599976</td>\n",
       "      <td>953.200012</td>\n",
       "      <td>953.200012</td>\n",
       "      <td>10616390</td>\n",
       "    </tr>\n",
       "    <tr>\n",
       "      <th>2023-07-12</th>\n",
       "      <td>956.700012</td>\n",
       "      <td>957.549988</td>\n",
       "      <td>947.000000</td>\n",
       "      <td>950.000000</td>\n",
       "      <td>950.000000</td>\n",
       "      <td>10141257</td>\n",
       "    </tr>\n",
       "    <tr>\n",
       "      <th>2023-07-13</th>\n",
       "      <td>956.299988</td>\n",
       "      <td>966.000000</td>\n",
       "      <td>952.150024</td>\n",
       "      <td>960.150024</td>\n",
       "      <td>960.150024</td>\n",
       "      <td>13079930</td>\n",
       "    </tr>\n",
       "    <tr>\n",
       "      <th>2023-07-14</th>\n",
       "      <td>964.450012</td>\n",
       "      <td>967.000000</td>\n",
       "      <td>947.750000</td>\n",
       "      <td>957.049988</td>\n",
       "      <td>957.049988</td>\n",
       "      <td>5383514</td>\n",
       "    </tr>\n",
       "    <tr>\n",
       "      <th>2023-07-17</th>\n",
       "      <td>960.000000</td>\n",
       "      <td>968.900024</td>\n",
       "      <td>950.450012</td>\n",
       "      <td>964.849976</td>\n",
       "      <td>964.849976</td>\n",
       "      <td>8472444</td>\n",
       "    </tr>\n",
       "    <tr>\n",
       "      <th>2023-07-18</th>\n",
       "      <td>964.000000</td>\n",
       "      <td>979.950012</td>\n",
       "      <td>951.299988</td>\n",
       "      <td>963.650024</td>\n",
       "      <td>963.650024</td>\n",
       "      <td>14457717</td>\n",
       "    </tr>\n",
       "    <tr>\n",
       "      <th>2023-07-19</th>\n",
       "      <td>964.000000</td>\n",
       "      <td>969.900024</td>\n",
       "      <td>956.500000</td>\n",
       "      <td>964.299988</td>\n",
       "      <td>964.299988</td>\n",
       "      <td>7574544</td>\n",
       "    </tr>\n",
       "    <tr>\n",
       "      <th>2023-07-20</th>\n",
       "      <td>963.900024</td>\n",
       "      <td>979.900024</td>\n",
       "      <td>957.599976</td>\n",
       "      <td>977.900024</td>\n",
       "      <td>977.900024</td>\n",
       "      <td>15329753</td>\n",
       "    </tr>\n",
       "    <tr>\n",
       "      <th>2023-07-21</th>\n",
       "      <td>971.599976</td>\n",
       "      <td>985.000000</td>\n",
       "      <td>968.000000</td>\n",
       "      <td>971.299988</td>\n",
       "      <td>971.299988</td>\n",
       "      <td>6230317</td>\n",
       "    </tr>\n",
       "    <tr>\n",
       "      <th>2023-07-24</th>\n",
       "      <td>973.450012</td>\n",
       "      <td>984.950012</td>\n",
       "      <td>968.799988</td>\n",
       "      <td>971.500000</td>\n",
       "      <td>971.500000</td>\n",
       "      <td>9167788</td>\n",
       "    </tr>\n",
       "    <tr>\n",
       "      <th>2023-07-25</th>\n",
       "      <td>977.650024</td>\n",
       "      <td>977.650024</td>\n",
       "      <td>953.799988</td>\n",
       "      <td>962.500000</td>\n",
       "      <td>962.500000</td>\n",
       "      <td>13448045</td>\n",
       "    </tr>\n",
       "    <tr>\n",
       "      <th>2023-07-26</th>\n",
       "      <td>966.849976</td>\n",
       "      <td>980.000000</td>\n",
       "      <td>963.299988</td>\n",
       "      <td>976.799988</td>\n",
       "      <td>976.799988</td>\n",
       "      <td>8298226</td>\n",
       "    </tr>\n",
       "    <tr>\n",
       "      <th>2023-07-27</th>\n",
       "      <td>989.349976</td>\n",
       "      <td>990.000000</td>\n",
       "      <td>955.750000</td>\n",
       "      <td>959.900024</td>\n",
       "      <td>959.900024</td>\n",
       "      <td>17858061</td>\n",
       "    </tr>\n",
       "    <tr>\n",
       "      <th>2023-07-28</th>\n",
       "      <td>959.900024</td>\n",
       "      <td>969.750000</td>\n",
       "      <td>942.200012</td>\n",
       "      <td>949.950012</td>\n",
       "      <td>949.950012</td>\n",
       "      <td>8504392</td>\n",
       "    </tr>\n",
       "    <tr>\n",
       "      <th>2023-07-31</th>\n",
       "      <td>954.700012</td>\n",
       "      <td>958.599976</td>\n",
       "      <td>948.299988</td>\n",
       "      <td>953.900024</td>\n",
       "      <td>953.900024</td>\n",
       "      <td>6601991</td>\n",
       "    </tr>\n",
       "    <tr>\n",
       "      <th>2023-08-01</th>\n",
       "      <td>956.000000</td>\n",
       "      <td>964.000000</td>\n",
       "      <td>952.000000</td>\n",
       "      <td>959.900024</td>\n",
       "      <td>959.900024</td>\n",
       "      <td>8409096</td>\n",
       "    </tr>\n",
       "    <tr>\n",
       "      <th>2023-08-02</th>\n",
       "      <td>951.500000</td>\n",
       "      <td>958.900024</td>\n",
       "      <td>936.599976</td>\n",
       "      <td>945.250000</td>\n",
       "      <td>945.250000</td>\n",
       "      <td>9324465</td>\n",
       "    </tr>\n",
       "    <tr>\n",
       "      <th>2023-08-03</th>\n",
       "      <td>944.099976</td>\n",
       "      <td>946.599976</td>\n",
       "      <td>927.150024</td>\n",
       "      <td>935.549988</td>\n",
       "      <td>935.549988</td>\n",
       "      <td>17076611</td>\n",
       "    </tr>\n",
       "    <tr>\n",
       "      <th>2023-08-04</th>\n",
       "      <td>947.000000</td>\n",
       "      <td>954.849976</td>\n",
       "      <td>934.650024</td>\n",
       "      <td>952.250000</td>\n",
       "      <td>952.250000</td>\n",
       "      <td>12376086</td>\n",
       "    </tr>\n",
       "    <tr>\n",
       "      <th>2023-08-07</th>\n",
       "      <td>952.250000</td>\n",
       "      <td>955.000000</td>\n",
       "      <td>944.549988</td>\n",
       "      <td>947.400024</td>\n",
       "      <td>947.400024</td>\n",
       "      <td>10922609</td>\n",
       "    </tr>\n",
       "    <tr>\n",
       "      <th>2023-08-08</th>\n",
       "      <td>950.000000</td>\n",
       "      <td>959.900024</td>\n",
       "      <td>944.049988</td>\n",
       "      <td>952.900024</td>\n",
       "      <td>952.900024</td>\n",
       "      <td>11512735</td>\n",
       "    </tr>\n",
       "    <tr>\n",
       "      <th>2023-08-09</th>\n",
       "      <td>952.000000</td>\n",
       "      <td>953.299988</td>\n",
       "      <td>944.299988</td>\n",
       "      <td>950.000000</td>\n",
       "      <td>950.000000</td>\n",
       "      <td>7701831</td>\n",
       "    </tr>\n",
       "    <tr>\n",
       "      <th>2023-08-10</th>\n",
       "      <td>948.000000</td>\n",
       "      <td>951.950012</td>\n",
       "      <td>937.299988</td>\n",
       "      <td>939.750000</td>\n",
       "      <td>939.750000</td>\n",
       "      <td>13590891</td>\n",
       "    </tr>\n",
       "    <tr>\n",
       "      <th>2023-08-11</th>\n",
       "      <td>937.500000</td>\n",
       "      <td>945.700012</td>\n",
       "      <td>933.000000</td>\n",
       "      <td>937.200012</td>\n",
       "      <td>937.200012</td>\n",
       "      <td>9558237</td>\n",
       "    </tr>\n",
       "    <tr>\n",
       "      <th>2023-08-14</th>\n",
       "      <td>935.000000</td>\n",
       "      <td>943.299988</td>\n",
       "      <td>928.900024</td>\n",
       "      <td>939.950012</td>\n",
       "      <td>939.950012</td>\n",
       "      <td>7172522</td>\n",
       "    </tr>\n",
       "    <tr>\n",
       "      <th>2023-08-16</th>\n",
       "      <td>935.950012</td>\n",
       "      <td>940.000000</td>\n",
       "      <td>931.299988</td>\n",
       "      <td>933.049988</td>\n",
       "      <td>933.049988</td>\n",
       "      <td>7394623</td>\n",
       "    </tr>\n",
       "    <tr>\n",
       "      <th>2023-08-17</th>\n",
       "      <td>935.950012</td>\n",
       "      <td>943.000000</td>\n",
       "      <td>931.650024</td>\n",
       "      <td>936.549988</td>\n",
       "      <td>936.549988</td>\n",
       "      <td>9336994</td>\n",
       "    </tr>\n",
       "    <tr>\n",
       "      <th>2023-08-18</th>\n",
       "      <td>934.849976</td>\n",
       "      <td>945.950012</td>\n",
       "      <td>931.049988</td>\n",
       "      <td>943.049988</td>\n",
       "      <td>943.049988</td>\n",
       "      <td>6648744</td>\n",
       "    </tr>\n",
       "  </tbody>\n",
       "</table>\n",
       "</div>"
      ],
      "text/plain": [
       "                  Open        High         Low       Close   Adj Close   \n",
       "Date                                                                     \n",
       "2023-06-01  922.000000  930.950012  916.049988  919.700012  917.811829  \\\n",
       "2023-06-02  922.650024  930.500000  920.250000  926.099976  924.198669   \n",
       "2023-06-05  927.599976  953.900024  927.599976  950.849976  948.897827   \n",
       "2023-06-06  951.099976  970.750000  951.099976  968.200012  966.212280   \n",
       "2023-06-07  972.950012  981.250000  968.099976  976.750000  974.744690   \n",
       "2023-06-08  973.049988  974.849976  959.900024  962.099976  960.124756   \n",
       "2023-06-09  967.000000  981.700012  963.299988  974.750000  972.748840   \n",
       "2023-06-12  973.000000  977.900024  968.599976  974.200012  972.199951   \n",
       "2023-06-13  974.299988  989.700012  974.299988  985.849976  983.825989   \n",
       "2023-06-14  986.000000  988.200012  976.000000  977.700012  975.692749   \n",
       "2023-06-15  988.349976  989.000000  972.200012  977.150024  975.143860   \n",
       "2023-06-16  982.799988  985.450012  977.200012  981.549988  979.534851   \n",
       "2023-06-19  983.849976  986.000000  961.000000  965.650024  963.667542   \n",
       "2023-06-20  965.950012  977.000000  958.549988  974.849976  972.848572   \n",
       "2023-06-21  978.299988  978.299988  963.150024  966.000000  964.016785   \n",
       "2023-06-22  962.200012  973.450012  958.700012  966.599976  964.615540   \n",
       "2023-06-23  960.000000  965.500000  954.549988  958.400024  956.432434   \n",
       "2023-06-26  959.500000  963.500000  953.099976  960.549988  958.577942   \n",
       "2023-06-27  967.000000  976.000000  960.799988  973.250000  971.251892   \n",
       "2023-06-28  973.250000  973.250000  973.250000  973.250000  971.251892   \n",
       "2023-06-30  977.099976  989.849976  976.000000  987.450012  985.422729   \n",
       "2023-07-03  990.000000  990.000000  978.000000  982.099976  980.083679   \n",
       "2023-07-04  982.099976  984.849976  969.000000  970.700012  968.707092   \n",
       "2023-07-05  969.000000  975.500000  962.099976  966.500000  964.515686   \n",
       "2023-07-06  961.000000  986.099976  961.000000  980.950012  979.950012   \n",
       "2023-07-07  976.250000  989.450012  971.799988  976.700012  976.700012   \n",
       "2023-07-10  976.700012  986.000000  960.400024  964.049988  964.049988   \n",
       "2023-07-11  967.900024  971.750000  950.599976  953.200012  953.200012   \n",
       "2023-07-12  956.700012  957.549988  947.000000  950.000000  950.000000   \n",
       "2023-07-13  956.299988  966.000000  952.150024  960.150024  960.150024   \n",
       "2023-07-14  964.450012  967.000000  947.750000  957.049988  957.049988   \n",
       "2023-07-17  960.000000  968.900024  950.450012  964.849976  964.849976   \n",
       "2023-07-18  964.000000  979.950012  951.299988  963.650024  963.650024   \n",
       "2023-07-19  964.000000  969.900024  956.500000  964.299988  964.299988   \n",
       "2023-07-20  963.900024  979.900024  957.599976  977.900024  977.900024   \n",
       "2023-07-21  971.599976  985.000000  968.000000  971.299988  971.299988   \n",
       "2023-07-24  973.450012  984.950012  968.799988  971.500000  971.500000   \n",
       "2023-07-25  977.650024  977.650024  953.799988  962.500000  962.500000   \n",
       "2023-07-26  966.849976  980.000000  963.299988  976.799988  976.799988   \n",
       "2023-07-27  989.349976  990.000000  955.750000  959.900024  959.900024   \n",
       "2023-07-28  959.900024  969.750000  942.200012  949.950012  949.950012   \n",
       "2023-07-31  954.700012  958.599976  948.299988  953.900024  953.900024   \n",
       "2023-08-01  956.000000  964.000000  952.000000  959.900024  959.900024   \n",
       "2023-08-02  951.500000  958.900024  936.599976  945.250000  945.250000   \n",
       "2023-08-03  944.099976  946.599976  927.150024  935.549988  935.549988   \n",
       "2023-08-04  947.000000  954.849976  934.650024  952.250000  952.250000   \n",
       "2023-08-07  952.250000  955.000000  944.549988  947.400024  947.400024   \n",
       "2023-08-08  950.000000  959.900024  944.049988  952.900024  952.900024   \n",
       "2023-08-09  952.000000  953.299988  944.299988  950.000000  950.000000   \n",
       "2023-08-10  948.000000  951.950012  937.299988  939.750000  939.750000   \n",
       "2023-08-11  937.500000  945.700012  933.000000  937.200012  937.200012   \n",
       "2023-08-14  935.000000  943.299988  928.900024  939.950012  939.950012   \n",
       "2023-08-16  935.950012  940.000000  931.299988  933.049988  933.049988   \n",
       "2023-08-17  935.950012  943.000000  931.650024  936.549988  936.549988   \n",
       "2023-08-18  934.849976  945.950012  931.049988  943.049988  943.049988   \n",
       "\n",
       "              Volume  \n",
       "Date                  \n",
       "2023-06-01  11817533  \n",
       "2023-06-02  11616991  \n",
       "2023-06-05  14520005  \n",
       "2023-06-06  14457988  \n",
       "2023-06-07  15795824  \n",
       "2023-06-08  10209982  \n",
       "2023-06-09  12947464  \n",
       "2023-06-12   7465375  \n",
       "2023-06-13  15233785  \n",
       "2023-06-14   8644423  \n",
       "2023-06-15  15978311  \n",
       "2023-06-16   8860900  \n",
       "2023-06-19  11025846  \n",
       "2023-06-20   7596593  \n",
       "2023-06-21   7805855  \n",
       "2023-06-22  10135883  \n",
       "2023-06-23   6188008  \n",
       "2023-06-26   5799528  \n",
       "2023-06-27   6921886  \n",
       "2023-06-28         0  \n",
       "2023-06-30   7096350  \n",
       "2023-07-03   5562743  \n",
       "2023-07-04   7396806  \n",
       "2023-07-05   8200047  \n",
       "2023-07-06  10221727  \n",
       "2023-07-07   6236524  \n",
       "2023-07-10   7138850  \n",
       "2023-07-11  10616390  \n",
       "2023-07-12  10141257  \n",
       "2023-07-13  13079930  \n",
       "2023-07-14   5383514  \n",
       "2023-07-17   8472444  \n",
       "2023-07-18  14457717  \n",
       "2023-07-19   7574544  \n",
       "2023-07-20  15329753  \n",
       "2023-07-21   6230317  \n",
       "2023-07-24   9167788  \n",
       "2023-07-25  13448045  \n",
       "2023-07-26   8298226  \n",
       "2023-07-27  17858061  \n",
       "2023-07-28   8504392  \n",
       "2023-07-31   6601991  \n",
       "2023-08-01   8409096  \n",
       "2023-08-02   9324465  \n",
       "2023-08-03  17076611  \n",
       "2023-08-04  12376086  \n",
       "2023-08-07  10922609  \n",
       "2023-08-08  11512735  \n",
       "2023-08-09   7701831  \n",
       "2023-08-10  13590891  \n",
       "2023-08-11   9558237  \n",
       "2023-08-14   7172522  \n",
       "2023-08-16   7394623  \n",
       "2023-08-17   9336994  \n",
       "2023-08-18   6648744  "
      ]
     },
     "execution_count": 19,
     "metadata": {},
     "output_type": "execute_result"
    }
   ],
   "source": [
    "testDF= yf.download(company, period='1d', start=endDate, end=datetime.datetime.now())\n",
    "testDF"
   ]
  },
  {
   "cell_type": "code",
   "execution_count": 20,
   "id": "389e55a0-69eb-47cf-911a-c25a144e7f54",
   "metadata": {
    "tags": []
   },
   "outputs": [],
   "source": [
    "realCP= testDF['Close'].values"
   ]
  },
  {
   "cell_type": "code",
   "execution_count": 21,
   "id": "b0b39f2a-b963-42e2-ac19-b094e7a600eb",
   "metadata": {
    "tags": []
   },
   "outputs": [],
   "source": [
    "dfTotal= pd.concat((df['Close'], testDF['Close']), axis=0)"
   ]
  },
  {
   "cell_type": "code",
   "execution_count": 22,
   "id": "1d38eef2-00f4-48ae-9995-45097a8e46d8",
   "metadata": {
    "tags": []
   },
   "outputs": [],
   "source": [
    "modelInp= dfTotal[len(dfTotal)-len(testDF)-60:].values"
   ]
  },
  {
   "cell_type": "code",
   "execution_count": 23,
   "id": "efadd80d-1716-4048-bbb8-9a25d60d02e4",
   "metadata": {
    "tags": []
   },
   "outputs": [],
   "source": [
    "modelInp= modelInp.reshape(-1,1)"
   ]
  },
  {
   "cell_type": "code",
   "execution_count": 24,
   "id": "129d98f2-7644-4d32-ab0a-b6f178ae339a",
   "metadata": {
    "tags": []
   },
   "outputs": [],
   "source": [
    "modelInp= scaler.transform(modelInp)"
   ]
  },
  {
   "cell_type": "code",
   "execution_count": 25,
   "id": "215cec3c-4799-4d2a-b96b-659e853a792a",
   "metadata": {
    "tags": []
   },
   "outputs": [],
   "source": [
    "xTEST= []\n",
    "\n",
    "for i in range(60, len(modelInp)):\n",
    "    xTEST.append(modelInp[i-60:i, 0])\n",
    "\n",
    "xTEST= np.array(xTEST)"
   ]
  },
  {
   "cell_type": "code",
   "execution_count": 26,
   "id": "46abbba4-f265-46e6-b2e2-82faf84b9fbc",
   "metadata": {
    "tags": []
   },
   "outputs": [
    {
     "data": {
      "text/plain": [
       "(55, 60)"
      ]
     },
     "execution_count": 26,
     "metadata": {},
     "output_type": "execute_result"
    }
   ],
   "source": [
    "xTEST.shape"
   ]
  },
  {
   "cell_type": "code",
   "execution_count": 27,
   "id": "7508bf79-7a2a-404b-bc04-78fca7301d88",
   "metadata": {
    "tags": []
   },
   "outputs": [],
   "source": [
    "xTEST= np.reshape(xTEST, newshape= (xTEST.shape[0], xTEST.shape[1], 1))"
   ]
  },
  {
   "cell_type": "code",
   "execution_count": 28,
   "id": "90fabbdf-9e5b-485e-b60b-864bcf66bf38",
   "metadata": {
    "tags": []
   },
   "outputs": [],
   "source": [
    "#pred = pred[..., 0]"
   ]
  },
  {
   "cell_type": "code",
   "execution_count": 29,
   "id": "55905254-03e5-422e-91a2-ae829100169c",
   "metadata": {
    "tags": []
   },
   "outputs": [
    {
     "name": "stdout",
     "output_type": "stream",
     "text": [
      "2/2 [==============================] - 0s 26ms/step\n"
     ]
    }
   ],
   "source": [
    "pred= regressor.predict(xTEST)"
   ]
  },
  {
   "cell_type": "code",
   "execution_count": 30,
   "id": "d632f691-866a-4672-8f85-c9fe50db3e7e",
   "metadata": {
    "tags": []
   },
   "outputs": [],
   "source": [
    "pred= scaler.inverse_transform(pred)"
   ]
  },
  {
   "cell_type": "code",
   "execution_count": 31,
   "id": "18057536-819d-4b2a-88cc-a47ffad1db0f",
   "metadata": {
    "tags": []
   },
   "outputs": [
    {
     "data": {
      "text/plain": [
       "(55, 1)"
      ]
     },
     "execution_count": 31,
     "metadata": {},
     "output_type": "execute_result"
    }
   ],
   "source": [
    "pred.shape"
   ]
  },
  {
   "cell_type": "code",
   "execution_count": 32,
   "id": "bab731b6-96d6-4757-a779-f7bdf9932dd1",
   "metadata": {
    "tags": []
   },
   "outputs": [],
   "source": [
    "import matplotlib.pyplot as plt"
   ]
  },
  {
   "cell_type": "code",
   "execution_count": 33,
   "id": "74299f9a-93c1-4c0f-849b-b7a01dd2657a",
   "metadata": {},
   "outputs": [
    {
     "data": {
      "image/png": "[encoded data removed]",
      "text/plain": [
       "<Figure size 640x480 with 1 Axes>"
      ]
     },
     "metadata": {},
     "output_type": "display_data"
    }
   ],
   "source": [
    "plt.plot(realCP, color= 'r', label= 'real close price')\n",
    "plt.plot(pred, color= 'b', label= 'predicted close price')\n",
    "plt.title(company)\n",
    "plt.legend()\n",
    "plt.show()"
   ]
  },
  {
   "cell_type": "code",
   "execution_count": 34,
   "id": "143aaaeb-a2cd-4213-afb2-b7f96e2bd61b",
   "metadata": {},
   "outputs": [],
   "source": [
    "realData= [modelInp[len(modelInp)+1-60:len(modelInp+1), 0]]"
   ]
  },
  {
   "cell_type": "code",
   "execution_count": 35,
   "id": "b7790752-9217-44a3-972f-9d0dd52fc21a",
   "metadata": {
    "tags": []
   },
   "outputs": [],
   "source": [
    "realData= np.array(realData)"
   ]
  },
  {
   "cell_type": "code",
   "execution_count": 36,
   "id": "d0d14766-e093-4c4f-96d3-7aba1a23a870",
   "metadata": {
    "tags": []
   },
   "outputs": [],
   "source": [
    "realData= np.reshape(realData, newshape=(realData.shape[0], realData.shape[1], 1))"
   ]
  },
  {
   "cell_type": "code",
   "execution_count": 37,
   "id": "d77a0da8-bf64-48a8-a4d5-35661339b47e",
   "metadata": {
    "tags": []
   },
   "outputs": [
    {
     "name": "stdout",
     "output_type": "stream",
     "text": [
      "1/1 [==============================] - 3s 3s/step\n"
     ]
    }
   ],
   "source": [
    "prediction= regressor.predict(realData)"
   ]
  },
  {
   "cell_type": "code",
   "execution_count": 38,
   "id": "02347ad7-ffae-48ad-a9b2-4ec5c20b1c2a",
   "metadata": {
    "tags": []
   },
   "outputs": [],
   "source": [
    "prediction= scaler.inverse_transform(prediction)"
   ]
  },
  {
   "cell_type": "code",
   "execution_count": 39,
   "id": "09566a1f-f9cc-4889-85b2-338b02787ee1",
   "metadata": {
    "tags": []
   },
   "outputs": [
    {
     "data": {
      "text/plain": [
       "array([[943.72046]], dtype=float32)"
      ]
     },
     "execution_count": 39,
     "metadata": {},
     "output_type": "execute_result"
    }
   ],
   "source": [
    "prediction"
   ]
  },
  {
   "cell_type": "code",
   "execution_count": 40,
   "id": "39742b81-2f89-4430-892d-538f5f2581eb",
   "metadata": {
    "tags": []
   },
   "outputs": [
    {
     "name": "stderr",
     "output_type": "stream",
     "text": [
      "WARNING:absl:Found untraced functions such as lstm_cell_layer_call_fn, lstm_cell_layer_call_and_return_conditional_losses, lstm_cell_1_layer_call_fn, lstm_cell_1_layer_call_and_return_conditional_losses, lstm_cell_2_layer_call_fn while saving (showing 5 of 6). These functions will not be directly callable after loading.\n"
     ]
    },
    {
     "name": "stdout",
     "output_type": "stream",
     "text": [
      "INFO:tensorflow:Assets written to: C:\\Users\\Rohan\\AppData\\Local\\Temp\\tmpwq9sb0j2\\assets\n"
     ]
    },
    {
     "name": "stderr",
     "output_type": "stream",
     "text": [
      "INFO:tensorflow:Assets written to: C:\\Users\\Rohan\\AppData\\Local\\Temp\\tmpwq9sb0j2\\assets\n"
     ]
    }
   ],
   "source": [
    "# Load your Keras model\n",
    "#model = tf.keras.models.load_model('../model/exports/ITC.NS/')\n",
    "\n",
    "# Convert the model to TensorFlow Lite\n",
    "converter = tf.lite.TFLiteConverter.from_keras_model(regressor)\n",
    "converter.target_spec.supported_ops = [tf.lite.OpsSet.TFLITE_BUILTINS, tf.lite.OpsSet.SELECT_TF_OPS]\n",
    "converter.experimental_lower_tensor_list_ops = False  # Disable lowering of tensor list ops\n",
    "tflite_model = converter.convert()\n",
    "\n",
    "# Save the converted TensorFlow Lite model\n",
    "tflite_model_path = f\"D:\\Code\\Projects\\stockSenseAPIv2\\exports\\hourly\\{company}.tflite\"\n",
    "with open(tflite_model_path, 'wb') as f:\n",
    "    f.write(tflite_model)"
   ]
  },
  {
   "cell_type": "code",
   "execution_count": null,
   "id": "fc4cf9fa-e4b1-48ae-a15f-301ea369c9bc",
   "metadata": {},
   "outputs": [],
   "source": []
  }
 ],
 "metadata": {
  "kernelspec": {
   "display_name": "Python 3 (ipykernel)",
   "language": "python",
   "name": "python3"
  },
  "language_info": {
   "codemirror_mode": {
    "name": "ipython",
    "version": 3
   },
   "file_extension": ".py",
   "mimetype": "text/x-python",
   "name": "python",
   "nbconvert_exporter": "python",
   "pygments_lexer": "ipython3",
   "version": "3.10.9"
  }
 },
 "nbformat": 4,
 "nbformat_minor": 5
}
