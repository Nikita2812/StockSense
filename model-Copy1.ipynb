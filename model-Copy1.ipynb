{
 "cells": [
  {
   "cell_type": "code",
   "execution_count": 1,
   "id": "71b7d6a8-d691-4bb8-973f-f9c688ca6fd9",
   "metadata": {
    "tags": []
   },
   "outputs": [],
   "source": [
    "import numpy as np\n",
    "import pandas as pd\n",
    "import yfinance as yf\n",
    "import datetime\n",
    "import pickle"
   ]
  },
  {
   "cell_type": "code",
   "execution_count": 2,
   "id": "3b5de86d-79cb-44ac-9c46-ce6408007bf4",
   "metadata": {
    "tags": []
   },
   "outputs": [],
   "source": [
    "company= 'ICICIBANK.NS'\n",
    "startDate= '2021-09-01'\n",
    "endDate= '2023-08-20'"
   ]
  },
  {
   "cell_type": "code",
   "execution_count": 3,
   "id": "ab3ac44a-8cb7-49a5-a910-e0391aa726e7",
   "metadata": {
    "tags": []
   },
   "outputs": [
    {
     "name": "stdout",
     "output_type": "stream",
     "text": [
      "[*********************100%***********************]  1 of 1 completed\n"
     ]
    },
    {
     "data": {
      "text/html": [
       "<div>\n",
       "<style scoped>\n",
       "    .dataframe tbody tr th:only-of-type {\n",
       "        vertical-align: middle;\n",
       "    }\n",
       "\n",
       "    .dataframe tbody tr th {\n",
       "        vertical-align: top;\n",
       "    }\n",
       "\n",
       "    .dataframe thead th {\n",
       "        text-align: right;\n",
       "    }\n",
       "</style>\n",
       "<table border=\"1\" class=\"dataframe\">\n",
       "  <thead>\n",
       "    <tr style=\"text-align: right;\">\n",
       "      <th></th>\n",
       "      <th>Open</th>\n",
       "      <th>High</th>\n",
       "      <th>Low</th>\n",
       "      <th>Close</th>\n",
       "      <th>Adj Close</th>\n",
       "      <th>Volume</th>\n",
       "    </tr>\n",
       "    <tr>\n",
       "      <th>Datetime</th>\n",
       "      <th></th>\n",
       "      <th></th>\n",
       "      <th></th>\n",
       "      <th></th>\n",
       "      <th></th>\n",
       "      <th></th>\n",
       "    </tr>\n",
       "  </thead>\n",
       "  <tbody>\n",
       "    <tr>\n",
       "      <th>2021-09-01 09:15:00+05:30</th>\n",
       "      <td>722.150024</td>\n",
       "      <td>734.750000</td>\n",
       "      <td>720.099976</td>\n",
       "      <td>733.599976</td>\n",
       "      <td>733.599976</td>\n",
       "      <td>0</td>\n",
       "    </tr>\n",
       "    <tr>\n",
       "      <th>2021-09-01 10:15:00+05:30</th>\n",
       "      <td>733.599976</td>\n",
       "      <td>734.400024</td>\n",
       "      <td>725.000000</td>\n",
       "      <td>726.599976</td>\n",
       "      <td>726.599976</td>\n",
       "      <td>2155281</td>\n",
       "    </tr>\n",
       "    <tr>\n",
       "      <th>2021-09-01 11:15:00+05:30</th>\n",
       "      <td>726.599976</td>\n",
       "      <td>727.450012</td>\n",
       "      <td>720.549988</td>\n",
       "      <td>721.299988</td>\n",
       "      <td>721.299988</td>\n",
       "      <td>1415091</td>\n",
       "    </tr>\n",
       "    <tr>\n",
       "      <th>2021-09-01 12:15:00+05:30</th>\n",
       "      <td>721.299988</td>\n",
       "      <td>724.500000</td>\n",
       "      <td>718.950012</td>\n",
       "      <td>723.700012</td>\n",
       "      <td>723.700012</td>\n",
       "      <td>1396670</td>\n",
       "    </tr>\n",
       "    <tr>\n",
       "      <th>2021-09-01 13:15:00+05:30</th>\n",
       "      <td>723.599976</td>\n",
       "      <td>725.849976</td>\n",
       "      <td>721.750000</td>\n",
       "      <td>724.500000</td>\n",
       "      <td>724.500000</td>\n",
       "      <td>1152705</td>\n",
       "    </tr>\n",
       "    <tr>\n",
       "      <th>...</th>\n",
       "      <td>...</td>\n",
       "      <td>...</td>\n",
       "      <td>...</td>\n",
       "      <td>...</td>\n",
       "      <td>...</td>\n",
       "      <td>...</td>\n",
       "    </tr>\n",
       "    <tr>\n",
       "      <th>2023-08-18 11:15:00+05:30</th>\n",
       "      <td>951.400024</td>\n",
       "      <td>951.799988</td>\n",
       "      <td>949.599976</td>\n",
       "      <td>951.349976</td>\n",
       "      <td>951.349976</td>\n",
       "      <td>1102002</td>\n",
       "    </tr>\n",
       "    <tr>\n",
       "      <th>2023-08-18 12:15:00+05:30</th>\n",
       "      <td>951.400024</td>\n",
       "      <td>953.200012</td>\n",
       "      <td>950.299988</td>\n",
       "      <td>952.500000</td>\n",
       "      <td>952.500000</td>\n",
       "      <td>1065889</td>\n",
       "    </tr>\n",
       "    <tr>\n",
       "      <th>2023-08-18 13:15:00+05:30</th>\n",
       "      <td>952.549988</td>\n",
       "      <td>954.299988</td>\n",
       "      <td>950.799988</td>\n",
       "      <td>950.900024</td>\n",
       "      <td>950.900024</td>\n",
       "      <td>2807318</td>\n",
       "    </tr>\n",
       "    <tr>\n",
       "      <th>2023-08-18 14:15:00+05:30</th>\n",
       "      <td>950.900024</td>\n",
       "      <td>952.200012</td>\n",
       "      <td>949.500000</td>\n",
       "      <td>951.250000</td>\n",
       "      <td>951.250000</td>\n",
       "      <td>3472955</td>\n",
       "    </tr>\n",
       "    <tr>\n",
       "      <th>2023-08-18 15:15:00+05:30</th>\n",
       "      <td>951.250000</td>\n",
       "      <td>951.799988</td>\n",
       "      <td>947.450012</td>\n",
       "      <td>950.650024</td>\n",
       "      <td>950.650024</td>\n",
       "      <td>1110407</td>\n",
       "    </tr>\n",
       "  </tbody>\n",
       "</table>\n",
       "<p>3395 rows × 6 columns</p>\n",
       "</div>"
      ],
      "text/plain": [
       "                                 Open        High         Low       Close   \n",
       "Datetime                                                                    \n",
       "2021-09-01 09:15:00+05:30  722.150024  734.750000  720.099976  733.599976  \\\n",
       "2021-09-01 10:15:00+05:30  733.599976  734.400024  725.000000  726.599976   \n",
       "2021-09-01 11:15:00+05:30  726.599976  727.450012  720.549988  721.299988   \n",
       "2021-09-01 12:15:00+05:30  721.299988  724.500000  718.950012  723.700012   \n",
       "2021-09-01 13:15:00+05:30  723.599976  725.849976  721.750000  724.500000   \n",
       "...                               ...         ...         ...         ...   \n",
       "2023-08-18 11:15:00+05:30  951.400024  951.799988  949.599976  951.349976   \n",
       "2023-08-18 12:15:00+05:30  951.400024  953.200012  950.299988  952.500000   \n",
       "2023-08-18 13:15:00+05:30  952.549988  954.299988  950.799988  950.900024   \n",
       "2023-08-18 14:15:00+05:30  950.900024  952.200012  949.500000  951.250000   \n",
       "2023-08-18 15:15:00+05:30  951.250000  951.799988  947.450012  950.650024   \n",
       "\n",
       "                            Adj Close   Volume  \n",
       "Datetime                                        \n",
       "2021-09-01 09:15:00+05:30  733.599976        0  \n",
       "2021-09-01 10:15:00+05:30  726.599976  2155281  \n",
       "2021-09-01 11:15:00+05:30  721.299988  1415091  \n",
       "2021-09-01 12:15:00+05:30  723.700012  1396670  \n",
       "2021-09-01 13:15:00+05:30  724.500000  1152705  \n",
       "...                               ...      ...  \n",
       "2023-08-18 11:15:00+05:30  951.349976  1102002  \n",
       "2023-08-18 12:15:00+05:30  952.500000  1065889  \n",
       "2023-08-18 13:15:00+05:30  950.900024  2807318  \n",
       "2023-08-18 14:15:00+05:30  951.250000  3472955  \n",
       "2023-08-18 15:15:00+05:30  950.650024  1110407  \n",
       "\n",
       "[3395 rows x 6 columns]"
      ]
     },
     "execution_count": 3,
     "metadata": {},
     "output_type": "execute_result"
    }
   ],
   "source": [
    "df= yf.download(company, interval='1h', start=startDate, end= endDate)\n",
    "df"
   ]
  },
  {
   "cell_type": "code",
   "execution_count": 4,
   "id": "befab8ef-6962-4fd4-868d-981004658ce4",
   "metadata": {
    "tags": []
   },
   "outputs": [],
   "source": [
    "trainSet= df.iloc[:, 1:2].values"
   ]
  },
  {
   "cell_type": "code",
   "execution_count": 5,
   "id": "4290e156-96af-4c1f-a302-15f2466d37e0",
   "metadata": {
    "tags": []
   },
   "outputs": [
    {
     "data": {
      "text/plain": [
       "(3395, 6)"
      ]
     },
     "execution_count": 5,
     "metadata": {},
     "output_type": "execute_result"
    }
   ],
   "source": [
    "df.shape"
   ]
  },
  {
   "cell_type": "code",
   "execution_count": 6,
   "id": "79b9ef41-ffae-4acb-9681-1da999bbff45",
   "metadata": {
    "tags": []
   },
   "outputs": [],
   "source": [
    "from sklearn.preprocessing import MinMaxScaler\n",
    "\n",
    "scaler= MinMaxScaler(feature_range=(0,1))"
   ]
  },
  {
   "cell_type": "code",
   "execution_count": 7,
   "id": "fb00b60f-d14f-42ad-b9fc-9271b12a8ff5",
   "metadata": {
    "tags": []
   },
   "outputs": [],
   "source": [
    "trainingSetScaled= scaler.fit_transform(df['Close'].values.reshape(-1,1))"
   ]
  },
  {
   "cell_type": "code",
   "execution_count": 8,
   "id": "8fab11b9-c797-41da-92ef-5290ae68928f",
   "metadata": {
    "tags": []
   },
   "outputs": [],
   "source": [
    "xTRAIN = []\n",
    "yTRAIN = []\n",
    "\n",
    "for i in range(100, len(trainingSetScaled)):\n",
    "    xTRAIN.append(trainingSetScaled[i-60:i, 0])\n",
    "    yTRAIN.append(trainingSetScaled[i, 0])\n",
    "    \n",
    "xTRAIN, yTRAIN= np.array(xTRAIN), np.array(yTRAIN)"
   ]
  },
  {
   "cell_type": "code",
   "execution_count": 9,
   "id": "cbd8001b-4a0a-4fd2-9065-b29386bc062b",
   "metadata": {
    "tags": []
   },
   "outputs": [],
   "source": [
    "xTRAIN= np.reshape(xTRAIN, newshape=(xTRAIN.shape[0], xTRAIN.shape[1], 1))"
   ]
  },
  {
   "cell_type": "code",
   "execution_count": 10,
   "id": "94428c54-0d8b-4ac5-8d29-95fbe0eb9256",
   "metadata": {
    "tags": []
   },
   "outputs": [
    {
     "data": {
      "text/plain": [
       "(3395, 1)"
      ]
     },
     "execution_count": 10,
     "metadata": {},
     "output_type": "execute_result"
    }
   ],
   "source": [
    "trainingSetScaled.shape"
   ]
  },
  {
   "cell_type": "code",
   "execution_count": 11,
   "id": "aa2e976f-2662-4a65-9906-2bcfa27011f8",
   "metadata": {
    "tags": []
   },
   "outputs": [
    {
     "data": {
      "text/plain": [
       "(3295, 60, 1)"
      ]
     },
     "execution_count": 11,
     "metadata": {},
     "output_type": "execute_result"
    }
   ],
   "source": [
    "xTRAIN.shape"
   ]
  },
  {
   "cell_type": "code",
   "execution_count": 12,
   "id": "2348c85d-8b88-4cce-bd14-1c54a71bef66",
   "metadata": {
    "tags": []
   },
   "outputs": [
    {
     "data": {
      "text/plain": [
       "(3295,)"
      ]
     },
     "execution_count": 12,
     "metadata": {},
     "output_type": "execute_result"
    }
   ],
   "source": [
    "yTRAIN.shape"
   ]
  },
  {
   "cell_type": "code",
   "execution_count": 13,
   "id": "5e6b1462-26e3-4444-bdb6-b8a67b2853e6",
   "metadata": {
    "tags": []
   },
   "outputs": [],
   "source": [
    "import tensorflow as tf\n",
    "from tensorflow import keras"
   ]
  },
  {
   "cell_type": "markdown",
   "id": "459ad3d5-8db0-4b49-aa99-8985e640c560",
   "metadata": {
    "tags": []
   },
   "source": [
    "\n",
    "if tf.test.gpu_device_name(): \n",
    "\n",
    "    print('Default GPU Device:{}'.format(tf.test.gpu_device_name()))\n",
    "\n",
    "else:\n",
    "\n",
    "   print(\"Please install GPU version of TF\")"
   ]
  },
  {
   "cell_type": "code",
   "execution_count": 14,
   "id": "d182ec53-6429-4327-a724-f1bf5c1d2ec8",
   "metadata": {
    "tags": []
   },
   "outputs": [],
   "source": [
    "regressor= keras.models.Sequential([\n",
    "    keras.layers.LSTM(units=72, return_sequences= True, input_shape= (xTRAIN.shape[1], 1)),\n",
    "    keras.layers.Dropout(rate= 0.2),\n",
    "    keras.layers.LSTM(units=60, return_sequences= True), \n",
    "    keras.layers.Dropout(rate= 0.2),\n",
    "    keras.layers.LSTM(units=50), \n",
    "    keras.layers.Dropout(rate= 0.2),\n",
    "    keras.layers.Dense(units= 1)\n",
    "])"
   ]
  },
  {
   "cell_type": "code",
   "execution_count": 15,
   "id": "0a41add4-812a-4cf4-8eb4-74f70717b4e2",
   "metadata": {
    "tags": []
   },
   "outputs": [
    {
     "name": "stdout",
     "output_type": "stream",
     "text": [
      "Model: \"sequential\"\n",
      "_________________________________________________________________\n",
      " Layer (type)                Output Shape              Param #   \n",
      "=================================================================\n",
      " lstm (LSTM)                 (None, 60, 72)            21312     \n",
      "                                                                 \n",
      " dropout (Dropout)           (None, 60, 72)            0         \n",
      "                                                                 \n",
      " lstm_1 (LSTM)               (None, 60, 60)            31920     \n",
      "                                                                 \n",
      " dropout_1 (Dropout)         (None, 60, 60)            0         \n",
      "                                                                 \n",
      " lstm_2 (LSTM)               (None, 50)                22200     \n",
      "                                                                 \n",
      " dropout_2 (Dropout)         (None, 50)                0         \n",
      "                                                                 \n",
      " dense (Dense)               (None, 1)                 51        \n",
      "                                                                 \n",
      "=================================================================\n",
      "Total params: 75,483\n",
      "Trainable params: 75,483\n",
      "Non-trainable params: 0\n",
      "_________________________________________________________________\n"
     ]
    }
   ],
   "source": [
    "regressor.summary()"
   ]
  },
  {
   "cell_type": "code",
   "execution_count": 16,
   "id": "fefcacef-bb27-46b4-9c0a-ba9dc874ff36",
   "metadata": {
    "tags": []
   },
   "outputs": [],
   "source": [
    "regressor.compile(optimizer= 'adam', loss= keras.losses.mean_squared_error, metrics=['accuracy'])"
   ]
  },
  {
   "cell_type": "code",
   "execution_count": null,
   "id": "941f7d2e-5cd5-4a22-8c08-17d610181f14",
   "metadata": {
    "tags": []
   },
   "outputs": [
    {
     "name": "stdout",
     "output_type": "stream",
     "text": [
      "Epoch 1/120\n",
      "103/103 [==============================] - 8s 23ms/step - loss: 0.0141 - accuracy: 6.0698e-04\n",
      "Epoch 2/120\n",
      "103/103 [==============================] - 2s 21ms/step - loss: 0.0039 - accuracy: 6.0698e-04\n",
      "Epoch 3/120\n",
      " 72/103 [===================>..........] - ETA: 0s - loss: 0.0035 - accuracy: 8.6806e-04"
     ]
    }
   ],
   "source": [
    "regressor.fit(x= xTRAIN, y=yTRAIN, batch_size= 32, epochs= 120)"
   ]
  },
  {
   "cell_type": "code",
   "execution_count": null,
   "id": "82a1215b-90c1-49fa-8bd6-e5c7c678bb2c",
   "metadata": {
    "tags": []
   },
   "outputs": [],
   "source": [
    "prdctn= regressor.predict(xTRAIN)"
   ]
  },
  {
   "cell_type": "markdown",
   "id": "02c5a51c-6b13-41a0-b80d-854541b6322d",
   "metadata": {
    "tags": []
   },
   "source": [
    "regressor.save(f\"../model/exports/{company}/\")"
   ]
  },
  {
   "cell_type": "code",
   "execution_count": null,
   "id": "e1cf83bd-e094-4ff0-8055-d7dd5b781a1b",
   "metadata": {
    "tags": []
   },
   "outputs": [],
   "source": [
    "testDF= yf.download(company, interval='1h', start=endDate, end=datetime.datetime.now())\n",
    "testDF"
   ]
  },
  {
   "cell_type": "code",
   "execution_count": null,
   "id": "389e55a0-69eb-47cf-911a-c25a144e7f54",
   "metadata": {
    "tags": []
   },
   "outputs": [],
   "source": [
    "realCP= testDF['Close'].values"
   ]
  },
  {
   "cell_type": "code",
   "execution_count": null,
   "id": "b0b39f2a-b963-42e2-ac19-b094e7a600eb",
   "metadata": {
    "tags": []
   },
   "outputs": [],
   "source": [
    "dfTotal= pd.concat((df['Close'], testDF['Close']), axis=0)"
   ]
  },
  {
   "cell_type": "code",
   "execution_count": null,
   "id": "1d38eef2-00f4-48ae-9995-45097a8e46d8",
   "metadata": {
    "tags": []
   },
   "outputs": [],
   "source": [
    "modelInp= dfTotal[len(dfTotal)-len(testDF)-60:].values"
   ]
  },
  {
   "cell_type": "code",
   "execution_count": null,
   "id": "efadd80d-1716-4048-bbb8-9a25d60d02e4",
   "metadata": {
    "tags": []
   },
   "outputs": [],
   "source": [
    "modelInp= modelInp.reshape(-1,1)"
   ]
  },
  {
   "cell_type": "code",
   "execution_count": null,
   "id": "129d98f2-7644-4d32-ab0a-b6f178ae339a",
   "metadata": {
    "tags": []
   },
   "outputs": [],
   "source": [
    "modelInp= scaler.transform(modelInp)"
   ]
  },
  {
   "cell_type": "code",
   "execution_count": null,
   "id": "215cec3c-4799-4d2a-b96b-659e853a792a",
   "metadata": {
    "tags": []
   },
   "outputs": [],
   "source": [
    "xTEST= []\n",
    "\n",
    "for i in range(60, len(modelInp)):\n",
    "    xTEST.append(modelInp[i-60:i, 0])\n",
    "\n",
    "xTEST= np.array(xTEST)"
   ]
  },
  {
   "cell_type": "code",
   "execution_count": null,
   "id": "46abbba4-f265-46e6-b2e2-82faf84b9fbc",
   "metadata": {
    "tags": []
   },
   "outputs": [],
   "source": [
    "xTEST.shape"
   ]
  },
  {
   "cell_type": "code",
   "execution_count": null,
   "id": "7508bf79-7a2a-404b-bc04-78fca7301d88",
   "metadata": {
    "tags": []
   },
   "outputs": [],
   "source": [
    "xTEST= np.reshape(xTEST, newshape= (xTEST.shape[0], xTEST.shape[1], 1))"
   ]
  },
  {
   "cell_type": "code",
   "execution_count": null,
   "id": "90fabbdf-9e5b-485e-b60b-864bcf66bf38",
   "metadata": {
    "tags": []
   },
   "outputs": [],
   "source": [
    "#pred = pred[..., 0]"
   ]
  },
  {
   "cell_type": "code",
   "execution_count": null,
   "id": "55905254-03e5-422e-91a2-ae829100169c",
   "metadata": {
    "tags": []
   },
   "outputs": [],
   "source": [
    "pred= regressor.predict(xTEST)"
   ]
  },
  {
   "cell_type": "code",
   "execution_count": null,
   "id": "d632f691-866a-4672-8f85-c9fe50db3e7e",
   "metadata": {
    "tags": []
   },
   "outputs": [],
   "source": [
    "pred= scaler.inverse_transform(pred)"
   ]
  },
  {
   "cell_type": "code",
   "execution_count": null,
   "id": "18057536-819d-4b2a-88cc-a47ffad1db0f",
   "metadata": {
    "tags": []
   },
   "outputs": [],
   "source": [
    "pred.shape"
   ]
  },
  {
   "cell_type": "code",
   "execution_count": null,
   "id": "bab731b6-96d6-4757-a779-f7bdf9932dd1",
   "metadata": {
    "tags": []
   },
   "outputs": [],
   "source": [
    "import matplotlib.pyplot as plt"
   ]
  },
  {
   "cell_type": "code",
   "execution_count": null,
   "id": "74299f9a-93c1-4c0f-849b-b7a01dd2657a",
   "metadata": {},
   "outputs": [],
   "source": [
    "plt.plot(realCP, color= 'r', label= 'real close price')\n",
    "plt.plot(pred, color= 'b', label= 'predicted close price')\n",
    "plt.title(company)\n",
    "plt.legend()\n",
    "plt.show()"
   ]
  },
  {
   "cell_type": "code",
   "execution_count": null,
   "id": "143aaaeb-a2cd-4213-afb2-b7f96e2bd61b",
   "metadata": {},
   "outputs": [],
   "source": [
    "realData= [modelInp[len(modelInp)+1-60:len(modelInp+1), 0]]"
   ]
  },
  {
   "cell_type": "code",
   "execution_count": null,
   "id": "b7790752-9217-44a3-972f-9d0dd52fc21a",
   "metadata": {
    "tags": []
   },
   "outputs": [],
   "source": [
    "realData= np.array(realData)"
   ]
  },
  {
   "cell_type": "code",
   "execution_count": null,
   "id": "d0d14766-e093-4c4f-96d3-7aba1a23a870",
   "metadata": {
    "tags": []
   },
   "outputs": [],
   "source": [
    "realData= np.reshape(realData, newshape=(realData.shape[0], realData.shape[1], 1))"
   ]
  },
  {
   "cell_type": "code",
   "execution_count": null,
   "id": "d77a0da8-bf64-48a8-a4d5-35661339b47e",
   "metadata": {
    "tags": []
   },
   "outputs": [],
   "source": [
    "prediction= regressor.predict(realData)"
   ]
  },
  {
   "cell_type": "code",
   "execution_count": null,
   "id": "02347ad7-ffae-48ad-a9b2-4ec5c20b1c2a",
   "metadata": {
    "tags": []
   },
   "outputs": [],
   "source": [
    "prediction= scaler.inverse_transform(prediction)"
   ]
  },
  {
   "cell_type": "code",
   "execution_count": null,
   "id": "09566a1f-f9cc-4889-85b2-338b02787ee1",
   "metadata": {
    "tags": []
   },
   "outputs": [],
   "source": [
    "prediction"
   ]
  },
  {
   "cell_type": "markdown",
   "id": "cec959ba-ed27-4874-9988-a1f4d77220fc",
   "metadata": {
    "tags": []
   },
   "source": [
    "print(\"attempting to save scaler values.........\")\n",
    "scaler_path= f\"D:\\Code\\Projects\\stockSenseAPIv2\\hourlyExports\\scalers\\{company}-scaler.pkl\"\n",
    "with open(scaler_path, 'wb') as f:\n",
    "    pickle.dump(scaler, f)\n",
    "\n",
    "print(\"attempting to save dataframe.........\")\n",
    "data_path= f\"D:\\Code\\Projects\\stockSenseAPIv2\\hourlyExports\\datas\\{company}-data.csv\"\n",
    "df.to_csv(data_path)\n",
    "\n",
    "print(\"attempting to save model...........\")\n",
    "# Load your Keras model\n",
    "#model = tf.keras.models.load_model('../model/exports/ITC.NS/')\n",
    "\n",
    "# Convert the model to TensorFlow Lite\n",
    "converter = tf.lite.TFLiteConverter.from_keras_model(regressor)\n",
    "converter.target_spec.supported_ops = [tf.lite.OpsSet.TFLITE_BUILTINS, tf.lite.OpsSet.SELECT_TF_OPS]\n",
    "converter.experimental_lower_tensor_list_ops = False  # Disable lowering of tensor list ops\n",
    "tflite_model = converter.convert()\n",
    "\n",
    "# Save the converted TensorFlow Lite model\n",
    "tflite_model_path = f\"D:\\Code\\Projects\\stockSenseAPIv2\\hourlyExports\\{company}.tflite\"\n",
    "with open(tflite_model_path, 'wb') as f:\n",
    "    f.write(tflite_model)\n",
    "print(\"assets saving completed!\")"
   ]
  },
  {
   "cell_type": "code",
   "execution_count": null,
   "id": "fc4cf9fa-e4b1-48ae-a15f-301ea369c9bc",
   "metadata": {},
   "outputs": [],
   "source": []
  },
  {
   "cell_type": "code",
   "execution_count": null,
   "id": "1ec99461-e28f-455c-b933-23204a4437d6",
   "metadata": {},
   "outputs": [],
   "source": []
  }
 ],
 "metadata": {
  "kernelspec": {
   "display_name": "Python 3 (ipykernel)",
   "language": "python",
   "name": "python3"
  },
  "language_info": {
   "codemirror_mode": {
    "name": "ipython",
    "version": 3
   },
   "file_extension": ".py",
   "mimetype": "text/x-python",
   "name": "python",
   "nbconvert_exporter": "python",
   "pygments_lexer": "ipython3",
   "version": "3.10.9"
  }
 },
 "nbformat": 4,
 "nbformat_minor": 5
}
