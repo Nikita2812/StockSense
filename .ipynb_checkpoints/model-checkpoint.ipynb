{
 "cells": [
  {
   "cell_type": "code",
   "execution_count": 1,
   "id": "71b7d6a8-d691-4bb8-973f-f9c688ca6fd9",
   "metadata": {
    "tags": []
   },
   "outputs": [],
   "source": [
    "import numpy as np\n",
    "import pandas as pd\n",
    "import yfinance as yf\n",
    "import datetime"
   ]
  },
  {
   "cell_type": "code",
   "execution_count": 2,
   "id": "3b5de86d-79cb-44ac-9c46-ce6408007bf4",
   "metadata": {
    "tags": []
   },
   "outputs": [],
   "source": [
    "company= 'SBIN.NS'\n",
    "endDate= '2023-01-26'"
   ]
  },
  {
   "cell_type": "code",
   "execution_count": 3,
   "id": "ab3ac44a-8cb7-49a5-a910-e0391aa726e7",
   "metadata": {
    "tags": []
   },
   "outputs": [
    {
     "name": "stdout",
     "output_type": "stream",
     "text": [
      "[*********************100%***********************]  1 of 1 completed\n"
     ]
    },
    {
     "data": {
      "text/html": [
       "<div>\n",
       "<style scoped>\n",
       "    .dataframe tbody tr th:only-of-type {\n",
       "        vertical-align: middle;\n",
       "    }\n",
       "\n",
       "    .dataframe tbody tr th {\n",
       "        vertical-align: top;\n",
       "    }\n",
       "\n",
       "    .dataframe thead th {\n",
       "        text-align: right;\n",
       "    }\n",
       "</style>\n",
       "<table border=\"1\" class=\"dataframe\">\n",
       "  <thead>\n",
       "    <tr style=\"text-align: right;\">\n",
       "      <th></th>\n",
       "      <th>Open</th>\n",
       "      <th>High</th>\n",
       "      <th>Low</th>\n",
       "      <th>Close</th>\n",
       "      <th>Adj Close</th>\n",
       "      <th>Volume</th>\n",
       "    </tr>\n",
       "    <tr>\n",
       "      <th>Date</th>\n",
       "      <th></th>\n",
       "      <th></th>\n",
       "      <th></th>\n",
       "      <th></th>\n",
       "      <th></th>\n",
       "      <th></th>\n",
       "    </tr>\n",
       "  </thead>\n",
       "  <tbody>\n",
       "    <tr>\n",
       "      <th>2017-10-03</th>\n",
       "      <td>735.000000</td>\n",
       "      <td>740.000000</td>\n",
       "      <td>701.700012</td>\n",
       "      <td>707.549988</td>\n",
       "      <td>698.202271</td>\n",
       "      <td>35367877</td>\n",
       "    </tr>\n",
       "    <tr>\n",
       "      <th>2017-10-04</th>\n",
       "      <td>710.150024</td>\n",
       "      <td>710.750000</td>\n",
       "      <td>699.000000</td>\n",
       "      <td>703.650024</td>\n",
       "      <td>694.353943</td>\n",
       "      <td>3613280</td>\n",
       "    </tr>\n",
       "    <tr>\n",
       "      <th>2017-10-05</th>\n",
       "      <td>704.549988</td>\n",
       "      <td>704.549988</td>\n",
       "      <td>686.099976</td>\n",
       "      <td>694.549988</td>\n",
       "      <td>685.374146</td>\n",
       "      <td>2680742</td>\n",
       "    </tr>\n",
       "    <tr>\n",
       "      <th>2017-10-06</th>\n",
       "      <td>693.900024</td>\n",
       "      <td>702.000000</td>\n",
       "      <td>689.000000</td>\n",
       "      <td>696.750000</td>\n",
       "      <td>687.545105</td>\n",
       "      <td>1416485</td>\n",
       "    </tr>\n",
       "    <tr>\n",
       "      <th>2017-10-09</th>\n",
       "      <td>694.099976</td>\n",
       "      <td>702.500000</td>\n",
       "      <td>694.099976</td>\n",
       "      <td>698.650024</td>\n",
       "      <td>689.420044</td>\n",
       "      <td>951473</td>\n",
       "    </tr>\n",
       "    <tr>\n",
       "      <th>...</th>\n",
       "      <td>...</td>\n",
       "      <td>...</td>\n",
       "      <td>...</td>\n",
       "      <td>...</td>\n",
       "      <td>...</td>\n",
       "      <td>...</td>\n",
       "    </tr>\n",
       "    <tr>\n",
       "      <th>2023-01-19</th>\n",
       "      <td>1313.000000</td>\n",
       "      <td>1330.000000</td>\n",
       "      <td>1303.599976</td>\n",
       "      <td>1323.099976</td>\n",
       "      <td>1320.000122</td>\n",
       "      <td>1189082</td>\n",
       "    </tr>\n",
       "    <tr>\n",
       "      <th>2023-01-20</th>\n",
       "      <td>1324.050049</td>\n",
       "      <td>1325.949951</td>\n",
       "      <td>1292.349976</td>\n",
       "      <td>1296.099976</td>\n",
       "      <td>1293.063354</td>\n",
       "      <td>966855</td>\n",
       "    </tr>\n",
       "    <tr>\n",
       "      <th>2023-01-23</th>\n",
       "      <td>1285.000000</td>\n",
       "      <td>1318.150024</td>\n",
       "      <td>1280.000000</td>\n",
       "      <td>1295.400024</td>\n",
       "      <td>1292.365112</td>\n",
       "      <td>1367408</td>\n",
       "    </tr>\n",
       "    <tr>\n",
       "      <th>2023-01-24</th>\n",
       "      <td>1296.000000</td>\n",
       "      <td>1301.000000</td>\n",
       "      <td>1270.199951</td>\n",
       "      <td>1273.250000</td>\n",
       "      <td>1270.266968</td>\n",
       "      <td>657428</td>\n",
       "    </tr>\n",
       "    <tr>\n",
       "      <th>2023-01-25</th>\n",
       "      <td>1273.199951</td>\n",
       "      <td>1278.800049</td>\n",
       "      <td>1250.050049</td>\n",
       "      <td>1257.449951</td>\n",
       "      <td>1254.503906</td>\n",
       "      <td>599832</td>\n",
       "    </tr>\n",
       "  </tbody>\n",
       "</table>\n",
       "<p>1316 rows × 6 columns</p>\n",
       "</div>"
      ],
      "text/plain": [
       "                   Open         High          Low        Close    Adj Close   \n",
       "Date                                                                          \n",
       "2017-10-03   735.000000   740.000000   701.700012   707.549988   698.202271  \\\n",
       "2017-10-04   710.150024   710.750000   699.000000   703.650024   694.353943   \n",
       "2017-10-05   704.549988   704.549988   686.099976   694.549988   685.374146   \n",
       "2017-10-06   693.900024   702.000000   689.000000   696.750000   687.545105   \n",
       "2017-10-09   694.099976   702.500000   694.099976   698.650024   689.420044   \n",
       "...                 ...          ...          ...          ...          ...   \n",
       "2023-01-19  1313.000000  1330.000000  1303.599976  1323.099976  1320.000122   \n",
       "2023-01-20  1324.050049  1325.949951  1292.349976  1296.099976  1293.063354   \n",
       "2023-01-23  1285.000000  1318.150024  1280.000000  1295.400024  1292.365112   \n",
       "2023-01-24  1296.000000  1301.000000  1270.199951  1273.250000  1270.266968   \n",
       "2023-01-25  1273.199951  1278.800049  1250.050049  1257.449951  1254.503906   \n",
       "\n",
       "              Volume  \n",
       "Date                  \n",
       "2017-10-03  35367877  \n",
       "2017-10-04   3613280  \n",
       "2017-10-05   2680742  \n",
       "2017-10-06   1416485  \n",
       "2017-10-09    951473  \n",
       "...              ...  \n",
       "2023-01-19   1189082  \n",
       "2023-01-20    966855  \n",
       "2023-01-23   1367408  \n",
       "2023-01-24    657428  \n",
       "2023-01-25    599832  \n",
       "\n",
       "[1316 rows x 6 columns]"
      ]
     },
     "execution_count": 3,
     "metadata": {},
     "output_type": "execute_result"
    }
   ],
   "source": [
    "df= yf.download(company, period='max', end= endDate)\n",
    "df"
   ]
  },
  {
   "cell_type": "code",
   "execution_count": 4,
   "id": "befab8ef-6962-4fd4-868d-981004658ce4",
   "metadata": {
    "tags": []
   },
   "outputs": [],
   "source": [
    "trainSet= df.iloc[:, 1:2].values"
   ]
  },
  {
   "cell_type": "code",
   "execution_count": 5,
   "id": "4290e156-96af-4c1f-a302-15f2466d37e0",
   "metadata": {
    "tags": []
   },
   "outputs": [
    {
     "data": {
      "text/plain": [
       "(1316, 6)"
      ]
     },
     "execution_count": 5,
     "metadata": {},
     "output_type": "execute_result"
    }
   ],
   "source": [
    "df.shape"
   ]
  },
  {
   "cell_type": "code",
   "execution_count": 6,
   "id": "79b9ef41-ffae-4acb-9681-1da999bbff45",
   "metadata": {
    "tags": []
   },
   "outputs": [],
   "source": [
    "from sklearn.preprocessing import MinMaxScaler\n",
    "\n",
    "scaler= MinMaxScaler(feature_range=(0,1))"
   ]
  },
  {
   "cell_type": "code",
   "execution_count": 7,
   "id": "fb00b60f-d14f-42ad-b9fc-9271b12a8ff5",
   "metadata": {
    "tags": []
   },
   "outputs": [],
   "source": [
    "trainingSetScaled= scaler.fit_transform(df['Close'].values.reshape(-1,1))"
   ]
  },
  {
   "cell_type": "code",
   "execution_count": 8,
   "id": "8fab11b9-c797-41da-92ef-5290ae68928f",
   "metadata": {
    "tags": []
   },
   "outputs": [],
   "source": [
    "xTRAIN = []\n",
    "yTRAIN = []\n",
    "\n",
    "for i in range(100, len(trainingSetScaled)):\n",
    "    xTRAIN.append(trainingSetScaled[i-60:i, 0])\n",
    "    yTRAIN.append(trainingSetScaled[i, 0])\n",
    "    \n",
    "xTRAIN, yTRAIN= np.array(xTRAIN), np.array(yTRAIN)"
   ]
  },
  {
   "cell_type": "code",
   "execution_count": 9,
   "id": "cbd8001b-4a0a-4fd2-9065-b29386bc062b",
   "metadata": {
    "tags": []
   },
   "outputs": [],
   "source": [
    "xTRAIN= np.reshape(xTRAIN, newshape=(xTRAIN.shape[0], xTRAIN.shape[1], 1))"
   ]
  },
  {
   "cell_type": "code",
   "execution_count": 10,
   "id": "94428c54-0d8b-4ac5-8d29-95fbe0eb9256",
   "metadata": {
    "tags": []
   },
   "outputs": [
    {
     "data": {
      "text/plain": [
       "(1316, 1)"
      ]
     },
     "execution_count": 10,
     "metadata": {},
     "output_type": "execute_result"
    }
   ],
   "source": [
    "trainingSetScaled.shape"
   ]
  },
  {
   "cell_type": "code",
   "execution_count": 11,
   "id": "aa2e976f-2662-4a65-9906-2bcfa27011f8",
   "metadata": {
    "tags": []
   },
   "outputs": [
    {
     "data": {
      "text/plain": [
       "(1216, 60, 1)"
      ]
     },
     "execution_count": 11,
     "metadata": {},
     "output_type": "execute_result"
    }
   ],
   "source": [
    "xTRAIN.shape"
   ]
  },
  {
   "cell_type": "code",
   "execution_count": 12,
   "id": "2348c85d-8b88-4cce-bd14-1c54a71bef66",
   "metadata": {
    "tags": []
   },
   "outputs": [
    {
     "data": {
      "text/plain": [
       "(1216,)"
      ]
     },
     "execution_count": 12,
     "metadata": {},
     "output_type": "execute_result"
    }
   ],
   "source": [
    "yTRAIN.shape"
   ]
  },
  {
   "cell_type": "code",
   "execution_count": 13,
   "id": "5e6b1462-26e3-4444-bdb6-b8a67b2853e6",
   "metadata": {
    "tags": []
   },
   "outputs": [],
   "source": [
    "import tensorflow as tf\n",
    "from tensorflow import keras"
   ]
  },
  {
   "cell_type": "markdown",
   "id": "459ad3d5-8db0-4b49-aa99-8985e640c560",
   "metadata": {
    "tags": []
   },
   "source": [
    "\n",
    "if tf.test.gpu_device_name(): \n",
    "\n",
    "    print('Default GPU Device:{}'.format(tf.test.gpu_device_name()))\n",
    "\n",
    "else:\n",
    "\n",
    "   print(\"Please install GPU version of TF\")"
   ]
  },
  {
   "cell_type": "code",
   "execution_count": 14,
   "id": "d182ec53-6429-4327-a724-f1bf5c1d2ec8",
   "metadata": {
    "tags": []
   },
   "outputs": [],
   "source": [
    "regressor= keras.models.Sequential([\n",
    "    keras.layers.LSTM(units=84, return_sequences= True, input_shape= (xTRAIN.shape[1], 1)),\n",
    "    keras.layers.Dropout(rate= 0.2),\n",
    "    keras.layers.LSTM(units=64, return_sequences= True), \n",
    "    keras.layers.Dropout(rate= 0.2),\n",
    "    keras.layers.LSTM(units=50), \n",
    "    keras.layers.Dropout(rate= 0.2),\n",
    "    keras.layers.Dense(units= 1)\n",
    "])"
   ]
  },
  {
   "cell_type": "code",
   "execution_count": 15,
   "id": "0a41add4-812a-4cf4-8eb4-74f70717b4e2",
   "metadata": {
    "tags": []
   },
   "outputs": [
    {
     "name": "stdout",
     "output_type": "stream",
     "text": [
      "Model: \"sequential\"\n",
      "_________________________________________________________________\n",
      " Layer (type)                Output Shape              Param #   \n",
      "=================================================================\n",
      " lstm (LSTM)                 (None, 60, 84)            28896     \n",
      "                                                                 \n",
      " dropout (Dropout)           (None, 60, 84)            0         \n",
      "                                                                 \n",
      " lstm_1 (LSTM)               (None, 60, 64)            38144     \n",
      "                                                                 \n",
      " dropout_1 (Dropout)         (None, 60, 64)            0         \n",
      "                                                                 \n",
      " lstm_2 (LSTM)               (None, 50)                23000     \n",
      "                                                                 \n",
      " dropout_2 (Dropout)         (None, 50)                0         \n",
      "                                                                 \n",
      " dense (Dense)               (None, 1)                 51        \n",
      "                                                                 \n",
      "=================================================================\n",
      "Total params: 90,091\n",
      "Trainable params: 90,091\n",
      "Non-trainable params: 0\n",
      "_________________________________________________________________\n"
     ]
    }
   ],
   "source": [
    "regressor.summary()"
   ]
  },
  {
   "cell_type": "code",
   "execution_count": 16,
   "id": "fefcacef-bb27-46b4-9c0a-ba9dc874ff36",
   "metadata": {
    "tags": []
   },
   "outputs": [],
   "source": [
    "regressor.compile(optimizer= 'adam', loss= keras.losses.mean_squared_error)"
   ]
  },
  {
   "cell_type": "code",
   "execution_count": 17,
   "id": "941f7d2e-5cd5-4a22-8c08-17d610181f14",
   "metadata": {
    "tags": []
   },
   "outputs": [
    {
     "name": "stdout",
     "output_type": "stream",
     "text": [
      "Epoch 1/150\n",
      "38/38 [==============================] - 4s 18ms/step - loss: 0.0346\n",
      "Epoch 2/150\n",
      "38/38 [==============================] - 1s 17ms/step - loss: 0.0065\n",
      "Epoch 3/150\n",
      "38/38 [==============================] - 1s 18ms/step - loss: 0.0058\n",
      "Epoch 4/150\n",
      "38/38 [==============================] - 1s 18ms/step - loss: 0.0056\n",
      "Epoch 5/150\n",
      "38/38 [==============================] - 1s 16ms/step - loss: 0.0049\n",
      "Epoch 6/150\n",
      "38/38 [==============================] - 1s 16ms/step - loss: 0.0058\n",
      "Epoch 7/150\n",
      "38/38 [==============================] - 1s 17ms/step - loss: 0.0048\n",
      "Epoch 8/150\n",
      "38/38 [==============================] - 1s 17ms/step - loss: 0.0048\n",
      "Epoch 9/150\n",
      "38/38 [==============================] - 1s 17ms/step - loss: 0.0046\n",
      "Epoch 10/150\n",
      "38/38 [==============================] - 1s 17ms/step - loss: 0.0045\n",
      "Epoch 11/150\n",
      "38/38 [==============================] - 1s 16ms/step - loss: 0.0042\n",
      "Epoch 12/150\n",
      "38/38 [==============================] - 1s 17ms/step - loss: 0.0044\n",
      "Epoch 13/150\n",
      "38/38 [==============================] - 1s 17ms/step - loss: 0.0038\n",
      "Epoch 14/150\n",
      "38/38 [==============================] - 1s 17ms/step - loss: 0.0043\n",
      "Epoch 15/150\n",
      "38/38 [==============================] - 1s 17ms/step - loss: 0.0041\n",
      "Epoch 16/150\n",
      "38/38 [==============================] - 1s 17ms/step - loss: 0.0036\n",
      "Epoch 17/150\n",
      "38/38 [==============================] - 1s 17ms/step - loss: 0.0037\n",
      "Epoch 18/150\n",
      "38/38 [==============================] - 1s 16ms/step - loss: 0.0037\n",
      "Epoch 19/150\n",
      "38/38 [==============================] - 1s 17ms/step - loss: 0.0035\n",
      "Epoch 20/150\n",
      "38/38 [==============================] - 1s 17ms/step - loss: 0.0036\n",
      "Epoch 21/150\n",
      "38/38 [==============================] - 1s 16ms/step - loss: 0.0035\n",
      "Epoch 22/150\n",
      "38/38 [==============================] - 1s 16ms/step - loss: 0.0037\n",
      "Epoch 23/150\n",
      "38/38 [==============================] - 1s 16ms/step - loss: 0.0029\n",
      "Epoch 24/150\n",
      "38/38 [==============================] - 1s 17ms/step - loss: 0.0030\n",
      "Epoch 25/150\n",
      "38/38 [==============================] - 1s 16ms/step - loss: 0.0032\n",
      "Epoch 26/150\n",
      "38/38 [==============================] - 1s 17ms/step - loss: 0.0031\n",
      "Epoch 27/150\n",
      "38/38 [==============================] - 1s 16ms/step - loss: 0.0030\n",
      "Epoch 28/150\n",
      "38/38 [==============================] - 1s 16ms/step - loss: 0.0029\n",
      "Epoch 29/150\n",
      "38/38 [==============================] - 1s 16ms/step - loss: 0.0029\n",
      "Epoch 30/150\n",
      "38/38 [==============================] - 1s 17ms/step - loss: 0.0026\n",
      "Epoch 31/150\n",
      "38/38 [==============================] - 1s 17ms/step - loss: 0.0027\n",
      "Epoch 32/150\n",
      "38/38 [==============================] - 1s 16ms/step - loss: 0.0027\n",
      "Epoch 33/150\n",
      "38/38 [==============================] - 1s 16ms/step - loss: 0.0025\n",
      "Epoch 34/150\n",
      "38/38 [==============================] - 1s 17ms/step - loss: 0.0025\n",
      "Epoch 35/150\n",
      "38/38 [==============================] - 1s 17ms/step - loss: 0.0024\n",
      "Epoch 36/150\n",
      "38/38 [==============================] - 1s 16ms/step - loss: 0.0026\n",
      "Epoch 37/150\n",
      "38/38 [==============================] - 1s 16ms/step - loss: 0.0025\n",
      "Epoch 38/150\n",
      "38/38 [==============================] - 1s 16ms/step - loss: 0.0023\n",
      "Epoch 39/150\n",
      "38/38 [==============================] - 1s 17ms/step - loss: 0.0028\n",
      "Epoch 40/150\n",
      "38/38 [==============================] - 1s 17ms/step - loss: 0.0024\n",
      "Epoch 41/150\n",
      "38/38 [==============================] - 1s 17ms/step - loss: 0.0024\n",
      "Epoch 42/150\n",
      "38/38 [==============================] - 1s 16ms/step - loss: 0.0023\n",
      "Epoch 43/150\n",
      "38/38 [==============================] - 1s 18ms/step - loss: 0.0022\n",
      "Epoch 44/150\n",
      "38/38 [==============================] - 1s 16ms/step - loss: 0.0022\n",
      "Epoch 45/150\n",
      "38/38 [==============================] - 1s 17ms/step - loss: 0.0027\n",
      "Epoch 46/150\n",
      "38/38 [==============================] - 1s 17ms/step - loss: 0.0024\n",
      "Epoch 47/150\n",
      "38/38 [==============================] - 1s 16ms/step - loss: 0.0022\n",
      "Epoch 48/150\n",
      "38/38 [==============================] - 1s 16ms/step - loss: 0.0021\n",
      "Epoch 49/150\n",
      "38/38 [==============================] - 1s 17ms/step - loss: 0.0022\n",
      "Epoch 50/150\n",
      "38/38 [==============================] - 1s 16ms/step - loss: 0.0021\n",
      "Epoch 51/150\n",
      "38/38 [==============================] - 1s 16ms/step - loss: 0.0023\n",
      "Epoch 52/150\n",
      "38/38 [==============================] - 1s 16ms/step - loss: 0.0021\n",
      "Epoch 53/150\n",
      "38/38 [==============================] - 1s 19ms/step - loss: 0.0020\n",
      "Epoch 54/150\n",
      "38/38 [==============================] - 1s 17ms/step - loss: 0.0021\n",
      "Epoch 55/150\n",
      "38/38 [==============================] - 1s 17ms/step - loss: 0.0020\n",
      "Epoch 56/150\n",
      "38/38 [==============================] - 1s 17ms/step - loss: 0.0021\n",
      "Epoch 57/150\n",
      "38/38 [==============================] - 1s 16ms/step - loss: 0.0019\n",
      "Epoch 58/150\n",
      "38/38 [==============================] - 1s 16ms/step - loss: 0.0019\n",
      "Epoch 59/150\n",
      "38/38 [==============================] - 1s 16ms/step - loss: 0.0022\n",
      "Epoch 60/150\n",
      "38/38 [==============================] - 1s 16ms/step - loss: 0.0020\n",
      "Epoch 61/150\n",
      "38/38 [==============================] - 1s 17ms/step - loss: 0.0018\n",
      "Epoch 62/150\n",
      "38/38 [==============================] - 1s 17ms/step - loss: 0.0017\n",
      "Epoch 63/150\n",
      "38/38 [==============================] - 1s 16ms/step - loss: 0.0018\n",
      "Epoch 64/150\n",
      "38/38 [==============================] - 1s 16ms/step - loss: 0.0017\n",
      "Epoch 65/150\n",
      "38/38 [==============================] - 1s 17ms/step - loss: 0.0021\n",
      "Epoch 66/150\n",
      "38/38 [==============================] - 1s 17ms/step - loss: 0.0016\n",
      "Epoch 67/150\n",
      "38/38 [==============================] - 1s 16ms/step - loss: 0.0019\n",
      "Epoch 68/150\n",
      "38/38 [==============================] - 1s 16ms/step - loss: 0.0016\n",
      "Epoch 69/150\n",
      "38/38 [==============================] - 1s 16ms/step - loss: 0.0017\n",
      "Epoch 70/150\n",
      "38/38 [==============================] - 1s 17ms/step - loss: 0.0016\n",
      "Epoch 71/150\n",
      "38/38 [==============================] - 1s 17ms/step - loss: 0.0017\n",
      "Epoch 72/150\n",
      "38/38 [==============================] - 1s 16ms/step - loss: 0.0016\n",
      "Epoch 73/150\n",
      "38/38 [==============================] - 1s 16ms/step - loss: 0.0017\n",
      "Epoch 74/150\n",
      "38/38 [==============================] - 1s 16ms/step - loss: 0.0017\n",
      "Epoch 75/150\n",
      "38/38 [==============================] - 1s 17ms/step - loss: 0.0018\n",
      "Epoch 76/150\n",
      "38/38 [==============================] - 1s 16ms/step - loss: 0.0016\n",
      "Epoch 77/150\n",
      "38/38 [==============================] - 1s 17ms/step - loss: 0.0016\n",
      "Epoch 78/150\n",
      "38/38 [==============================] - 1s 17ms/step - loss: 0.0014\n",
      "Epoch 79/150\n",
      "38/38 [==============================] - 1s 17ms/step - loss: 0.0014\n",
      "Epoch 80/150\n",
      "38/38 [==============================] - 1s 17ms/step - loss: 0.0015\n",
      "Epoch 81/150\n",
      "38/38 [==============================] - 1s 17ms/step - loss: 0.0015\n",
      "Epoch 82/150\n",
      "38/38 [==============================] - 1s 17ms/step - loss: 0.0015\n",
      "Epoch 83/150\n",
      "38/38 [==============================] - 1s 18ms/step - loss: 0.0014\n",
      "Epoch 84/150\n",
      "38/38 [==============================] - 1s 17ms/step - loss: 0.0014\n",
      "Epoch 85/150\n",
      "38/38 [==============================] - 1s 17ms/step - loss: 0.0014\n",
      "Epoch 86/150\n",
      "38/38 [==============================] - 1s 16ms/step - loss: 0.0014\n",
      "Epoch 87/150\n",
      "38/38 [==============================] - 1s 16ms/step - loss: 0.0014\n",
      "Epoch 88/150\n",
      "38/38 [==============================] - 1s 17ms/step - loss: 0.0014\n",
      "Epoch 89/150\n",
      "38/38 [==============================] - 1s 16ms/step - loss: 0.0014\n",
      "Epoch 90/150\n",
      "38/38 [==============================] - 1s 16ms/step - loss: 0.0014\n",
      "Epoch 91/150\n",
      "38/38 [==============================] - 1s 16ms/step - loss: 0.0013\n",
      "Epoch 92/150\n",
      "38/38 [==============================] - 1s 17ms/step - loss: 0.0013\n",
      "Epoch 93/150\n",
      "38/38 [==============================] - 1s 17ms/step - loss: 0.0014\n",
      "Epoch 94/150\n",
      "38/38 [==============================] - 1s 17ms/step - loss: 0.0015\n",
      "Epoch 95/150\n",
      "38/38 [==============================] - 1s 16ms/step - loss: 0.0013\n",
      "Epoch 96/150\n",
      "38/38 [==============================] - 1s 17ms/step - loss: 0.0013\n",
      "Epoch 97/150\n",
      "38/38 [==============================] - 1s 16ms/step - loss: 0.0013\n",
      "Epoch 98/150\n",
      "38/38 [==============================] - 1s 16ms/step - loss: 0.0012\n",
      "Epoch 99/150\n",
      "38/38 [==============================] - 1s 16ms/step - loss: 0.0014\n",
      "Epoch 100/150\n",
      "38/38 [==============================] - 1s 17ms/step - loss: 0.0013\n",
      "Epoch 101/150\n",
      "38/38 [==============================] - 1s 17ms/step - loss: 0.0014\n",
      "Epoch 102/150\n",
      "38/38 [==============================] - 1s 16ms/step - loss: 0.0015\n",
      "Epoch 103/150\n",
      "38/38 [==============================] - 1s 17ms/step - loss: 0.0013\n",
      "Epoch 104/150\n",
      "38/38 [==============================] - 1s 17ms/step - loss: 0.0013\n",
      "Epoch 105/150\n",
      "38/38 [==============================] - 1s 17ms/step - loss: 0.0013\n",
      "Epoch 106/150\n",
      "38/38 [==============================] - 1s 17ms/step - loss: 0.0013\n",
      "Epoch 107/150\n",
      "38/38 [==============================] - 1s 17ms/step - loss: 0.0012\n",
      "Epoch 108/150\n",
      "38/38 [==============================] - 1s 16ms/step - loss: 0.0014\n",
      "Epoch 109/150\n",
      "38/38 [==============================] - 1s 17ms/step - loss: 0.0015\n",
      "Epoch 110/150\n",
      "38/38 [==============================] - 1s 16ms/step - loss: 0.0013\n",
      "Epoch 111/150\n",
      "38/38 [==============================] - 1s 16ms/step - loss: 0.0012\n",
      "Epoch 112/150\n",
      "38/38 [==============================] - 1s 17ms/step - loss: 0.0013\n",
      "Epoch 113/150\n",
      "38/38 [==============================] - 1s 17ms/step - loss: 0.0014\n",
      "Epoch 114/150\n",
      "38/38 [==============================] - 1s 17ms/step - loss: 0.0012\n",
      "Epoch 115/150\n",
      "38/38 [==============================] - 1s 17ms/step - loss: 0.0012\n",
      "Epoch 116/150\n",
      "38/38 [==============================] - 1s 17ms/step - loss: 0.0012\n",
      "Epoch 117/150\n",
      "38/38 [==============================] - 1s 17ms/step - loss: 0.0011\n",
      "Epoch 118/150\n",
      "38/38 [==============================] - 1s 16ms/step - loss: 0.0012\n",
      "Epoch 119/150\n",
      "38/38 [==============================] - 1s 17ms/step - loss: 0.0010\n",
      "Epoch 120/150\n",
      "38/38 [==============================] - 1s 16ms/step - loss: 0.0012\n",
      "Epoch 121/150\n",
      "38/38 [==============================] - 1s 16ms/step - loss: 0.0011\n",
      "Epoch 122/150\n",
      "38/38 [==============================] - 1s 17ms/step - loss: 0.0012\n",
      "Epoch 123/150\n",
      "38/38 [==============================] - 1s 16ms/step - loss: 0.0011\n",
      "Epoch 124/150\n",
      "38/38 [==============================] - 1s 17ms/step - loss: 0.0011\n",
      "Epoch 125/150\n",
      "38/38 [==============================] - 1s 18ms/step - loss: 0.0012\n",
      "Epoch 126/150\n",
      "38/38 [==============================] - 1s 17ms/step - loss: 0.0011\n",
      "Epoch 127/150\n",
      "38/38 [==============================] - 1s 16ms/step - loss: 0.0011\n",
      "Epoch 128/150\n",
      "38/38 [==============================] - 1s 17ms/step - loss: 0.0011\n",
      "Epoch 129/150\n",
      "38/38 [==============================] - 1s 17ms/step - loss: 0.0012\n",
      "Epoch 130/150\n",
      "38/38 [==============================] - 1s 17ms/step - loss: 0.0011\n",
      "Epoch 131/150\n",
      "38/38 [==============================] - 1s 18ms/step - loss: 0.0012\n",
      "Epoch 132/150\n",
      "38/38 [==============================] - 1s 17ms/step - loss: 0.0011\n",
      "Epoch 133/150\n",
      "38/38 [==============================] - 1s 17ms/step - loss: 0.0013\n",
      "Epoch 134/150\n",
      "38/38 [==============================] - 1s 17ms/step - loss: 0.0010\n",
      "Epoch 135/150\n",
      "38/38 [==============================] - 1s 16ms/step - loss: 0.0011\n",
      "Epoch 136/150\n",
      "38/38 [==============================] - 1s 17ms/step - loss: 0.0011\n",
      "Epoch 137/150\n",
      "38/38 [==============================] - 1s 17ms/step - loss: 0.0012\n",
      "Epoch 138/150\n",
      "38/38 [==============================] - 1s 16ms/step - loss: 0.0012\n",
      "Epoch 139/150\n",
      "38/38 [==============================] - 1s 16ms/step - loss: 0.0013\n",
      "Epoch 140/150\n",
      "38/38 [==============================] - 1s 17ms/step - loss: 0.0012\n",
      "Epoch 141/150\n",
      "38/38 [==============================] - 1s 16ms/step - loss: 0.0011\n",
      "Epoch 142/150\n",
      "38/38 [==============================] - 1s 17ms/step - loss: 0.0011\n",
      "Epoch 143/150\n",
      "38/38 [==============================] - 1s 17ms/step - loss: 0.0011\n",
      "Epoch 144/150\n",
      "38/38 [==============================] - 1s 17ms/step - loss: 0.0010\n",
      "Epoch 145/150\n",
      "38/38 [==============================] - 1s 17ms/step - loss: 0.0011\n",
      "Epoch 146/150\n",
      "38/38 [==============================] - 1s 16ms/step - loss: 9.9702e-04\n",
      "Epoch 147/150\n",
      "38/38 [==============================] - 1s 17ms/step - loss: 9.6818e-04\n",
      "Epoch 148/150\n",
      "38/38 [==============================] - 1s 17ms/step - loss: 0.0010\n",
      "Epoch 149/150\n",
      "38/38 [==============================] - 1s 16ms/step - loss: 0.0011\n",
      "Epoch 150/150\n",
      "38/38 [==============================] - 1s 17ms/step - loss: 0.0011\n"
     ]
    },
    {
     "data": {
      "text/plain": [
       "<keras.callbacks.History at 0x12acc9332b0>"
      ]
     },
     "execution_count": 17,
     "metadata": {},
     "output_type": "execute_result"
    }
   ],
   "source": [
    "regressor.fit(x= xTRAIN, y=yTRAIN, batch_size= 32, epochs= 150)"
   ]
  },
  {
   "cell_type": "code",
   "execution_count": 18,
   "id": "82a1215b-90c1-49fa-8bd6-e5c7c678bb2c",
   "metadata": {
    "tags": []
   },
   "outputs": [
    {
     "name": "stdout",
     "output_type": "stream",
     "text": [
      "38/38 [==============================] - 1s 8ms/step\n"
     ]
    }
   ],
   "source": [
    "prdctn= regressor.predict(xTRAIN)"
   ]
  },
  {
   "cell_type": "markdown",
   "id": "02c5a51c-6b13-41a0-b80d-854541b6322d",
   "metadata": {
    "tags": []
   },
   "source": [
    "regressor.save(f\"../model/exports/{company}/\")"
   ]
  },
  {
   "cell_type": "code",
   "execution_count": 19,
   "id": "e1cf83bd-e094-4ff0-8055-d7dd5b781a1b",
   "metadata": {
    "tags": []
   },
   "outputs": [
    {
     "name": "stdout",
     "output_type": "stream",
     "text": [
      "[*********************100%***********************]  1 of 1 completed\n"
     ]
    },
    {
     "data": {
      "text/html": [
       "<div>\n",
       "<style scoped>\n",
       "    .dataframe tbody tr th:only-of-type {\n",
       "        vertical-align: middle;\n",
       "    }\n",
       "\n",
       "    .dataframe tbody tr th {\n",
       "        vertical-align: top;\n",
       "    }\n",
       "\n",
       "    .dataframe thead th {\n",
       "        text-align: right;\n",
       "    }\n",
       "</style>\n",
       "<table border=\"1\" class=\"dataframe\">\n",
       "  <thead>\n",
       "    <tr style=\"text-align: right;\">\n",
       "      <th></th>\n",
       "      <th>Open</th>\n",
       "      <th>High</th>\n",
       "      <th>Low</th>\n",
       "      <th>Close</th>\n",
       "      <th>Adj Close</th>\n",
       "      <th>Volume</th>\n",
       "    </tr>\n",
       "    <tr>\n",
       "      <th>Date</th>\n",
       "      <th></th>\n",
       "      <th></th>\n",
       "      <th></th>\n",
       "      <th></th>\n",
       "      <th></th>\n",
       "      <th></th>\n",
       "    </tr>\n",
       "  </thead>\n",
       "  <tbody>\n",
       "    <tr>\n",
       "      <th>2023-01-27</th>\n",
       "      <td>1263.699951</td>\n",
       "      <td>1291.500000</td>\n",
       "      <td>1230.000000</td>\n",
       "      <td>1250.250000</td>\n",
       "      <td>1247.320801</td>\n",
       "      <td>1164597</td>\n",
       "    </tr>\n",
       "    <tr>\n",
       "      <th>2023-01-30</th>\n",
       "      <td>1222.000000</td>\n",
       "      <td>1244.449951</td>\n",
       "      <td>1215.599976</td>\n",
       "      <td>1233.449951</td>\n",
       "      <td>1230.560181</td>\n",
       "      <td>1694822</td>\n",
       "    </tr>\n",
       "    <tr>\n",
       "      <th>2023-01-31</th>\n",
       "      <td>1243.699951</td>\n",
       "      <td>1243.699951</td>\n",
       "      <td>1212.550049</td>\n",
       "      <td>1219.550049</td>\n",
       "      <td>1216.692749</td>\n",
       "      <td>1760628</td>\n",
       "    </tr>\n",
       "    <tr>\n",
       "      <th>2023-02-01</th>\n",
       "      <td>1219.550049</td>\n",
       "      <td>1228.750000</td>\n",
       "      <td>1068.849976</td>\n",
       "      <td>1109.400024</td>\n",
       "      <td>1106.800781</td>\n",
       "      <td>8470232</td>\n",
       "    </tr>\n",
       "    <tr>\n",
       "      <th>2023-02-02</th>\n",
       "      <td>1090.199951</td>\n",
       "      <td>1155.000000</td>\n",
       "      <td>1088.750000</td>\n",
       "      <td>1107.500000</td>\n",
       "      <td>1104.905273</td>\n",
       "      <td>8566734</td>\n",
       "    </tr>\n",
       "    <tr>\n",
       "      <th>...</th>\n",
       "      <td>...</td>\n",
       "      <td>...</td>\n",
       "      <td>...</td>\n",
       "      <td>...</td>\n",
       "      <td>...</td>\n",
       "      <td>...</td>\n",
       "    </tr>\n",
       "    <tr>\n",
       "      <th>2023-07-12</th>\n",
       "      <td>1291.000000</td>\n",
       "      <td>1306.599976</td>\n",
       "      <td>1291.000000</td>\n",
       "      <td>1300.599976</td>\n",
       "      <td>1300.599976</td>\n",
       "      <td>905809</td>\n",
       "    </tr>\n",
       "    <tr>\n",
       "      <th>2023-07-13</th>\n",
       "      <td>1312.000000</td>\n",
       "      <td>1336.000000</td>\n",
       "      <td>1305.050049</td>\n",
       "      <td>1313.949951</td>\n",
       "      <td>1313.949951</td>\n",
       "      <td>1579954</td>\n",
       "    </tr>\n",
       "    <tr>\n",
       "      <th>2023-07-14</th>\n",
       "      <td>1320.500000</td>\n",
       "      <td>1326.050049</td>\n",
       "      <td>1311.349976</td>\n",
       "      <td>1320.300049</td>\n",
       "      <td>1320.300049</td>\n",
       "      <td>1321159</td>\n",
       "    </tr>\n",
       "    <tr>\n",
       "      <th>2023-07-17</th>\n",
       "      <td>1321.000000</td>\n",
       "      <td>1328.550049</td>\n",
       "      <td>1296.750000</td>\n",
       "      <td>1314.500000</td>\n",
       "      <td>1314.500000</td>\n",
       "      <td>1055414</td>\n",
       "    </tr>\n",
       "    <tr>\n",
       "      <th>2023-07-18</th>\n",
       "      <td>1315.000000</td>\n",
       "      <td>1322.300049</td>\n",
       "      <td>1305.650024</td>\n",
       "      <td>1308.650024</td>\n",
       "      <td>1308.650024</td>\n",
       "      <td>577465</td>\n",
       "    </tr>\n",
       "  </tbody>\n",
       "</table>\n",
       "<p>116 rows × 6 columns</p>\n",
       "</div>"
      ],
      "text/plain": [
       "                   Open         High          Low        Close    Adj Close   \n",
       "Date                                                                          \n",
       "2023-01-27  1263.699951  1291.500000  1230.000000  1250.250000  1247.320801  \\\n",
       "2023-01-30  1222.000000  1244.449951  1215.599976  1233.449951  1230.560181   \n",
       "2023-01-31  1243.699951  1243.699951  1212.550049  1219.550049  1216.692749   \n",
       "2023-02-01  1219.550049  1228.750000  1068.849976  1109.400024  1106.800781   \n",
       "2023-02-02  1090.199951  1155.000000  1088.750000  1107.500000  1104.905273   \n",
       "...                 ...          ...          ...          ...          ...   \n",
       "2023-07-12  1291.000000  1306.599976  1291.000000  1300.599976  1300.599976   \n",
       "2023-07-13  1312.000000  1336.000000  1305.050049  1313.949951  1313.949951   \n",
       "2023-07-14  1320.500000  1326.050049  1311.349976  1320.300049  1320.300049   \n",
       "2023-07-17  1321.000000  1328.550049  1296.750000  1314.500000  1314.500000   \n",
       "2023-07-18  1315.000000  1322.300049  1305.650024  1308.650024  1308.650024   \n",
       "\n",
       "             Volume  \n",
       "Date                 \n",
       "2023-01-27  1164597  \n",
       "2023-01-30  1694822  \n",
       "2023-01-31  1760628  \n",
       "2023-02-01  8470232  \n",
       "2023-02-02  8566734  \n",
       "...             ...  \n",
       "2023-07-12   905809  \n",
       "2023-07-13  1579954  \n",
       "2023-07-14  1321159  \n",
       "2023-07-17  1055414  \n",
       "2023-07-18   577465  \n",
       "\n",
       "[116 rows x 6 columns]"
      ]
     },
     "execution_count": 19,
     "metadata": {},
     "output_type": "execute_result"
    }
   ],
   "source": [
    "testDF= yf.download(company, period='1d', start=endDate, end=datetime.datetime.now())\n",
    "testDF"
   ]
  },
  {
   "cell_type": "code",
   "execution_count": 20,
   "id": "389e55a0-69eb-47cf-911a-c25a144e7f54",
   "metadata": {
    "tags": []
   },
   "outputs": [],
   "source": [
    "realCP= testDF['Close'].values"
   ]
  },
  {
   "cell_type": "code",
   "execution_count": 21,
   "id": "b0b39f2a-b963-42e2-ac19-b094e7a600eb",
   "metadata": {
    "tags": []
   },
   "outputs": [],
   "source": [
    "dfTotal= pd.concat((df['Close'], testDF['Close']), axis=0)"
   ]
  },
  {
   "cell_type": "code",
   "execution_count": 22,
   "id": "1d38eef2-00f4-48ae-9995-45097a8e46d8",
   "metadata": {
    "tags": []
   },
   "outputs": [],
   "source": [
    "modelInp= dfTotal[len(dfTotal)-len(testDF)-60:].values"
   ]
  },
  {
   "cell_type": "code",
   "execution_count": 23,
   "id": "efadd80d-1716-4048-bbb8-9a25d60d02e4",
   "metadata": {
    "tags": []
   },
   "outputs": [],
   "source": [
    "modelInp= modelInp.reshape(-1,1)"
   ]
  },
  {
   "cell_type": "code",
   "execution_count": 24,
   "id": "129d98f2-7644-4d32-ab0a-b6f178ae339a",
   "metadata": {
    "tags": []
   },
   "outputs": [],
   "source": [
    "modelInp= scaler.transform(modelInp)"
   ]
  },
  {
   "cell_type": "code",
   "execution_count": 25,
   "id": "215cec3c-4799-4d2a-b96b-659e853a792a",
   "metadata": {
    "tags": []
   },
   "outputs": [],
   "source": [
    "xTEST= []\n",
    "\n",
    "for i in range(60, len(modelInp)):\n",
    "    xTEST.append(modelInp[i-60:i, 0])\n",
    "\n",
    "xTEST= np.array(xTEST)"
   ]
  },
  {
   "cell_type": "code",
   "execution_count": 26,
   "id": "46abbba4-f265-46e6-b2e2-82faf84b9fbc",
   "metadata": {
    "tags": []
   },
   "outputs": [
    {
     "data": {
      "text/plain": [
       "(116, 60)"
      ]
     },
     "execution_count": 26,
     "metadata": {},
     "output_type": "execute_result"
    }
   ],
   "source": [
    "xTEST.shape"
   ]
  },
  {
   "cell_type": "code",
   "execution_count": 27,
   "id": "7508bf79-7a2a-404b-bc04-78fca7301d88",
   "metadata": {
    "tags": []
   },
   "outputs": [],
   "source": [
    "xTEST= np.reshape(xTEST, newshape= (xTEST.shape[0], xTEST.shape[1], 1))"
   ]
  },
  {
   "cell_type": "code",
   "execution_count": 28,
   "id": "90fabbdf-9e5b-485e-b60b-864bcf66bf38",
   "metadata": {
    "tags": []
   },
   "outputs": [],
   "source": [
    "#pred = pred[..., 0]"
   ]
  },
  {
   "cell_type": "code",
   "execution_count": 29,
   "id": "55905254-03e5-422e-91a2-ae829100169c",
   "metadata": {
    "tags": []
   },
   "outputs": [
    {
     "name": "stdout",
     "output_type": "stream",
     "text": [
      "4/4 [==============================] - 1s 9ms/step\n"
     ]
    }
   ],
   "source": [
    "pred= regressor.predict(xTEST)"
   ]
  },
  {
   "cell_type": "code",
   "execution_count": 30,
   "id": "d632f691-866a-4672-8f85-c9fe50db3e7e",
   "metadata": {
    "tags": []
   },
   "outputs": [],
   "source": [
    "pred= scaler.inverse_transform(pred)"
   ]
  },
  {
   "cell_type": "code",
   "execution_count": 31,
   "id": "18057536-819d-4b2a-88cc-a47ffad1db0f",
   "metadata": {
    "tags": []
   },
   "outputs": [
    {
     "data": {
      "text/plain": [
       "(116, 1)"
      ]
     },
     "execution_count": 31,
     "metadata": {},
     "output_type": "execute_result"
    }
   ],
   "source": [
    "pred.shape"
   ]
  },
  {
   "cell_type": "code",
   "execution_count": 32,
   "id": "bab731b6-96d6-4757-a779-f7bdf9932dd1",
   "metadata": {
    "tags": []
   },
   "outputs": [],
   "source": [
    "import matplotlib.pyplot as plt"
   ]
  },
  {
   "cell_type": "code",
   "execution_count": 33,
   "id": "74299f9a-93c1-4c0f-849b-b7a01dd2657a",
   "metadata": {},
   "outputs": [
    {
     "data": {
      "image/png": "[encoded data removed]",
      "text/plain": [
       "<Figure size 640x480 with 1 Axes>"
      ]
     },
     "metadata": {},
     "output_type": "display_data"
    }
   ],
   "source": [
    "plt.plot(realCP, color= 'r', label= 'real close price')\n",
    "plt.plot(pred, color= 'b', label= 'predicted close price')\n",
    "plt.title(company)\n",
    "plt.legend()\n",
    "plt.show()"
   ]
  },
  {
   "cell_type": "code",
   "execution_count": 34,
   "id": "143aaaeb-a2cd-4213-afb2-b7f96e2bd61b",
   "metadata": {},
   "outputs": [],
   "source": [
    "realData= [modelInp[len(modelInp)+1-60:len(modelInp+1), 0]]"
   ]
  },
  {
   "cell_type": "code",
   "execution_count": 35,
   "id": "b7790752-9217-44a3-972f-9d0dd52fc21a",
   "metadata": {
    "tags": []
   },
   "outputs": [],
   "source": [
    "realData= np.array(realData)"
   ]
  },
  {
   "cell_type": "code",
   "execution_count": 36,
   "id": "d0d14766-e093-4c4f-96d3-7aba1a23a870",
   "metadata": {
    "tags": []
   },
   "outputs": [],
   "source": [
    "realData= np.reshape(realData, newshape=(realData.shape[0], realData.shape[1], 1))"
   ]
  },
  {
   "cell_type": "code",
   "execution_count": 37,
   "id": "d77a0da8-bf64-48a8-a4d5-35661339b47e",
   "metadata": {
    "tags": []
   },
   "outputs": [
    {
     "name": "stdout",
     "output_type": "stream",
     "text": [
      "1/1 [==============================] - 1s 655ms/step\n"
     ]
    }
   ],
   "source": [
    "prediction= regressor.predict(realData)"
   ]
  },
  {
   "cell_type": "code",
   "execution_count": 38,
   "id": "02347ad7-ffae-48ad-a9b2-4ec5c20b1c2a",
   "metadata": {
    "tags": []
   },
   "outputs": [],
   "source": [
    "prediction= scaler.inverse_transform(prediction)"
   ]
  },
  {
   "cell_type": "code",
   "execution_count": 39,
   "id": "09566a1f-f9cc-4889-85b2-338b02787ee1",
   "metadata": {
    "tags": []
   },
   "outputs": [
    {
     "data": {
      "text/plain": [
       "array([[1293.9893]], dtype=float32)"
      ]
     },
     "execution_count": 39,
     "metadata": {},
     "output_type": "execute_result"
    }
   ],
   "source": [
    "prediction"
   ]
  },
  {
   "cell_type": "code",
   "execution_count": 40,
   "id": "39742b81-2f89-4430-892d-538f5f2581eb",
   "metadata": {
    "tags": []
   },
   "outputs": [
    {
     "name": "stderr",
     "output_type": "stream",
     "text": [
      "WARNING:absl:Found untraced functions such as lstm_cell_layer_call_fn, lstm_cell_layer_call_and_return_conditional_losses, lstm_cell_1_layer_call_fn, lstm_cell_1_layer_call_and_return_conditional_losses, lstm_cell_2_layer_call_fn while saving (showing 5 of 6). These functions will not be directly callable after loading.\n"
     ]
    },
    {
     "name": "stdout",
     "output_type": "stream",
     "text": [
      "INFO:tensorflow:Assets written to: C:\\Users\\Rohan\\AppData\\Local\\Temp\\tmpy0aq5m8e\\assets\n"
     ]
    },
    {
     "name": "stderr",
     "output_type": "stream",
     "text": [
      "INFO:tensorflow:Assets written to: C:\\Users\\Rohan\\AppData\\Local\\Temp\\tmpy0aq5m8e\\assets\n"
     ]
    }
   ],
   "source": [
    "# Load your Keras model\n",
    "#model = tf.keras.models.load_model('../model/exports/ITC.NS/')\n",
    "\n",
    "# Convert the model to TensorFlow Lite\n",
    "converter = tf.lite.TFLiteConverter.from_keras_model(regressor)\n",
    "converter.target_spec.supported_ops = [tf.lite.OpsSet.TFLITE_BUILTINS, tf.lite.OpsSet.SELECT_TF_OPS]\n",
    "converter.experimental_lower_tensor_list_ops = False  # Disable lowering of tensor list ops\n",
    "tflite_model = converter.convert()\n",
    "\n",
    "# Save the converted TensorFlow Lite model\n",
    "tflite_model_path = f\"D:\\Code\\Projects\\stockSenseAPIv2\\exports\\{company}.tflite\"\n",
    "with open(tflite_model_path, 'wb') as f:\n",
    "    f.write(tflite_model)"
   ]
  },
  {
   "cell_type": "code",
   "execution_count": null,
   "id": "fc4cf9fa-e4b1-48ae-a15f-301ea369c9bc",
   "metadata": {},
   "outputs": [],
   "source": []
  }
 ],
 "metadata": {
  "kernelspec": {
   "display_name": "Python 3 (ipykernel)",
   "language": "python",
   "name": "python3"
  },
  "language_info": {
   "codemirror_mode": {
    "name": "ipython",
    "version": 3
   },
   "file_extension": ".py",
   "mimetype": "text/x-python",
   "name": "python",
   "nbconvert_exporter": "python",
   "pygments_lexer": "ipython3",
   "version": "3.10.9"
  }
 },
 "nbformat": 4,
 "nbformat_minor": 5
}
