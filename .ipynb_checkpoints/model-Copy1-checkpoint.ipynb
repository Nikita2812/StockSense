{
 "cells": [
  {
   "cell_type": "code",
   "execution_count": 1,
   "id": "71b7d6a8-d691-4bb8-973f-f9c688ca6fd9",
   "metadata": {
    "tags": []
   },
   "outputs": [],
   "source": [
    "import numpy as np\n",
    "import pandas as pd\n",
    "import yfinance as yf\n",
    "import datetime\n",
    "import pickle"
   ]
  },
  {
   "cell_type": "code",
   "execution_count": 6,
   "id": "3b5de86d-79cb-44ac-9c46-ce6408007bf4",
   "metadata": {
    "tags": []
   },
   "outputs": [],
   "source": [
    "company= 'AXISBANK.NS'\n",
    "startDate= '2021-09-01'\n",
    "endDate= '2023-08-20'"
   ]
  },
  {
   "cell_type": "code",
   "execution_count": 7,
   "id": "ab3ac44a-8cb7-49a5-a910-e0391aa726e7",
   "metadata": {
    "tags": []
   },
   "outputs": [
    {
     "name": "stdout",
     "output_type": "stream",
     "text": [
      "[*********************100%***********************]  1 of 1 completed\n"
     ]
    },
    {
     "data": {
      "text/html": [
       "<div>\n",
       "<style scoped>\n",
       "    .dataframe tbody tr th:only-of-type {\n",
       "        vertical-align: middle;\n",
       "    }\n",
       "\n",
       "    .dataframe tbody tr th {\n",
       "        vertical-align: top;\n",
       "    }\n",
       "\n",
       "    .dataframe thead th {\n",
       "        text-align: right;\n",
       "    }\n",
       "</style>\n",
       "<table border=\"1\" class=\"dataframe\">\n",
       "  <thead>\n",
       "    <tr style=\"text-align: right;\">\n",
       "      <th></th>\n",
       "      <th>Open</th>\n",
       "      <th>High</th>\n",
       "      <th>Low</th>\n",
       "      <th>Close</th>\n",
       "      <th>Adj Close</th>\n",
       "      <th>Volume</th>\n",
       "    </tr>\n",
       "    <tr>\n",
       "      <th>Datetime</th>\n",
       "      <th></th>\n",
       "      <th></th>\n",
       "      <th></th>\n",
       "      <th></th>\n",
       "      <th></th>\n",
       "      <th></th>\n",
       "    </tr>\n",
       "  </thead>\n",
       "  <tbody>\n",
       "    <tr>\n",
       "      <th>2021-09-01 09:15:00+05:30</th>\n",
       "      <td>798.099976</td>\n",
       "      <td>819.000000</td>\n",
       "      <td>796.000000</td>\n",
       "      <td>812.650024</td>\n",
       "      <td>812.650024</td>\n",
       "      <td>0</td>\n",
       "    </tr>\n",
       "    <tr>\n",
       "      <th>2021-09-01 10:15:00+05:30</th>\n",
       "      <td>812.650024</td>\n",
       "      <td>812.799988</td>\n",
       "      <td>801.799988</td>\n",
       "      <td>802.549988</td>\n",
       "      <td>802.549988</td>\n",
       "      <td>3202564</td>\n",
       "    </tr>\n",
       "    <tr>\n",
       "      <th>2021-09-01 11:15:00+05:30</th>\n",
       "      <td>802.500000</td>\n",
       "      <td>806.099976</td>\n",
       "      <td>801.200012</td>\n",
       "      <td>803.500000</td>\n",
       "      <td>803.500000</td>\n",
       "      <td>1996389</td>\n",
       "    </tr>\n",
       "    <tr>\n",
       "      <th>2021-09-01 12:15:00+05:30</th>\n",
       "      <td>803.500000</td>\n",
       "      <td>810.000000</td>\n",
       "      <td>800.250000</td>\n",
       "      <td>807.400024</td>\n",
       "      <td>807.400024</td>\n",
       "      <td>1914168</td>\n",
       "    </tr>\n",
       "    <tr>\n",
       "      <th>2021-09-01 13:15:00+05:30</th>\n",
       "      <td>807.349976</td>\n",
       "      <td>808.349976</td>\n",
       "      <td>803.000000</td>\n",
       "      <td>804.599976</td>\n",
       "      <td>804.599976</td>\n",
       "      <td>1093779</td>\n",
       "    </tr>\n",
       "    <tr>\n",
       "      <th>...</th>\n",
       "      <td>...</td>\n",
       "      <td>...</td>\n",
       "      <td>...</td>\n",
       "      <td>...</td>\n",
       "      <td>...</td>\n",
       "      <td>...</td>\n",
       "    </tr>\n",
       "    <tr>\n",
       "      <th>2023-08-18 11:15:00+05:30</th>\n",
       "      <td>941.650024</td>\n",
       "      <td>943.599976</td>\n",
       "      <td>940.200012</td>\n",
       "      <td>941.799988</td>\n",
       "      <td>941.799988</td>\n",
       "      <td>628477</td>\n",
       "    </tr>\n",
       "    <tr>\n",
       "      <th>2023-08-18 12:15:00+05:30</th>\n",
       "      <td>941.799988</td>\n",
       "      <td>945.400024</td>\n",
       "      <td>940.950012</td>\n",
       "      <td>941.599976</td>\n",
       "      <td>941.599976</td>\n",
       "      <td>635623</td>\n",
       "    </tr>\n",
       "    <tr>\n",
       "      <th>2023-08-18 13:15:00+05:30</th>\n",
       "      <td>941.599976</td>\n",
       "      <td>945.000000</td>\n",
       "      <td>940.599976</td>\n",
       "      <td>942.099976</td>\n",
       "      <td>942.099976</td>\n",
       "      <td>1193171</td>\n",
       "    </tr>\n",
       "    <tr>\n",
       "      <th>2023-08-18 14:15:00+05:30</th>\n",
       "      <td>942.049988</td>\n",
       "      <td>945.250000</td>\n",
       "      <td>941.500000</td>\n",
       "      <td>943.599976</td>\n",
       "      <td>943.599976</td>\n",
       "      <td>1556175</td>\n",
       "    </tr>\n",
       "    <tr>\n",
       "      <th>2023-08-18 15:15:00+05:30</th>\n",
       "      <td>943.500000</td>\n",
       "      <td>945.000000</td>\n",
       "      <td>941.150024</td>\n",
       "      <td>944.000000</td>\n",
       "      <td>944.000000</td>\n",
       "      <td>790886</td>\n",
       "    </tr>\n",
       "  </tbody>\n",
       "</table>\n",
       "<p>3395 rows × 6 columns</p>\n",
       "</div>"
      ],
      "text/plain": [
       "                                 Open        High         Low       Close   \n",
       "Datetime                                                                    \n",
       "2021-09-01 09:15:00+05:30  798.099976  819.000000  796.000000  812.650024  \\\n",
       "2021-09-01 10:15:00+05:30  812.650024  812.799988  801.799988  802.549988   \n",
       "2021-09-01 11:15:00+05:30  802.500000  806.099976  801.200012  803.500000   \n",
       "2021-09-01 12:15:00+05:30  803.500000  810.000000  800.250000  807.400024   \n",
       "2021-09-01 13:15:00+05:30  807.349976  808.349976  803.000000  804.599976   \n",
       "...                               ...         ...         ...         ...   \n",
       "2023-08-18 11:15:00+05:30  941.650024  943.599976  940.200012  941.799988   \n",
       "2023-08-18 12:15:00+05:30  941.799988  945.400024  940.950012  941.599976   \n",
       "2023-08-18 13:15:00+05:30  941.599976  945.000000  940.599976  942.099976   \n",
       "2023-08-18 14:15:00+05:30  942.049988  945.250000  941.500000  943.599976   \n",
       "2023-08-18 15:15:00+05:30  943.500000  945.000000  941.150024  944.000000   \n",
       "\n",
       "                            Adj Close   Volume  \n",
       "Datetime                                        \n",
       "2021-09-01 09:15:00+05:30  812.650024        0  \n",
       "2021-09-01 10:15:00+05:30  802.549988  3202564  \n",
       "2021-09-01 11:15:00+05:30  803.500000  1996389  \n",
       "2021-09-01 12:15:00+05:30  807.400024  1914168  \n",
       "2021-09-01 13:15:00+05:30  804.599976  1093779  \n",
       "...                               ...      ...  \n",
       "2023-08-18 11:15:00+05:30  941.799988   628477  \n",
       "2023-08-18 12:15:00+05:30  941.599976   635623  \n",
       "2023-08-18 13:15:00+05:30  942.099976  1193171  \n",
       "2023-08-18 14:15:00+05:30  943.599976  1556175  \n",
       "2023-08-18 15:15:00+05:30  944.000000   790886  \n",
       "\n",
       "[3395 rows x 6 columns]"
      ]
     },
     "execution_count": 7,
     "metadata": {},
     "output_type": "execute_result"
    }
   ],
   "source": [
    "df= yf.download(company, interval='1h', start=startDate, end= endDate)\n",
    "df"
   ]
  },
  {
   "cell_type": "code",
   "execution_count": 8,
   "id": "befab8ef-6962-4fd4-868d-981004658ce4",
   "metadata": {
    "tags": []
   },
   "outputs": [],
   "source": [
    "trainSet= df.iloc[:, 1:2].values"
   ]
  },
  {
   "cell_type": "code",
   "execution_count": 9,
   "id": "4290e156-96af-4c1f-a302-15f2466d37e0",
   "metadata": {
    "tags": []
   },
   "outputs": [
    {
     "data": {
      "text/plain": [
       "(3395, 6)"
      ]
     },
     "execution_count": 9,
     "metadata": {},
     "output_type": "execute_result"
    }
   ],
   "source": [
    "df.shape"
   ]
  },
  {
   "cell_type": "code",
   "execution_count": 10,
   "id": "79b9ef41-ffae-4acb-9681-1da999bbff45",
   "metadata": {
    "tags": []
   },
   "outputs": [],
   "source": [
    "from sklearn.preprocessing import MinMaxScaler\n",
    "\n",
    "scaler= MinMaxScaler(feature_range=(0,1))"
   ]
  },
  {
   "cell_type": "code",
   "execution_count": 11,
   "id": "fb00b60f-d14f-42ad-b9fc-9271b12a8ff5",
   "metadata": {
    "tags": []
   },
   "outputs": [],
   "source": [
    "trainingSetScaled= scaler.fit_transform(df['Close'].values.reshape(-1,1))"
   ]
  },
  {
   "cell_type": "code",
   "execution_count": 12,
   "id": "8fab11b9-c797-41da-92ef-5290ae68928f",
   "metadata": {
    "tags": []
   },
   "outputs": [],
   "source": [
    "xTRAIN = []\n",
    "yTRAIN = []\n",
    "\n",
    "for i in range(100, len(trainingSetScaled)):\n",
    "    xTRAIN.append(trainingSetScaled[i-60:i, 0])\n",
    "    yTRAIN.append(trainingSetScaled[i, 0])\n",
    "    \n",
    "xTRAIN, yTRAIN= np.array(xTRAIN), np.array(yTRAIN)"
   ]
  },
  {
   "cell_type": "code",
   "execution_count": 13,
   "id": "cbd8001b-4a0a-4fd2-9065-b29386bc062b",
   "metadata": {
    "tags": []
   },
   "outputs": [],
   "source": [
    "xTRAIN= np.reshape(xTRAIN, newshape=(xTRAIN.shape[0], xTRAIN.shape[1], 1))"
   ]
  },
  {
   "cell_type": "code",
   "execution_count": 14,
   "id": "94428c54-0d8b-4ac5-8d29-95fbe0eb9256",
   "metadata": {
    "tags": []
   },
   "outputs": [
    {
     "data": {
      "text/plain": [
       "(3395, 1)"
      ]
     },
     "execution_count": 14,
     "metadata": {},
     "output_type": "execute_result"
    }
   ],
   "source": [
    "trainingSetScaled.shape"
   ]
  },
  {
   "cell_type": "code",
   "execution_count": 15,
   "id": "aa2e976f-2662-4a65-9906-2bcfa27011f8",
   "metadata": {
    "tags": []
   },
   "outputs": [
    {
     "data": {
      "text/plain": [
       "(3295, 60, 1)"
      ]
     },
     "execution_count": 15,
     "metadata": {},
     "output_type": "execute_result"
    }
   ],
   "source": [
    "xTRAIN.shape"
   ]
  },
  {
   "cell_type": "code",
   "execution_count": 16,
   "id": "2348c85d-8b88-4cce-bd14-1c54a71bef66",
   "metadata": {
    "tags": []
   },
   "outputs": [
    {
     "data": {
      "text/plain": [
       "(3295,)"
      ]
     },
     "execution_count": 16,
     "metadata": {},
     "output_type": "execute_result"
    }
   ],
   "source": [
    "yTRAIN.shape"
   ]
  },
  {
   "cell_type": "code",
   "execution_count": 17,
   "id": "5e6b1462-26e3-4444-bdb6-b8a67b2853e6",
   "metadata": {
    "tags": []
   },
   "outputs": [],
   "source": [
    "import tensorflow as tf\n",
    "from tensorflow import keras"
   ]
  },
  {
   "cell_type": "markdown",
   "id": "459ad3d5-8db0-4b49-aa99-8985e640c560",
   "metadata": {
    "tags": []
   },
   "source": [
    "\n",
    "if tf.test.gpu_device_name(): \n",
    "\n",
    "    print('Default GPU Device:{}'.format(tf.test.gpu_device_name()))\n",
    "\n",
    "else:\n",
    "\n",
    "   print(\"Please install GPU version of TF\")"
   ]
  },
  {
   "cell_type": "code",
   "execution_count": 19,
   "id": "d182ec53-6429-4327-a724-f1bf5c1d2ec8",
   "metadata": {
    "tags": []
   },
   "outputs": [],
   "source": [
    "regressor= keras.models.Sequential([\n",
    "    keras.layers.LSTM(units=64, return_sequences= True, input_shape= (xTRAIN.shape[1], 1)),\n",
    "    keras.layers.Dropout(rate= 0.2),\n",
    "    keras.layers.LSTM(units=50, return_sequences= True), \n",
    "    keras.layers.Dropout(rate= 0.2),\n",
    "    keras.layers.LSTM(units=50), \n",
    "    keras.layers.Dropout(rate= 0.2),\n",
    "    keras.layers.Dense(units= 1)\n",
    "])"
   ]
  },
  {
   "cell_type": "code",
   "execution_count": 20,
   "id": "0a41add4-812a-4cf4-8eb4-74f70717b4e2",
   "metadata": {
    "tags": []
   },
   "outputs": [
    {
     "name": "stdout",
     "output_type": "stream",
     "text": [
      "Model: \"sequential_1\"\n",
      "_________________________________________________________________\n",
      " Layer (type)                Output Shape              Param #   \n",
      "=================================================================\n",
      " lstm_3 (LSTM)               (None, 60, 64)            16896     \n",
      "                                                                 \n",
      " dropout_3 (Dropout)         (None, 60, 64)            0         \n",
      "                                                                 \n",
      " lstm_4 (LSTM)               (None, 60, 50)            23000     \n",
      "                                                                 \n",
      " dropout_4 (Dropout)         (None, 60, 50)            0         \n",
      "                                                                 \n",
      " lstm_5 (LSTM)               (None, 50)                20200     \n",
      "                                                                 \n",
      " dropout_5 (Dropout)         (None, 50)                0         \n",
      "                                                                 \n",
      " dense_1 (Dense)             (None, 1)                 51        \n",
      "                                                                 \n",
      "=================================================================\n",
      "Total params: 60,147\n",
      "Trainable params: 60,147\n",
      "Non-trainable params: 0\n",
      "_________________________________________________________________\n"
     ]
    }
   ],
   "source": [
    "regressor.summary()"
   ]
  },
  {
   "cell_type": "code",
   "execution_count": 21,
   "id": "fefcacef-bb27-46b4-9c0a-ba9dc874ff36",
   "metadata": {
    "tags": []
   },
   "outputs": [],
   "source": [
    "regressor.compile(optimizer= 'adam', loss= keras.losses.mean_squared_error, metrics=['accuracy'])"
   ]
  },
  {
   "cell_type": "code",
   "execution_count": 22,
   "id": "941f7d2e-5cd5-4a22-8c08-17d610181f14",
   "metadata": {
    "tags": []
   },
   "outputs": [
    {
     "name": "stdout",
     "output_type": "stream",
     "text": [
      "Epoch 1/120\n",
      "103/103 [==============================] - 12s 20ms/step - loss: 0.0156 - accuracy: 6.0698e-04\n",
      "Epoch 2/120\n",
      "103/103 [==============================] - 2s 21ms/step - loss: 0.0043 - accuracy: 6.0698e-04\n",
      "Epoch 3/120\n",
      "103/103 [==============================] - 2s 20ms/step - loss: 0.0037 - accuracy: 6.0698e-04\n",
      "Epoch 4/120\n",
      "103/103 [==============================] - 2s 22ms/step - loss: 0.0039 - accuracy: 6.0698e-04\n",
      "Epoch 5/120\n",
      "103/103 [==============================] - 3s 27ms/step - loss: 0.0033 - accuracy: 6.0698e-04\n",
      "Epoch 6/120\n",
      "103/103 [==============================] - 3s 33ms/step - loss: 0.0032 - accuracy: 6.0698e-04\n",
      "Epoch 7/120\n",
      "103/103 [==============================] - 3s 28ms/step - loss: 0.0028 - accuracy: 6.0698e-04\n",
      "Epoch 8/120\n",
      "103/103 [==============================] - 3s 26ms/step - loss: 0.0029 - accuracy: 6.0698e-04\n",
      "Epoch 9/120\n",
      "103/103 [==============================] - 2s 22ms/step - loss: 0.0029 - accuracy: 6.0698e-04\n",
      "Epoch 10/120\n",
      "103/103 [==============================] - 2s 22ms/step - loss: 0.0026 - accuracy: 6.0698e-04\n",
      "Epoch 11/120\n",
      "103/103 [==============================] - 2s 21ms/step - loss: 0.0026 - accuracy: 6.0698e-04\n",
      "Epoch 12/120\n",
      "103/103 [==============================] - 2s 20ms/step - loss: 0.0025 - accuracy: 6.0698e-04\n",
      "Epoch 13/120\n",
      "103/103 [==============================] - 2s 20ms/step - loss: 0.0021 - accuracy: 6.0698e-04\n",
      "Epoch 14/120\n",
      "103/103 [==============================] - 2s 20ms/step - loss: 0.0022 - accuracy: 6.0698e-04\n",
      "Epoch 15/120\n",
      "103/103 [==============================] - 2s 20ms/step - loss: 0.0021 - accuracy: 6.0698e-04\n",
      "Epoch 16/120\n",
      "103/103 [==============================] - 2s 20ms/step - loss: 0.0020 - accuracy: 6.0698e-04\n",
      "Epoch 17/120\n",
      "103/103 [==============================] - 2s 20ms/step - loss: 0.0020 - accuracy: 6.0698e-04\n",
      "Epoch 18/120\n",
      "103/103 [==============================] - 2s 20ms/step - loss: 0.0020 - accuracy: 6.0698e-04\n",
      "Epoch 19/120\n",
      "103/103 [==============================] - 2s 21ms/step - loss: 0.0020 - accuracy: 6.0698e-04\n",
      "Epoch 20/120\n",
      "103/103 [==============================] - 2s 20ms/step - loss: 0.0018 - accuracy: 6.0698e-04\n",
      "Epoch 21/120\n",
      "103/103 [==============================] - 2s 20ms/step - loss: 0.0017 - accuracy: 6.0698e-04\n",
      "Epoch 22/120\n",
      "103/103 [==============================] - 2s 19ms/step - loss: 0.0016 - accuracy: 6.0698e-04\n",
      "Epoch 23/120\n",
      "103/103 [==============================] - 2s 20ms/step - loss: 0.0016 - accuracy: 6.0698e-04\n",
      "Epoch 24/120\n",
      "103/103 [==============================] - 2s 19ms/step - loss: 0.0016 - accuracy: 6.0698e-04\n",
      "Epoch 25/120\n",
      "103/103 [==============================] - 2s 21ms/step - loss: 0.0015 - accuracy: 6.0698e-04\n",
      "Epoch 26/120\n",
      "103/103 [==============================] - 2s 20ms/step - loss: 0.0015 - accuracy: 6.0698e-04\n",
      "Epoch 27/120\n",
      "103/103 [==============================] - 2s 20ms/step - loss: 0.0015 - accuracy: 6.0698e-04\n",
      "Epoch 28/120\n",
      "103/103 [==============================] - 2s 20ms/step - loss: 0.0014 - accuracy: 6.0698e-04\n",
      "Epoch 29/120\n",
      "103/103 [==============================] - 2s 20ms/step - loss: 0.0013 - accuracy: 6.0698e-04\n",
      "Epoch 30/120\n",
      "103/103 [==============================] - 2s 20ms/step - loss: 0.0014 - accuracy: 6.0698e-04\n",
      "Epoch 31/120\n",
      "103/103 [==============================] - 2s 20ms/step - loss: 0.0012 - accuracy: 6.0698e-04\n",
      "Epoch 32/120\n",
      "103/103 [==============================] - 2s 20ms/step - loss: 0.0012 - accuracy: 6.0698e-04\n",
      "Epoch 33/120\n",
      "103/103 [==============================] - 2s 20ms/step - loss: 0.0012 - accuracy: 6.0698e-04\n",
      "Epoch 34/120\n",
      "103/103 [==============================] - 2s 20ms/step - loss: 0.0012 - accuracy: 6.0698e-04\n",
      "Epoch 35/120\n",
      "103/103 [==============================] - 2s 20ms/step - loss: 0.0012 - accuracy: 6.0698e-04\n",
      "Epoch 36/120\n",
      "103/103 [==============================] - 2s 20ms/step - loss: 0.0013 - accuracy: 6.0698e-04\n",
      "Epoch 37/120\n",
      "103/103 [==============================] - 2s 20ms/step - loss: 0.0011 - accuracy: 6.0698e-04\n",
      "Epoch 38/120\n",
      "103/103 [==============================] - 2s 20ms/step - loss: 0.0011 - accuracy: 6.0698e-04\n",
      "Epoch 39/120\n",
      "103/103 [==============================] - 2s 20ms/step - loss: 0.0011 - accuracy: 6.0698e-04\n",
      "Epoch 40/120\n",
      "103/103 [==============================] - 2s 20ms/step - loss: 0.0011 - accuracy: 6.0698e-04\n",
      "Epoch 41/120\n",
      "103/103 [==============================] - 2s 21ms/step - loss: 0.0010 - accuracy: 6.0698e-04\n",
      "Epoch 42/120\n",
      "103/103 [==============================] - 2s 20ms/step - loss: 0.0011 - accuracy: 6.0698e-04\n",
      "Epoch 43/120\n",
      "103/103 [==============================] - 2s 20ms/step - loss: 0.0010 - accuracy: 6.0698e-04\n",
      "Epoch 44/120\n",
      "103/103 [==============================] - 2s 20ms/step - loss: 0.0011 - accuracy: 6.0698e-04\n",
      "Epoch 45/120\n",
      "103/103 [==============================] - 2s 20ms/step - loss: 0.0010 - accuracy: 6.0698e-04\n",
      "Epoch 46/120\n",
      "103/103 [==============================] - 2s 20ms/step - loss: 0.0010 - accuracy: 6.0698e-04\n",
      "Epoch 47/120\n",
      "103/103 [==============================] - 2s 20ms/step - loss: 9.5438e-04 - accuracy: 6.0698e-04\n",
      "Epoch 48/120\n",
      "103/103 [==============================] - 2s 20ms/step - loss: 9.7025e-04 - accuracy: 6.0698e-04\n",
      "Epoch 49/120\n",
      "103/103 [==============================] - 2s 20ms/step - loss: 0.0010 - accuracy: 6.0698e-04\n",
      "Epoch 50/120\n",
      "103/103 [==============================] - 2s 19ms/step - loss: 0.0010 - accuracy: 6.0698e-04\n",
      "Epoch 51/120\n",
      "103/103 [==============================] - 2s 21ms/step - loss: 9.2523e-04 - accuracy: 6.0698e-04\n",
      "Epoch 52/120\n",
      "103/103 [==============================] - 3s 33ms/step - loss: 8.7033e-04 - accuracy: 6.0698e-04\n",
      "Epoch 53/120\n",
      "103/103 [==============================] - 3s 34ms/step - loss: 9.2019e-04 - accuracy: 6.0698e-04\n",
      "Epoch 54/120\n",
      "103/103 [==============================] - 3s 30ms/step - loss: 0.0010 - accuracy: 6.0698e-04\n",
      "Epoch 55/120\n",
      "103/103 [==============================] - 3s 24ms/step - loss: 9.3521e-04 - accuracy: 6.0698e-04\n",
      "Epoch 56/120\n",
      "103/103 [==============================] - 2s 22ms/step - loss: 9.0473e-04 - accuracy: 6.0698e-04\n",
      "Epoch 57/120\n",
      "103/103 [==============================] - 3s 25ms/step - loss: 9.7360e-04 - accuracy: 6.0698e-04\n",
      "Epoch 58/120\n",
      "103/103 [==============================] - 2s 22ms/step - loss: 9.4670e-04 - accuracy: 6.0698e-04\n",
      "Epoch 59/120\n",
      "103/103 [==============================] - 2s 21ms/step - loss: 9.1613e-04 - accuracy: 6.0698e-04\n",
      "Epoch 60/120\n",
      "103/103 [==============================] - 2s 21ms/step - loss: 8.5588e-04 - accuracy: 6.0698e-04\n",
      "Epoch 61/120\n",
      "103/103 [==============================] - 2s 22ms/step - loss: 9.1493e-04 - accuracy: 6.0698e-04\n",
      "Epoch 62/120\n",
      "103/103 [==============================] - 2s 21ms/step - loss: 8.9738e-04 - accuracy: 6.0698e-04\n",
      "Epoch 63/120\n",
      "103/103 [==============================] - 2s 21ms/step - loss: 8.5844e-04 - accuracy: 6.0698e-04\n",
      "Epoch 64/120\n",
      "103/103 [==============================] - 2s 21ms/step - loss: 8.5413e-04 - accuracy: 6.0698e-04\n",
      "Epoch 65/120\n",
      "103/103 [==============================] - 2s 22ms/step - loss: 8.6400e-04 - accuracy: 6.0698e-04\n",
      "Epoch 66/120\n",
      "103/103 [==============================] - 2s 22ms/step - loss: 8.5137e-04 - accuracy: 6.0698e-04\n",
      "Epoch 67/120\n",
      "103/103 [==============================] - 2s 23ms/step - loss: 9.0092e-04 - accuracy: 6.0698e-04\n",
      "Epoch 68/120\n",
      "103/103 [==============================] - 2s 23ms/step - loss: 8.4859e-04 - accuracy: 6.0698e-04\n",
      "Epoch 69/120\n",
      "103/103 [==============================] - 2s 22ms/step - loss: 8.1619e-04 - accuracy: 6.0698e-04\n",
      "Epoch 70/120\n",
      "103/103 [==============================] - 3s 31ms/step - loss: 8.4620e-04 - accuracy: 6.0698e-04\n",
      "Epoch 71/120\n",
      "103/103 [==============================] - 4s 38ms/step - loss: 8.0898e-04 - accuracy: 6.0698e-04\n",
      "Epoch 72/120\n",
      "103/103 [==============================] - 2s 24ms/step - loss: 8.4009e-04 - accuracy: 6.0698e-04\n",
      "Epoch 73/120\n",
      "103/103 [==============================] - 2s 21ms/step - loss: 8.1234e-04 - accuracy: 6.0698e-04\n",
      "Epoch 74/120\n",
      "103/103 [==============================] - 2s 22ms/step - loss: 8.4454e-04 - accuracy: 6.0698e-04\n",
      "Epoch 75/120\n",
      "103/103 [==============================] - 2s 23ms/step - loss: 8.6751e-04 - accuracy: 6.0698e-04\n",
      "Epoch 76/120\n",
      "103/103 [==============================] - 2s 20ms/step - loss: 7.8894e-04 - accuracy: 6.0698e-04\n",
      "Epoch 77/120\n",
      "103/103 [==============================] - 2s 21ms/step - loss: 9.4075e-04 - accuracy: 6.0698e-04\n",
      "Epoch 78/120\n",
      "103/103 [==============================] - 3s 25ms/step - loss: 8.5120e-04 - accuracy: 6.0698e-04\n",
      "Epoch 79/120\n",
      "103/103 [==============================] - 3s 25ms/step - loss: 7.6361e-04 - accuracy: 6.0698e-04\n",
      "Epoch 80/120\n",
      "103/103 [==============================] - 2s 23ms/step - loss: 8.0995e-04 - accuracy: 6.0698e-04\n",
      "Epoch 81/120\n",
      "103/103 [==============================] - 2s 22ms/step - loss: 8.0724e-04 - accuracy: 6.0698e-04\n",
      "Epoch 82/120\n",
      "103/103 [==============================] - 2s 23ms/step - loss: 7.7373e-04 - accuracy: 6.0698e-04\n",
      "Epoch 83/120\n",
      "103/103 [==============================] - 2s 24ms/step - loss: 8.5488e-04 - accuracy: 6.0698e-04\n",
      "Epoch 84/120\n",
      "103/103 [==============================] - 2s 21ms/step - loss: 8.1368e-04 - accuracy: 6.0698e-04\n",
      "Epoch 85/120\n",
      "103/103 [==============================] - 2s 23ms/step - loss: 7.8157e-04 - accuracy: 6.0698e-04\n",
      "Epoch 86/120\n",
      "103/103 [==============================] - 2s 23ms/step - loss: 8.2466e-04 - accuracy: 6.0698e-04\n",
      "Epoch 87/120\n",
      "103/103 [==============================] - 2s 21ms/step - loss: 7.9477e-04 - accuracy: 6.0698e-04\n",
      "Epoch 88/120\n",
      "103/103 [==============================] - 2s 20ms/step - loss: 7.3013e-04 - accuracy: 6.0698e-04\n",
      "Epoch 89/120\n",
      "103/103 [==============================] - 2s 21ms/step - loss: 7.8788e-04 - accuracy: 6.0698e-04\n",
      "Epoch 90/120\n",
      "103/103 [==============================] - 2s 20ms/step - loss: 7.5005e-04 - accuracy: 6.0698e-04\n",
      "Epoch 91/120\n",
      "103/103 [==============================] - 2s 20ms/step - loss: 7.7805e-04 - accuracy: 6.0698e-04\n",
      "Epoch 92/120\n",
      "103/103 [==============================] - 2s 20ms/step - loss: 8.0507e-04 - accuracy: 6.0698e-04\n",
      "Epoch 93/120\n",
      "103/103 [==============================] - 2s 20ms/step - loss: 8.4231e-04 - accuracy: 6.0698e-04\n",
      "Epoch 94/120\n",
      "103/103 [==============================] - 2s 19ms/step - loss: 7.7631e-04 - accuracy: 6.0698e-04\n",
      "Epoch 95/120\n",
      "103/103 [==============================] - 2s 20ms/step - loss: 7.6287e-04 - accuracy: 6.0698e-04\n",
      "Epoch 96/120\n",
      "103/103 [==============================] - 2s 20ms/step - loss: 7.8139e-04 - accuracy: 6.0698e-04\n",
      "Epoch 97/120\n",
      "103/103 [==============================] - 2s 20ms/step - loss: 7.8646e-04 - accuracy: 6.0698e-04\n",
      "Epoch 98/120\n",
      "103/103 [==============================] - 2s 21ms/step - loss: 7.8687e-04 - accuracy: 6.0698e-04\n",
      "Epoch 99/120\n",
      "103/103 [==============================] - 2s 20ms/step - loss: 8.5446e-04 - accuracy: 6.0698e-04\n",
      "Epoch 100/120\n",
      "103/103 [==============================] - 2s 21ms/step - loss: 7.8311e-04 - accuracy: 6.0698e-04\n",
      "Epoch 101/120\n",
      "103/103 [==============================] - 2s 20ms/step - loss: 7.7669e-04 - accuracy: 6.0698e-04\n",
      "Epoch 102/120\n",
      "103/103 [==============================] - 2s 20ms/step - loss: 7.0678e-04 - accuracy: 6.0698e-04\n",
      "Epoch 103/120\n",
      "103/103 [==============================] - 2s 21ms/step - loss: 7.5557e-04 - accuracy: 6.0698e-04\n",
      "Epoch 104/120\n",
      "103/103 [==============================] - 2s 20ms/step - loss: 8.0577e-04 - accuracy: 6.0698e-04\n",
      "Epoch 105/120\n",
      "103/103 [==============================] - 2s 20ms/step - loss: 7.2510e-04 - accuracy: 6.0698e-04\n",
      "Epoch 106/120\n",
      "103/103 [==============================] - 2s 20ms/step - loss: 7.7391e-04 - accuracy: 6.0698e-04\n",
      "Epoch 107/120\n",
      "103/103 [==============================] - 2s 20ms/step - loss: 7.9106e-04 - accuracy: 6.0698e-04\n",
      "Epoch 108/120\n",
      "103/103 [==============================] - 2s 20ms/step - loss: 8.5992e-04 - accuracy: 6.0698e-04\n",
      "Epoch 109/120\n",
      "103/103 [==============================] - 2s 20ms/step - loss: 6.9314e-04 - accuracy: 6.0698e-04\n",
      "Epoch 110/120\n",
      "103/103 [==============================] - 2s 20ms/step - loss: 7.4358e-04 - accuracy: 6.0698e-04\n",
      "Epoch 111/120\n",
      "103/103 [==============================] - 2s 20ms/step - loss: 7.7401e-04 - accuracy: 6.0698e-04\n",
      "Epoch 112/120\n",
      "103/103 [==============================] - 2s 20ms/step - loss: 7.8744e-04 - accuracy: 6.0698e-04\n",
      "Epoch 113/120\n",
      "103/103 [==============================] - 2s 20ms/step - loss: 7.4412e-04 - accuracy: 6.0698e-04\n",
      "Epoch 114/120\n",
      "103/103 [==============================] - 2s 20ms/step - loss: 7.8026e-04 - accuracy: 6.0698e-04\n",
      "Epoch 115/120\n",
      "103/103 [==============================] - 2s 20ms/step - loss: 7.2533e-04 - accuracy: 6.0698e-04\n",
      "Epoch 116/120\n",
      "103/103 [==============================] - 2s 21ms/step - loss: 7.6083e-04 - accuracy: 6.0698e-04\n",
      "Epoch 117/120\n",
      "103/103 [==============================] - 2s 20ms/step - loss: 7.6145e-04 - accuracy: 6.0698e-04\n",
      "Epoch 118/120\n",
      "103/103 [==============================] - 2s 20ms/step - loss: 7.4973e-04 - accuracy: 6.0698e-04\n",
      "Epoch 119/120\n",
      "103/103 [==============================] - 2s 20ms/step - loss: 7.7080e-04 - accuracy: 6.0698e-04\n",
      "Epoch 120/120\n",
      "103/103 [==============================] - 2s 20ms/step - loss: 7.0977e-04 - accuracy: 6.0698e-04\n"
     ]
    },
    {
     "data": {
      "text/plain": [
       "<keras.callbacks.History at 0x19b407f0940>"
      ]
     },
     "execution_count": 22,
     "metadata": {},
     "output_type": "execute_result"
    }
   ],
   "source": [
    "regressor.fit(x= xTRAIN, y=yTRAIN, batch_size= 32, epochs= 120)"
   ]
  },
  {
   "cell_type": "code",
   "execution_count": 23,
   "id": "82a1215b-90c1-49fa-8bd6-e5c7c678bb2c",
   "metadata": {
    "tags": []
   },
   "outputs": [
    {
     "name": "stdout",
     "output_type": "stream",
     "text": [
      "103/103 [==============================] - 2s 9ms/step\n"
     ]
    }
   ],
   "source": [
    "prdctn= regressor.predict(xTRAIN)"
   ]
  },
  {
   "cell_type": "markdown",
   "id": "02c5a51c-6b13-41a0-b80d-854541b6322d",
   "metadata": {
    "tags": []
   },
   "source": [
    "regressor.save(f\"../model/exports/{company}/\")"
   ]
  },
  {
   "cell_type": "code",
   "execution_count": 24,
   "id": "e1cf83bd-e094-4ff0-8055-d7dd5b781a1b",
   "metadata": {
    "tags": []
   },
   "outputs": [
    {
     "name": "stdout",
     "output_type": "stream",
     "text": [
      "[*********************100%***********************]  1 of 1 completed\n"
     ]
    },
    {
     "data": {
      "text/html": [
       "<div>\n",
       "<style scoped>\n",
       "    .dataframe tbody tr th:only-of-type {\n",
       "        vertical-align: middle;\n",
       "    }\n",
       "\n",
       "    .dataframe tbody tr th {\n",
       "        vertical-align: top;\n",
       "    }\n",
       "\n",
       "    .dataframe thead th {\n",
       "        text-align: right;\n",
       "    }\n",
       "</style>\n",
       "<table border=\"1\" class=\"dataframe\">\n",
       "  <thead>\n",
       "    <tr style=\"text-align: right;\">\n",
       "      <th></th>\n",
       "      <th>Open</th>\n",
       "      <th>High</th>\n",
       "      <th>Low</th>\n",
       "      <th>Close</th>\n",
       "      <th>Adj Close</th>\n",
       "      <th>Volume</th>\n",
       "    </tr>\n",
       "    <tr>\n",
       "      <th>Datetime</th>\n",
       "      <th></th>\n",
       "      <th></th>\n",
       "      <th></th>\n",
       "      <th></th>\n",
       "      <th></th>\n",
       "      <th></th>\n",
       "    </tr>\n",
       "  </thead>\n",
       "  <tbody>\n",
       "    <tr>\n",
       "      <th>2023-08-21 09:15:00+05:30</th>\n",
       "      <td>944.849976</td>\n",
       "      <td>953.000000</td>\n",
       "      <td>944.000000</td>\n",
       "      <td>949.549988</td>\n",
       "      <td>949.549988</td>\n",
       "      <td>0</td>\n",
       "    </tr>\n",
       "    <tr>\n",
       "      <th>2023-08-21 10:15:00+05:30</th>\n",
       "      <td>949.549988</td>\n",
       "      <td>952.950012</td>\n",
       "      <td>948.750000</td>\n",
       "      <td>951.500000</td>\n",
       "      <td>951.500000</td>\n",
       "      <td>736776</td>\n",
       "    </tr>\n",
       "    <tr>\n",
       "      <th>2023-08-21 11:15:00+05:30</th>\n",
       "      <td>951.400024</td>\n",
       "      <td>952.000000</td>\n",
       "      <td>947.150024</td>\n",
       "      <td>949.849976</td>\n",
       "      <td>949.849976</td>\n",
       "      <td>1015183</td>\n",
       "    </tr>\n",
       "    <tr>\n",
       "      <th>2023-08-21 12:15:00+05:30</th>\n",
       "      <td>949.799988</td>\n",
       "      <td>951.400024</td>\n",
       "      <td>948.150024</td>\n",
       "      <td>950.950012</td>\n",
       "      <td>950.950012</td>\n",
       "      <td>558561</td>\n",
       "    </tr>\n",
       "    <tr>\n",
       "      <th>2023-08-21 13:15:00+05:30</th>\n",
       "      <td>950.849976</td>\n",
       "      <td>952.750000</td>\n",
       "      <td>949.450012</td>\n",
       "      <td>950.250000</td>\n",
       "      <td>950.250000</td>\n",
       "      <td>661811</td>\n",
       "    </tr>\n",
       "    <tr>\n",
       "      <th>...</th>\n",
       "      <td>...</td>\n",
       "      <td>...</td>\n",
       "      <td>...</td>\n",
       "      <td>...</td>\n",
       "      <td>...</td>\n",
       "      <td>...</td>\n",
       "    </tr>\n",
       "    <tr>\n",
       "      <th>2023-08-31 11:15:00+05:30</th>\n",
       "      <td>981.049988</td>\n",
       "      <td>982.299988</td>\n",
       "      <td>976.000000</td>\n",
       "      <td>977.799988</td>\n",
       "      <td>977.799988</td>\n",
       "      <td>1320348</td>\n",
       "    </tr>\n",
       "    <tr>\n",
       "      <th>2023-08-31 12:15:00+05:30</th>\n",
       "      <td>977.799988</td>\n",
       "      <td>979.299988</td>\n",
       "      <td>975.150024</td>\n",
       "      <td>975.799988</td>\n",
       "      <td>975.799988</td>\n",
       "      <td>1542025</td>\n",
       "    </tr>\n",
       "    <tr>\n",
       "      <th>2023-08-31 13:15:00+05:30</th>\n",
       "      <td>975.799988</td>\n",
       "      <td>980.549988</td>\n",
       "      <td>973.400024</td>\n",
       "      <td>977.450012</td>\n",
       "      <td>977.450012</td>\n",
       "      <td>2427060</td>\n",
       "    </tr>\n",
       "    <tr>\n",
       "      <th>2023-08-31 14:15:00+05:30</th>\n",
       "      <td>977.349976</td>\n",
       "      <td>981.500000</td>\n",
       "      <td>974.150024</td>\n",
       "      <td>974.200012</td>\n",
       "      <td>974.200012</td>\n",
       "      <td>6848131</td>\n",
       "    </tr>\n",
       "    <tr>\n",
       "      <th>2023-08-31 15:15:00+05:30</th>\n",
       "      <td>974.250000</td>\n",
       "      <td>974.250000</td>\n",
       "      <td>969.250000</td>\n",
       "      <td>973.500000</td>\n",
       "      <td>973.500000</td>\n",
       "      <td>4569167</td>\n",
       "    </tr>\n",
       "  </tbody>\n",
       "</table>\n",
       "<p>63 rows × 6 columns</p>\n",
       "</div>"
      ],
      "text/plain": [
       "                                 Open        High         Low       Close   \n",
       "Datetime                                                                    \n",
       "2023-08-21 09:15:00+05:30  944.849976  953.000000  944.000000  949.549988  \\\n",
       "2023-08-21 10:15:00+05:30  949.549988  952.950012  948.750000  951.500000   \n",
       "2023-08-21 11:15:00+05:30  951.400024  952.000000  947.150024  949.849976   \n",
       "2023-08-21 12:15:00+05:30  949.799988  951.400024  948.150024  950.950012   \n",
       "2023-08-21 13:15:00+05:30  950.849976  952.750000  949.450012  950.250000   \n",
       "...                               ...         ...         ...         ...   \n",
       "2023-08-31 11:15:00+05:30  981.049988  982.299988  976.000000  977.799988   \n",
       "2023-08-31 12:15:00+05:30  977.799988  979.299988  975.150024  975.799988   \n",
       "2023-08-31 13:15:00+05:30  975.799988  980.549988  973.400024  977.450012   \n",
       "2023-08-31 14:15:00+05:30  977.349976  981.500000  974.150024  974.200012   \n",
       "2023-08-31 15:15:00+05:30  974.250000  974.250000  969.250000  973.500000   \n",
       "\n",
       "                            Adj Close   Volume  \n",
       "Datetime                                        \n",
       "2023-08-21 09:15:00+05:30  949.549988        0  \n",
       "2023-08-21 10:15:00+05:30  951.500000   736776  \n",
       "2023-08-21 11:15:00+05:30  949.849976  1015183  \n",
       "2023-08-21 12:15:00+05:30  950.950012   558561  \n",
       "2023-08-21 13:15:00+05:30  950.250000   661811  \n",
       "...                               ...      ...  \n",
       "2023-08-31 11:15:00+05:30  977.799988  1320348  \n",
       "2023-08-31 12:15:00+05:30  975.799988  1542025  \n",
       "2023-08-31 13:15:00+05:30  977.450012  2427060  \n",
       "2023-08-31 14:15:00+05:30  974.200012  6848131  \n",
       "2023-08-31 15:15:00+05:30  973.500000  4569167  \n",
       "\n",
       "[63 rows x 6 columns]"
      ]
     },
     "execution_count": 24,
     "metadata": {},
     "output_type": "execute_result"
    }
   ],
   "source": [
    "testDF= yf.download(company, interval='1h', start=endDate, end=datetime.datetime.now())\n",
    "testDF"
   ]
  },
  {
   "cell_type": "code",
   "execution_count": 25,
   "id": "389e55a0-69eb-47cf-911a-c25a144e7f54",
   "metadata": {
    "tags": []
   },
   "outputs": [],
   "source": [
    "realCP= testDF['Close'].values"
   ]
  },
  {
   "cell_type": "code",
   "execution_count": 26,
   "id": "b0b39f2a-b963-42e2-ac19-b094e7a600eb",
   "metadata": {
    "tags": []
   },
   "outputs": [],
   "source": [
    "dfTotal= pd.concat((df['Close'], testDF['Close']), axis=0)"
   ]
  },
  {
   "cell_type": "code",
   "execution_count": 27,
   "id": "1d38eef2-00f4-48ae-9995-45097a8e46d8",
   "metadata": {
    "tags": []
   },
   "outputs": [],
   "source": [
    "modelInp= dfTotal[len(dfTotal)-len(testDF)-60:].values"
   ]
  },
  {
   "cell_type": "code",
   "execution_count": 28,
   "id": "efadd80d-1716-4048-bbb8-9a25d60d02e4",
   "metadata": {
    "tags": []
   },
   "outputs": [],
   "source": [
    "modelInp= modelInp.reshape(-1,1)"
   ]
  },
  {
   "cell_type": "code",
   "execution_count": 29,
   "id": "129d98f2-7644-4d32-ab0a-b6f178ae339a",
   "metadata": {
    "tags": []
   },
   "outputs": [],
   "source": [
    "modelInp= scaler.transform(modelInp)"
   ]
  },
  {
   "cell_type": "code",
   "execution_count": 30,
   "id": "215cec3c-4799-4d2a-b96b-659e853a792a",
   "metadata": {
    "tags": []
   },
   "outputs": [],
   "source": [
    "xTEST= []\n",
    "\n",
    "for i in range(60, len(modelInp)):\n",
    "    xTEST.append(modelInp[i-60:i, 0])\n",
    "\n",
    "xTEST= np.array(xTEST)"
   ]
  },
  {
   "cell_type": "code",
   "execution_count": 31,
   "id": "46abbba4-f265-46e6-b2e2-82faf84b9fbc",
   "metadata": {
    "tags": []
   },
   "outputs": [
    {
     "data": {
      "text/plain": [
       "(63, 60)"
      ]
     },
     "execution_count": 31,
     "metadata": {},
     "output_type": "execute_result"
    }
   ],
   "source": [
    "xTEST.shape"
   ]
  },
  {
   "cell_type": "code",
   "execution_count": 32,
   "id": "7508bf79-7a2a-404b-bc04-78fca7301d88",
   "metadata": {
    "tags": []
   },
   "outputs": [],
   "source": [
    "xTEST= np.reshape(xTEST, newshape= (xTEST.shape[0], xTEST.shape[1], 1))"
   ]
  },
  {
   "cell_type": "code",
   "execution_count": 33,
   "id": "90fabbdf-9e5b-485e-b60b-864bcf66bf38",
   "metadata": {
    "tags": []
   },
   "outputs": [],
   "source": [
    "#pred = pred[..., 0]"
   ]
  },
  {
   "cell_type": "code",
   "execution_count": 34,
   "id": "55905254-03e5-422e-91a2-ae829100169c",
   "metadata": {
    "tags": []
   },
   "outputs": [
    {
     "name": "stdout",
     "output_type": "stream",
     "text": [
      "2/2 [==============================] - 0s 18ms/step\n"
     ]
    }
   ],
   "source": [
    "pred= regressor.predict(xTEST)"
   ]
  },
  {
   "cell_type": "code",
   "execution_count": 35,
   "id": "d632f691-866a-4672-8f85-c9fe50db3e7e",
   "metadata": {
    "tags": []
   },
   "outputs": [],
   "source": [
    "pred= scaler.inverse_transform(pred)"
   ]
  },
  {
   "cell_type": "code",
   "execution_count": 36,
   "id": "18057536-819d-4b2a-88cc-a47ffad1db0f",
   "metadata": {
    "tags": []
   },
   "outputs": [
    {
     "data": {
      "text/plain": [
       "(63, 1)"
      ]
     },
     "execution_count": 36,
     "metadata": {},
     "output_type": "execute_result"
    }
   ],
   "source": [
    "pred.shape"
   ]
  },
  {
   "cell_type": "code",
   "execution_count": 37,
   "id": "bab731b6-96d6-4757-a779-f7bdf9932dd1",
   "metadata": {
    "tags": []
   },
   "outputs": [],
   "source": [
    "import matplotlib.pyplot as plt"
   ]
  },
  {
   "cell_type": "code",
   "execution_count": 38,
   "id": "74299f9a-93c1-4c0f-849b-b7a01dd2657a",
   "metadata": {},
   "outputs": [
    {
     "data": {
      "image/png": "[encoded data removed]",
      "text/plain": [
       "<Figure size 640x480 with 1 Axes>"
      ]
     },
     "metadata": {},
     "output_type": "display_data"
    }
   ],
   "source": [
    "plt.plot(realCP, color= 'r', label= 'real close price')\n",
    "plt.plot(pred, color= 'b', label= 'predicted close price')\n",
    "plt.title(company)\n",
    "plt.legend()\n",
    "plt.show()"
   ]
  },
  {
   "cell_type": "code",
   "execution_count": 39,
   "id": "143aaaeb-a2cd-4213-afb2-b7f96e2bd61b",
   "metadata": {},
   "outputs": [],
   "source": [
    "realData= [modelInp[len(modelInp)+1-60:len(modelInp+1), 0]]"
   ]
  },
  {
   "cell_type": "code",
   "execution_count": 40,
   "id": "b7790752-9217-44a3-972f-9d0dd52fc21a",
   "metadata": {
    "tags": []
   },
   "outputs": [],
   "source": [
    "realData= np.array(realData)"
   ]
  },
  {
   "cell_type": "code",
   "execution_count": 41,
   "id": "d0d14766-e093-4c4f-96d3-7aba1a23a870",
   "metadata": {
    "tags": []
   },
   "outputs": [],
   "source": [
    "realData= np.reshape(realData, newshape=(realData.shape[0], realData.shape[1], 1))"
   ]
  },
  {
   "cell_type": "code",
   "execution_count": 42,
   "id": "d77a0da8-bf64-48a8-a4d5-35661339b47e",
   "metadata": {
    "tags": []
   },
   "outputs": [
    {
     "name": "stdout",
     "output_type": "stream",
     "text": [
      "1/1 [==============================] - 1s 663ms/step\n"
     ]
    }
   ],
   "source": [
    "prediction= regressor.predict(realData)"
   ]
  },
  {
   "cell_type": "code",
   "execution_count": 43,
   "id": "02347ad7-ffae-48ad-a9b2-4ec5c20b1c2a",
   "metadata": {
    "tags": []
   },
   "outputs": [],
   "source": [
    "prediction= scaler.inverse_transform(prediction)"
   ]
  },
  {
   "cell_type": "code",
   "execution_count": 44,
   "id": "09566a1f-f9cc-4889-85b2-338b02787ee1",
   "metadata": {
    "tags": []
   },
   "outputs": [
    {
     "data": {
      "text/plain": [
       "array([[971.78815]], dtype=float32)"
      ]
     },
     "execution_count": 44,
     "metadata": {},
     "output_type": "execute_result"
    }
   ],
   "source": [
    "prediction"
   ]
  },
  {
   "cell_type": "code",
   "execution_count": 46,
   "id": "39742b81-2f89-4430-892d-538f5f2581eb",
   "metadata": {
    "tags": []
   },
   "outputs": [
    {
     "name": "stdout",
     "output_type": "stream",
     "text": [
      "attempting to save scaler values\n",
      "attempting to save dataframe\n",
      "attempting to save model\n"
     ]
    },
    {
     "name": "stderr",
     "output_type": "stream",
     "text": [
      "WARNING:absl:Found untraced functions such as lstm_cell_3_layer_call_fn, lstm_cell_3_layer_call_and_return_conditional_losses, lstm_cell_4_layer_call_fn, lstm_cell_4_layer_call_and_return_conditional_losses, lstm_cell_5_layer_call_fn while saving (showing 5 of 6). These functions will not be directly callable after loading.\n"
     ]
    },
    {
     "name": "stdout",
     "output_type": "stream",
     "text": [
      "INFO:tensorflow:Assets written to: C:\\Users\\Rohan\\AppData\\Local\\Temp\\tmpjwg7v4cf\\assets\n"
     ]
    },
    {
     "name": "stderr",
     "output_type": "stream",
     "text": [
      "INFO:tensorflow:Assets written to: C:\\Users\\Rohan\\AppData\\Local\\Temp\\tmpjwg7v4cf\\assets\n"
     ]
    }
   ],
   "source": [
    "print(\"attempting to save scaler values.........\")\n",
    "scaler_path= f\"D:\\Code\\Projects\\stockSenseAPIv2\\hourlyExports\\scalers\\{company}-scaler.pkl\"\n",
    "with open(scaler_path, 'wb') as f:\n",
    "    pickle.dump(scaler, f)\n",
    "\n",
    "print(\"attempting to save dataframe.........\")\n",
    "data_path= f\"D:\\Code\\Projects\\stockSenseAPIv2\\hourlyExports\\datas\\{company}-data.csv\"\n",
    "df.to_csv(data_path)\n",
    "\n",
    "print(\"attempting to save model...........\")\n",
    "# Load your Keras model\n",
    "#model = tf.keras.models.load_model('../model/exports/ITC.NS/')\n",
    "\n",
    "# Convert the model to TensorFlow Lite\n",
    "converter = tf.lite.TFLiteConverter.from_keras_model(regressor)\n",
    "converter.target_spec.supported_ops = [tf.lite.OpsSet.TFLITE_BUILTINS, tf.lite.OpsSet.SELECT_TF_OPS]\n",
    "converter.experimental_lower_tensor_list_ops = False  # Disable lowering of tensor list ops\n",
    "tflite_model = converter.convert()\n",
    "\n",
    "# Save the converted TensorFlow Lite model\n",
    "tflite_model_path = f\"D:\\Code\\Projects\\stockSenseAPIv2\\hourlyExports\\{company}-1.tflite\"\n",
    "with open(tflite_model_path, 'wb') as f:\n",
    "    f.write(tflite_model)\n",
    "print(\"assets saving completed!\")"
   ]
  },
  {
   "cell_type": "code",
   "execution_count": 134,
   "id": "fc4cf9fa-e4b1-48ae-a15f-301ea369c9bc",
   "metadata": {},
   "outputs": [],
   "source": []
  },
  {
   "cell_type": "code",
   "execution_count": null,
   "id": "1ec99461-e28f-455c-b933-23204a4437d6",
   "metadata": {},
   "outputs": [],
   "source": []
  }
 ],
 "metadata": {
  "kernelspec": {
   "display_name": "Python 3 (ipykernel)",
   "language": "python",
   "name": "python3"
  },
  "language_info": {
   "codemirror_mode": {
    "name": "ipython",
    "version": 3
   },
   "file_extension": ".py",
   "mimetype": "text/x-python",
   "name": "python",
   "nbconvert_exporter": "python",
   "pygments_lexer": "ipython3",
   "version": "3.10.9"
  }
 },
 "nbformat": 4,
 "nbformat_minor": 5
}
